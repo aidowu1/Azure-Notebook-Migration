{
 "cells": [
  {
   "cell_type": "markdown",
   "metadata": {
    "collapsed": true
   },
   "source": [
    "## Alternative approach for getting stock price data from Yahoo\n",
    "REF: https://github.com/BrianDAllen/pandas_yahoo_historical_stocks"
   ]
  },
  {
   "cell_type": "code",
   "execution_count": null,
   "metadata": {},
   "outputs": [],
   "source": [
    "import requests\n",
    "import datetime\n",
    "import json\n",
    "import pandas as pd\n",
    "\n",
    "\n",
    "def _convert_epoch_to_datetime(epoch_seconds):\n",
    "    epoch = datetime.datetime(1970, 1, 1)\n",
    "    dt = epoch + datetime.timedelta(seconds=epoch_seconds)\n",
    "    return dt.replace(hour=0, minute=0, second=0, microsecond=0)\n",
    "\n",
    "\n",
    "def _convert_datetime_to_epoch(dt):\n",
    "    epoch = datetime.datetime(1970, 1, 1)\n",
    "\n",
    "    return int((dt - epoch).total_seconds())\n",
    "\n",
    "\n",
    "# Collect historical prices from yahoo finance for the given ticker for the time period of start_date to end_date.\n",
    "#\n",
    "# ticker(string) - stock ticker in caps, ex: AAPL, IBM, IVV\n",
    "# start_date(datetime) - earliest date to collect price for the given ticker\n",
    "# end_date(datetime) - latest date to collect price for the given ticker\n",
    "def get_historical_prices(ticker=None, start_date=datetime.datetime(2010, 1, 1), end_date=datetime.datetime.now()):\n",
    "    # convert datetimes to epoch\n",
    "    dstart_secs = _convert_datetime_to_epoch(start_date)\n",
    "    dend_secs = _convert_datetime_to_epoch(end_date)\n",
    "\n",
    "    # set url for yahoo finance with filled in parameters\n",
    "    url = \"https://finance.yahoo.com/quote/{0}/history?period1={1}&period2={2}&interval=1d&filter=history&frequency=1d\".format(\n",
    "        ticker, dstart_secs, dend_secs)\n",
    "    response = requests.get(url).content\n",
    "\n",
    "    # find the json object in the response, format it, and load it\n",
    "    index_s = response.find(\"HistoricalPriceStore\")\n",
    "    index_e = response.find(\"isPending\", index_s)\n",
    "\n",
    "    response = response[index_s:index_e]\n",
    "    json_string = response[22:len(response) - 2] + \"}\"\n",
    "\n",
    "    mm = json.loads(json_string)\n",
    "    ticks = []\n",
    "    for row in mm[\"prices\"]:\n",
    "        if \"type\" in row:\n",
    "            continue\n",
    "        else:\n",
    "            ticks.append(row)\n",
    "\n",
    "    df_ticks = pd.DataFrame.from_dict(ticks)\n",
    "    df_ticks[\"date\"] = df_ticks[\"date\"].apply(lambda x: _convert_epoch_to_datetime(x))\n",
    "\n",
    "    return df_ticks"
   ]
  }
 ],
 "metadata": {
  "kernelspec": {
   "display_name": "Python 2",
   "language": "python",
   "name": "python2"
  },
  "language_info": {
   "codemirror_mode": {
    "name": "ipython",
    "version": 2
   },
   "file_extension": ".py",
   "mimetype": "text/x-python",
   "name": "python",
   "nbconvert_exporter": "python",
   "pygments_lexer": "ipython2",
   "version": "2.7.14"
  }
 },
 "nbformat": 4,
 "nbformat_minor": 2
}
