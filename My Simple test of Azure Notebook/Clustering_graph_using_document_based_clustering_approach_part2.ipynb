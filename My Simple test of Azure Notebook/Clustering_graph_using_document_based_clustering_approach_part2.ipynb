{
  "cells": [
    {
      "metadata": {},
      "cell_type": "markdown",
      "source": "## Clustering graph using document based clustering approach"
    },
    {
      "metadata": {
        "collapsed": true,
        "trusted": false
      },
      "cell_type": "code",
      "source": "from sklearn.feature_extraction.text import TfidfVectorizer\nfrom sklearn.cluster import KMeans\nfrom sklearn.metrics import adjusted_rand_score\nimport csv\nimport os\nimport string\nimport numpy as np",
      "execution_count": 1,
      "outputs": []
    },
    {
      "metadata": {},
      "cell_type": "markdown",
      "source": "### Source Corpus data from disc"
    },
    {
      "metadata": {
        "collapsed": true,
        "trusted": false
      },
      "cell_type": "code",
      "source": "path_folder = r\"C:\\Titan\\Data\\PartitionServiceData\"\ndata_file = r\"\\RUSH_05Oct2017_TopLevelTradeDependency_16Nov2017.csv\"\n#file_path = os.path.join(path_folder, data_file)\nfile_path = r\".\\PartitionServiceData\\RUSH_05Oct2017_TopLevelTradeDependency_16Nov2017.csv\"\ndocument_list = []\ndef createCorpus(file_path):\n    corpus = []\n    with open(file_path, 'rb') as csv_file:\n        data = csv.reader(csv_file, delimiter='|')\n        for row in data:\n            # Remove the TCN label per row\n            #row1 = row[1:]\n            #row1 = [string.replace(s, ',', '_') for s in row]\n            #row2 = [string.replace(s, ' ', '_') for s in row1]\n            #document = ' '.join(row1) \n            document = row\n            corpus.append(document)\n            #print(row2)\n    return corpus\n    #print('corpus: {}'.format(corpus))\n",
      "execution_count": 2,
      "outputs": []
    },
    {
      "metadata": {
        "trusted": false
      },
      "cell_type": "code",
      "source": "documents = [\"DiscountCurve_USD Funding_USD Time_0 Time_1,Time_2,BondDefaultCurve_ISIN_XS1405766541 BondRecovery_ISIN_XS1405766541\",\n            \"DiscountCurve_USD,Funding_USD Time_0 Time_1 Time_2 BondReferenceAsset_ISIN_XS0274618247 BondDefaultCurve_ISIN_XS0274618247 BondRecovery_ISIN_XS0274618247\",\n             \"DiscountCurve_USD,Funding_USD,Time_0,Time_1,Time_2,BondReferenceAsset_ISIN_XS1396282177 BondDefaultCurve_ISIN_XS1396282177 BondRecovery_ISIN_XS1396282177\",\n             \"DiscountCurve_USD Funding_USD Time_0 Time_1 Time_2\",\n             \"DiscountCurve_USD Funding_USD Time_0 Time_1 Time_2\",\n             \"DiscountCurve_USD Funding_USD Time_0,Time_1 Time_2 Recovery_REPUBLIC_OF_SOUTH_AFRICA_USD_Senior_Restructuring_2014_Bond DefaultCurve_REPUBLIC_OF SOUTH_AFRICA_USD_Senior_Restructuring_2014_Bond\",\n             \"DiscountCurve_USD Funding_USD Time_0 Time_1 Time_2 Recovery_REPUBLIC_OF_TURKEY_USD_Senior_Restructuring_2014_Bond DefaultCurve_REPUBLIC OF TURKEY_USD_Senior_Restructuring_2014_Bond\"\n             \n            ]\ndocuments1 = createCorpus(file_path)\ndocuments1[0:20]",
      "execution_count": 57,
      "outputs": [
        {
          "data": {
            "text/plain": "[['RUSH-XS1405766541',\n  'DiscountCurve,USD,Funding,USD,Time,0,Time,1,Time,2,BondDefaultCurve,ISIN,XS1405766541,BondRecovery,ISIN,XS1405766541'],\n ['RUSH-XS0274618247',\n  'DiscountCurve,USD,Funding,USD,Time,0,Time,1,Time,2,BondReferenceAsset,ISIN,XS0274618247,BondDefaultCurve,ISIN,XS0274618247,BondRecovery,ISIN,XS0274618247'],\n ['RUSH-XS1396282177',\n  'DiscountCurve,USD,Funding,USD,Time,0,Time,1,Time,2,BondReferenceAsset,ISIN,XS1396282177,BondDefaultCurve,ISIN,XS1396282177,BondRecovery,ISIN,XS1396282177'],\n ['501899428', 'DiscountCurve,USD,Funding,USD,Time,0,Time,1,Time,2'],\n ['501899864', 'DiscountCurve,USD,Funding,USD,Time,0,Time,1,Time,2'],\n ['501901588', 'DiscountCurve,USD,Funding,USD,Time,0,Time,1,Time,2'],\n ['501901870', 'DiscountCurve,USD,Funding,USD,Time,0,Time,1,Time,2'],\n ['501903254', 'DiscountCurve,USD,Funding,USD,Time,0,Time,1,Time,2'],\n ['501905124', 'DiscountCurve,USD,Funding,USD,Time,0,Time,1,Time,2'],\n ['501905211', 'DiscountCurve,USD,Funding,USD,Time,0,Time,1,Time,2'],\n ['501906172', 'DiscountCurve,USD,Funding,USD,Time,0,Time,1,Time,2'],\n ['501906173', 'DiscountCurve,USD,Funding,USD,Time,0,Time,1,Time,2'],\n ['501906171', 'DiscountCurve,USD,Funding,USD,Time,0,Time,1,Time,2'],\n ['501905126', 'DiscountCurve,USD,Funding,USD,Time,0,Time,1,Time,2'],\n ['501905212', 'DiscountCurve,USD,Funding,USD,Time,0,Time,1,Time,2'],\n ['501903667', 'DiscountCurve,USD,Funding,USD,Time,0,Time,1,Time,2'],\n ['666387445',\n  'DiscountCurve,USD,Funding,USD,Time,0,Time,1,Time,2,Recovery,REPUBLIC OF SOUTH AFRICA,USD,Senior,Restructuring 2014,Bond,DefaultCurve,REPUBLIC OF SOUTH AFRICA,USD,Senior,Restructuring 2014,Bond'],\n ['667671627',\n  'DiscountCurve,USD,Funding,USD,Time,0,Time,1,Time,2,Recovery,REPUBLIC OF TURKEY,USD,Senior,Restructuring 2014,Bond,DefaultCurve,REPUBLIC OF TURKEY,USD,Senior,Restructuring 2014,Bond'],\n ['667671632',\n  'DiscountCurve,USD,Funding,USD,Time,0,Time,1,Time,2,Recovery,REPUBLIC OF TURKEY,USD,Senior,Restructuring 2014,Bond,DefaultCurve,REPUBLIC OF TURKEY,USD,Senior,Restructuring 2014,Bond'],\n ['177752452',\n  'DiscountCurve,USD,Funding,USD,Time,0,Time,1,Time,2,Recovery,REPUBLIC OF CROATIA,USD,Senior,Restructuring 2014,Bond,DefaultCurve,REPUBLIC OF CROATIA,USD,Senior,Restructuring 2014,Bond']]"
          },
          "execution_count": 57,
          "metadata": {},
          "output_type": "execute_result"
        }
      ]
    },
    {
      "metadata": {
        "trusted": false
      },
      "cell_type": "code",
      "source": "def computeJaccardMeasure(a, b):\n    A = set(a)\n    B = set(b)\n    intersect_A_B = A & B\n    union_A_B = A | B\n    jaccard_measure = float(len(intersect_A_B))/float(len(union_A_B))\n    return jaccard_measure\n\ndef createJaccardDiffMatrix(data):   \n    tcns = data.keys()\n    jaccard_dif_matrix = np.zeros((len(tcns),len(tcns)))\n    for i, key1 in enumerate(tcns):\n        for j, key2 in enumerate(tcns):\n            x1 = data[tcns[i]]\n            x2 = data[tcns[j]]\n            #print(\"i,j = {0},{1}\".format(i,j))\n            #print(\"x1 = {0}, \\nx2 = {1}\\n\".format(x1, x2))\n            jaccard_dif_matrix[i,j] = computeJaccardMeasure(x1, x2)\n    return jaccard_dif_matrix\n\nfeature_space_dict = {\n'RUSH-XS1405766541':\n  'DiscountCurve_USD,Funding_USD,Time_0,Time_1,Time_2,BondDefaultCurve_ISIN_XS1405766541,BondRecovery_ISIN_XS1405766541',\n 'RUSH-XS0274618247':\n  'DiscountCurve_USD,Funding_USD,Time_0,Time_1,Time_2,BondReferenceAsset_ISIN_XS0274618247,BondDefaultCurve_ISIN_XS0274618247,BondRecovery_ISIN,XS0274618247',\n 'RUSH-XS1396282177':\n  'DiscountCurve_USD,Funding_USD,Time_0,Time_1,Time_2,BondReferenceAsset_ISIN_XS1396282177,BondDefaultCurve_ISIN,XS1396282177_BondRecovery_ISIN,XS1396282177',\n '501899428':\n 'DiscountCurve_USD,Funding_USD,Time_0,Time_1,Time_2',\n '501899864':\n 'DiscountCurve_USD,Funding_USD,Time_0,Time_1,Time_2',\n '501901588':\n 'DiscountCurve_USD,Funding_USD,Time_0,Time_1,Time_2'\n}\n\nprint(\"Jaccard Similarity Matrix is:\\n {}\".format(createJaccardDiffMatrix(feature_space_dict)))\nprint(\"\\nList of TCNs are: \\n{}\".format(feature_space_dict.keys()))\n\n",
      "execution_count": 103,
      "outputs": [
        {
          "name": "stdout",
          "output_type": "stream",
          "text": "Jaccard Similarity Matrix is:\n [[ 1.          0.92307692  0.63157895  0.63157895  0.925       0.63157895]\n [ 0.92307692  1.          0.64864865  0.64864865  0.85365854  0.64864865]\n [ 0.63157895  0.64864865  1.          1.          0.61538462  1.        ]\n [ 0.63157895  0.64864865  1.          1.          0.61538462  1.        ]\n [ 0.925       0.85365854  0.61538462  0.61538462  1.          0.61538462]\n [ 0.63157895  0.64864865  1.          1.          0.61538462  1.        ]]\n\nList of TCNs are: \n['RUSH-XS0274618247', 'RUSH-XS1405766541', '501899428', '501901588', 'RUSH-XS1396282177', '501899864']\n"
        }
      ]
    },
    {
      "metadata": {
        "trusted": false
      },
      "cell_type": "code",
      "source": "x1 = set(feature_space_dict['RUSH-XS0274618247'])\nx2 = set(feature_space_dict['501901588'])\ncomputeJaccardMeasure(x1, x2)",
      "execution_count": 106,
      "outputs": [
        {
          "data": {
            "text/plain": "0.631578947368421"
          },
          "execution_count": 106,
          "metadata": {},
          "output_type": "execute_result"
        }
      ]
    },
    {
      "metadata": {},
      "cell_type": "markdown",
      "source": "### Vectorize the corpus data to convert the data from text to numeric format"
    },
    {
      "metadata": {
        "trusted": false
      },
      "cell_type": "code",
      "source": "vectorizer = TfidfVectorizer(stop_words='english',lowercase=False)\nX = vectorizer.fit_transform(documents)\n",
      "execution_count": 41,
      "outputs": []
    },
    {
      "metadata": {},
      "cell_type": "markdown",
      "source": "### Display the Document Term Matrix"
    },
    {
      "metadata": {
        "trusted": false
      },
      "cell_type": "code",
      "source": "X.toarray()",
      "execution_count": 42,
      "outputs": [
        {
          "data": {
            "text/plain": "array([[ 0.        ,  0.        ,  0.58945468,  0.        ,  0.        ,\n         0.58945468,  0.        ,  0.        ,  0.        ,  0.        ,\n         0.24701675,  0.24701675,  0.        ,  0.        ,  0.        ,\n         0.        ,  0.        ,  0.24701675,  0.24701675,  0.24701675],\n       [ 0.50780034,  0.        ,  0.        ,  0.50780034,  0.        ,\n         0.        ,  0.50780034,  0.        ,  0.        ,  0.        ,\n         0.2127987 ,  0.2127987 ,  0.        ,  0.        ,  0.        ,\n         0.        ,  0.        ,  0.2127987 ,  0.2127987 ,  0.2127987 ],\n       [ 0.        ,  0.50780034,  0.        ,  0.        ,  0.50780034,\n         0.        ,  0.        ,  0.50780034,  0.        ,  0.        ,\n         0.2127987 ,  0.2127987 ,  0.        ,  0.        ,  0.        ,\n         0.        ,  0.        ,  0.2127987 ,  0.2127987 ,  0.2127987 ],\n       [ 0.        ,  0.        ,  0.        ,  0.        ,  0.        ,\n         0.        ,  0.        ,  0.        ,  0.        ,  0.        ,\n         0.4472136 ,  0.4472136 ,  0.        ,  0.        ,  0.        ,\n         0.        ,  0.        ,  0.4472136 ,  0.4472136 ,  0.4472136 ],\n       [ 0.        ,  0.        ,  0.        ,  0.        ,  0.        ,\n         0.        ,  0.        ,  0.        ,  0.        ,  0.        ,\n         0.4472136 ,  0.4472136 ,  0.        ,  0.        ,  0.        ,\n         0.        ,  0.        ,  0.4472136 ,  0.4472136 ,  0.4472136 ],\n       [ 0.        ,  0.        ,  0.        ,  0.        ,  0.        ,\n         0.        ,  0.        ,  0.        ,  0.        ,  0.50780034,\n         0.2127987 ,  0.2127987 ,  0.        ,  0.50780034,  0.        ,\n         0.50780034,  0.        ,  0.2127987 ,  0.2127987 ,  0.2127987 ],\n       [ 0.        ,  0.        ,  0.        ,  0.        ,  0.        ,\n         0.        ,  0.        ,  0.        ,  0.45276894,  0.        ,\n         0.18973726,  0.18973726,  0.45276894,  0.        ,  0.45276894,\n         0.        ,  0.45276894,  0.18973726,  0.18973726,  0.18973726]])"
          },
          "execution_count": 42,
          "metadata": {},
          "output_type": "execute_result"
        }
      ]
    },
    {
      "metadata": {},
      "cell_type": "markdown",
      "source": "### Now cluster the data - using kmeans"
    },
    {
      "metadata": {
        "trusted": false
      },
      "cell_type": "code",
      "source": "true_k = 2\nmodel = KMeans(n_clusters=true_k, init='k-means++', max_iter=100, n_init=1)\nmodel.fit(X)",
      "execution_count": 48,
      "outputs": [
        {
          "data": {
            "text/plain": "KMeans(copy_x=True, init='k-means++', max_iter=100, n_clusters=2, n_init=1,\n    n_jobs=1, precompute_distances='auto', random_state=None, tol=0.0001,\n    verbose=0)"
          },
          "execution_count": 48,
          "metadata": {},
          "output_type": "execute_result"
        }
      ]
    },
    {
      "metadata": {},
      "cell_type": "markdown",
      "source": "### Display the computed clusters"
    },
    {
      "metadata": {
        "trusted": false
      },
      "cell_type": "code",
      "source": "model.cluster_centers_.argsort()",
      "execution_count": 49,
      "outputs": [
        {
          "data": {
            "text/plain": "array([[ 9,  1,  2,  4,  5, 16,  7,  8, 15, 14, 13, 12, 17, 19, 10, 18, 11,\n         6,  3,  0],\n       [ 0,  3,  6, 16, 14, 12,  8, 15, 13,  9,  7,  4,  1,  5,  2, 10, 11,\n        17, 18, 19]], dtype=int64)"
          },
          "execution_count": 49,
          "metadata": {},
          "output_type": "execute_result"
        }
      ]
    },
    {
      "metadata": {
        "trusted": false
      },
      "cell_type": "code",
      "source": "model.cluster_centers_.argsort()[:, ::-1]",
      "execution_count": 45,
      "outputs": [
        {
          "data": {
            "text/plain": "array([[19, 17, 11, 10, 18,  2,  5,  7,  1,  3,  4,  6,  9, 13, 15,  0,  8,\n        12, 14, 16],\n       [16, 14, 12,  8, 19, 17, 11, 10, 18,  5,  1,  2,  3,  4,  9,  6,  7,\n        13, 15,  0]], dtype=int64)"
          },
          "execution_count": 45,
          "metadata": {},
          "output_type": "execute_result"
        }
      ]
    },
    {
      "metadata": {
        "trusted": false
      },
      "cell_type": "code",
      "source": "print(\"Top terms per cluster:\")\norder_centroids = model.cluster_centers_.argsort()[:, ::-1]\nterms = vectorizer.get_feature_names()\nfor i in range(true_k):\n    print \"Cluster %d:\" % i,\n    for ind in order_centroids[i, :10]:\n        print ' %s' % terms[ind],\n    print",
      "execution_count": 50,
      "outputs": [
        {
          "name": "stdout",
          "output_type": "stream",
          "text": "Top terms per cluster:\nCluster 0:  BondDefaultCurve_ISIN_XS0274618247  BondRecovery_ISIN_XS0274618247  BondReferenceAsset_ISIN_XS0274618247  Funding_USD  Time_1  DiscountCurve_USD  Time_2  Time_0  OF  Recovery_REPUBLIC_OF_SOUTH_AFRICA_USD_Senior_Restructuring_2014_Bond\nCluster 1:  Time_2  Time_1  Time_0  Funding_USD  DiscountCurve_USD  BondDefaultCurve_ISIN_XS1405766541  BondRecovery_ISIN_XS1405766541  BondDefaultCurve_ISIN_XS1396282177  BondRecovery_ISIN_XS1396282177  BondReferenceAsset_ISIN_XS1396282177\n"
        }
      ]
    },
    {
      "metadata": {
        "collapsed": true,
        "trusted": false
      },
      "cell_type": "code",
      "source": "",
      "execution_count": null,
      "outputs": []
    },
    {
      "metadata": {
        "collapsed": true,
        "trusted": false
      },
      "cell_type": "code",
      "source": "",
      "execution_count": null,
      "outputs": []
    }
  ],
  "metadata": {
    "kernelspec": {
      "name": "python2",
      "display_name": "Python 2",
      "language": "python"
    },
    "language_info": {
      "mimetype": "text/x-python",
      "nbconvert_exporter": "python",
      "name": "python",
      "pygments_lexer": "ipython2",
      "version": "2.7.15",
      "file_extension": ".py",
      "codemirror_mode": {
        "version": 2,
        "name": "ipython"
      }
    }
  },
  "nbformat": 4,
  "nbformat_minor": 1
}