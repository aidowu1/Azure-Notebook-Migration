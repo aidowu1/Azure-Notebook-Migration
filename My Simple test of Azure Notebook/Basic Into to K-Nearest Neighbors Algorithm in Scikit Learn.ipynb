{
 "cells": [
  {
   "cell_type": "markdown",
   "metadata": {
    "collapsed": true
   },
   "source": [
    "## Basic Into to K-Nearest Neighbors Algorithm in Scikit Learn"
   ]
  },
  {
   "cell_type": "code",
   "execution_count": 1,
   "metadata": {},
   "outputs": [],
   "source": [
    "from sklearn.neighbors import NearestNeighbors\n",
    "import numpy as np"
   ]
  },
  {
   "cell_type": "markdown",
   "metadata": {},
   "source": [
    "### First example is for a 2D set of points and a search of 3 closest neighbors to a single search point "
   ]
  },
  {
   "cell_type": "code",
   "execution_count": 2,
   "metadata": {},
   "outputs": [
    {
     "name": "stdout",
     "output_type": "stream",
     "text": [
      "Distance is: [[ 0.          1.          2.23606798]]\n",
      "Indices of closest points are: [[0 1 3]]\n",
      " A sparse graph showing the connections between neighboring points is shown here: [[ 1.  1.  0.  1.  0.  0.]]\n"
     ]
    }
   ],
   "source": [
    "data = np.array([[-1, -1], [-2, -1], [1,1], [-3, -2], [2, 1], [3, 2]])\n",
    "new_pont1 = np.array([-1,-1])\n",
    "new_pont1 = new_pont1.reshape(1,-1)\n",
    "n_neighbors = 3\n",
    "nbrs = NearestNeighbors(n_neighbors=n_neighbors, algorithm='ball_tree').fit(data)\n",
    "dist, ind = nbrs.kneighbors(new_pont1)\n",
    "print(\"Distance is: {}\".format(dist))\n",
    "print(\"Indices of closest points are: {}\".format(ind))\n",
    "graph = nbrs.kneighbors_graph(new_pont1).toarray()\n",
    "print(\" A sparse graph showing the connections between neighboring points is shown here: {}\".format(graph))"
   ]
  },
  {
   "cell_type": "markdown",
   "metadata": {},
   "source": [
    "### Next example is for a 2D set of points and serch of 3 closest neighbors to 2 pair of search points"
   ]
  },
  {
   "cell_type": "code",
   "execution_count": 3,
   "metadata": {},
   "outputs": [
    {
     "name": "stdout",
     "output_type": "stream",
     "text": [
      "Distance is: \n",
      "[[ 0.          1.          2.23606798]\n",
      " [ 0.          1.          2.23606798]]\n",
      "Indices of closest points are: \n",
      "[[0 1 3]\n",
      " [2 4 5]]\n",
      " A sparse graph showing the connections between neighboring points is shown here: \n",
      "[[ 1.  1.  0.  1.  0.  0.]\n",
      " [ 0.  0.  1.  0.  1.  1.]]\n"
     ]
    }
   ],
   "source": [
    "new_pont2 = np.array([[-1,-1], [1, 1]])\n",
    "dist, ind = nbrs.kneighbors(new_pont2)\n",
    "print(\"Distance is: \\n{}\".format(dist))\n",
    "print(\"Indices of closest points are: \\n{}\".format(ind))\n",
    "graph = nbrs.kneighbors_graph(new_pont2).toarray()\n",
    "print(\" A sparse graph showing the connections between neighboring points is shown here: \\n{}\".format(graph))"
   ]
  },
  {
   "cell_type": "code",
   "execution_count": null,
   "metadata": {
    "collapsed": true
   },
   "outputs": [],
   "source": []
  }
 ],
 "metadata": {
  "kernelspec": {
   "display_name": "Python 2",
   "language": "python",
   "name": "python2"
  },
  "language_info": {
   "codemirror_mode": {
    "name": "ipython",
    "version": 2
   },
   "file_extension": ".py",
   "mimetype": "text/x-python",
   "name": "python",
   "nbconvert_exporter": "python",
   "pygments_lexer": "ipython2",
   "version": "2.7.14"
  }
 },
 "nbformat": 4,
 "nbformat_minor": 2
}
