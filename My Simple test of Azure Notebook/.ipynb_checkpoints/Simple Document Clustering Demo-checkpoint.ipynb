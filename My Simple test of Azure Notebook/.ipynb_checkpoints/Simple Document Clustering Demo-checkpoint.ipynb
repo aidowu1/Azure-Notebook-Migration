{
  "cells": [
    {
      "metadata": {
        "collapsed": true
      },
      "cell_type": "markdown",
      "source": "## Simple Document Clustering Demo\n"
    },
    {
      "metadata": {},
      "cell_type": "markdown",
      "source": "### Define imports"
    },
    {
      "metadata": {
        "trusted": true
      },
      "cell_type": "code",
      "source": "from sklearn.feature_extraction.text import TfidfVectorizer\nfrom sklearn.cluster import KMeans\nfrom sklearn.metrics import adjusted_rand_score\nimport csv\nimport os\nimport string\nimport numpy as np",
      "execution_count": 1,
      "outputs": []
    },
    {
      "metadata": {},
      "cell_type": "markdown",
      "source": "### Define the document"
    },
    {
      "metadata": {
        "trusted": true
      },
      "cell_type": "code",
      "source": "documents = [\"This little kitty came to play when I was eating at a restaurant.\",\n             \"Merley has the best squooshy kitten belly.\",\n             \"Google Translate app is incredible.\",\n             \"If you open 100 tab in google you get a smiley face.\",\n             \"Best cat photo I've ever taken.\",\n             \"Climbing ninja cat.\",\n             \"Impressed with google map feedback.\",\n             \"Key promoter extension for Google Chrome.\"]",
      "execution_count": 2,
      "outputs": []
    },
    {
      "metadata": {},
      "cell_type": "markdown",
      "source": "### Vectorize the text using Term Frequency - Inverse Document Frequency (TF-IDF)"
    },
    {
      "metadata": {
        "trusted": true
      },
      "cell_type": "code",
      "source": "vectorizer = TfidfVectorizer(stop_words='english')\nX = vectorizer.fit_transform(documents)",
      "execution_count": 3,
      "outputs": []
    },
    {
      "metadata": {},
      "cell_type": "markdown",
      "source": "### Specify Clustering Model (Kmeans) and train it too cluster the document into 2 categories"
    },
    {
      "metadata": {
        "trusted": true
      },
      "cell_type": "code",
      "source": "true_k = 2\nmodel = KMeans(n_clusters=true_k, init='k-means++', max_iter=100, n_init=1)\nmodel.fit(X)\n",
      "execution_count": 4,
      "outputs": [
        {
          "output_type": "execute_result",
          "execution_count": 4,
          "data": {
            "text/plain": "KMeans(algorithm='auto', copy_x=True, init='k-means++', max_iter=100,\n    n_clusters=2, n_init=1, n_jobs=1, precompute_distances='auto',\n    random_state=None, tol=0.0001, verbose=0)"
          },
          "metadata": {}
        }
      ]
    },
    {
      "metadata": {},
      "cell_type": "markdown",
      "source": "### Let us view the result of the clustering"
    },
    {
      "metadata": {
        "trusted": true
      },
      "cell_type": "code",
      "source": "print(\"Top terms per cluster:\")\norder_centroids = model.cluster_centers_.argsort()[:, ::-1]\nterms = vectorizer.get_feature_names()\nfor i in range(true_k):\n    print(\"Cluster %d:\" % i),\n    for ind in order_centroids[i, :10]:\n        print(' %s' % terms[ind]),\n    print\n\nprint(\"\\n\")\n#print(\"Prediction\")",
      "execution_count": 6,
      "outputs": [
        {
          "output_type": "stream",
          "text": "Top terms per cluster:\nCluster 0:\n cat\n best\n climbing\n ninja\n ve\n photo\n taken\n belly\n merley\n kitten\nCluster 1:\n google\n feedback\n map\n app\n impressed\n incredible\n translate\n key\n extension\n chrome\n\n\n",
          "name": "stdout"
        }
      ]
    },
    {
      "metadata": {},
      "cell_type": "markdown",
      "source": "### Now let us use the model to predict clusters new data belongs to"
    },
    {
      "metadata": {
        "trusted": true
      },
      "cell_type": "code",
      "source": "Y = vectorizer.transform([\"chrome browser to open.\"])\nprediction = model.predict(Y)\nprint(prediction)\n\nY = vectorizer.transform([\"My cat is hungry.\"])\nprediction = model.predict(Y)\nprint(prediction)",
      "execution_count": 7,
      "outputs": [
        {
          "output_type": "stream",
          "text": "[1]\n[0]\n",
          "name": "stdout"
        }
      ]
    },
    {
      "metadata": {
        "trusted": true
      },
      "cell_type": "code",
      "source": "",
      "execution_count": null,
      "outputs": []
    }
  ],
  "metadata": {
    "kernelspec": {
      "name": "python36",
      "display_name": "Python 3.6",
      "language": "python"
    },
    "language_info": {
      "mimetype": "text/x-python",
      "nbconvert_exporter": "python",
      "name": "python",
      "pygments_lexer": "ipython3",
      "version": "3.6.6",
      "file_extension": ".py",
      "codemirror_mode": {
        "version": 3,
        "name": "ipython"
      }
    }
  },
  "nbformat": 4,
  "nbformat_minor": 2
}