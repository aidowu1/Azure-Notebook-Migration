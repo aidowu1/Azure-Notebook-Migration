{
 "cells": [
  {
   "cell_type": "markdown",
   "metadata": {},
   "source": [
    "## Clustering graph using document based clustering approach"
   ]
  },
  {
   "cell_type": "code",
   "execution_count": 1,
   "metadata": {
    "collapsed": true
   },
   "outputs": [],
   "source": [
    "from sklearn.feature_extraction.text import TfidfVectorizer\n",
    "from sklearn.cluster import KMeans\n",
    "from sklearn.metrics import adjusted_rand_score\n",
    "import csv\n",
    "import os\n",
    "import string\n",
    "import numpy as np"
   ]
  },
  {
   "cell_type": "markdown",
   "metadata": {},
   "source": [
    "### Source Corpus data from disc"
   ]
  },
  {
   "cell_type": "code",
   "execution_count": 2,
   "metadata": {
    "collapsed": true
   },
   "outputs": [],
   "source": [
    "path_folder = r\"C:\\Titan\\Data\\PartitionServiceData\"\n",
    "data_file = r\"\\RUSH_05Oct2017_TopLevelTradeDependency_16Nov2017.csv\"\n",
    "#file_path = os.path.join(path_folder, data_file)\n",
    "file_path = r\".\\PartitionServiceData\\RUSH_05Oct2017_TopLevelTradeDependency_16Nov2017.csv\"\n",
    "document_list = []\n",
    "def createCorpus(file_path):\n",
    "    corpus = []\n",
    "    with open(file_path, 'rb') as csv_file:\n",
    "        data = csv.reader(csv_file, delimiter='|')\n",
    "        for row in data:\n",
    "            # Remove the TCN label per row\n",
    "            #row1 = row[1:]\n",
    "            #row1 = [string.replace(s, ',', '_') for s in row]\n",
    "            #row2 = [string.replace(s, ' ', '_') for s in row1]\n",
    "            #document = ' '.join(row1) \n",
    "            document = row\n",
    "            corpus.append(document)\n",
    "            #print(row2)\n",
    "    return corpus\n",
    "    #print('corpus: {}'.format(corpus))\n"
   ]
  },
  {
   "cell_type": "code",
   "execution_count": 57,
   "metadata": {},
   "outputs": [
    {
     "data": {
      "text/plain": [
       "[['RUSH-XS1405766541',\n",
       "  'DiscountCurve,USD,Funding,USD,Time,0,Time,1,Time,2,BondDefaultCurve,ISIN,XS1405766541,BondRecovery,ISIN,XS1405766541'],\n",
       " ['RUSH-XS0274618247',\n",
       "  'DiscountCurve,USD,Funding,USD,Time,0,Time,1,Time,2,BondReferenceAsset,ISIN,XS0274618247,BondDefaultCurve,ISIN,XS0274618247,BondRecovery,ISIN,XS0274618247'],\n",
       " ['RUSH-XS1396282177',\n",
       "  'DiscountCurve,USD,Funding,USD,Time,0,Time,1,Time,2,BondReferenceAsset,ISIN,XS1396282177,BondDefaultCurve,ISIN,XS1396282177,BondRecovery,ISIN,XS1396282177'],\n",
       " ['501899428', 'DiscountCurve,USD,Funding,USD,Time,0,Time,1,Time,2'],\n",
       " ['501899864', 'DiscountCurve,USD,Funding,USD,Time,0,Time,1,Time,2'],\n",
       " ['501901588', 'DiscountCurve,USD,Funding,USD,Time,0,Time,1,Time,2'],\n",
       " ['501901870', 'DiscountCurve,USD,Funding,USD,Time,0,Time,1,Time,2'],\n",
       " ['501903254', 'DiscountCurve,USD,Funding,USD,Time,0,Time,1,Time,2'],\n",
       " ['501905124', 'DiscountCurve,USD,Funding,USD,Time,0,Time,1,Time,2'],\n",
       " ['501905211', 'DiscountCurve,USD,Funding,USD,Time,0,Time,1,Time,2'],\n",
       " ['501906172', 'DiscountCurve,USD,Funding,USD,Time,0,Time,1,Time,2'],\n",
       " ['501906173', 'DiscountCurve,USD,Funding,USD,Time,0,Time,1,Time,2'],\n",
       " ['501906171', 'DiscountCurve,USD,Funding,USD,Time,0,Time,1,Time,2'],\n",
       " ['501905126', 'DiscountCurve,USD,Funding,USD,Time,0,Time,1,Time,2'],\n",
       " ['501905212', 'DiscountCurve,USD,Funding,USD,Time,0,Time,1,Time,2'],\n",
       " ['501903667', 'DiscountCurve,USD,Funding,USD,Time,0,Time,1,Time,2'],\n",
       " ['666387445',\n",
       "  'DiscountCurve,USD,Funding,USD,Time,0,Time,1,Time,2,Recovery,REPUBLIC OF SOUTH AFRICA,USD,Senior,Restructuring 2014,Bond,DefaultCurve,REPUBLIC OF SOUTH AFRICA,USD,Senior,Restructuring 2014,Bond'],\n",
       " ['667671627',\n",
       "  'DiscountCurve,USD,Funding,USD,Time,0,Time,1,Time,2,Recovery,REPUBLIC OF TURKEY,USD,Senior,Restructuring 2014,Bond,DefaultCurve,REPUBLIC OF TURKEY,USD,Senior,Restructuring 2014,Bond'],\n",
       " ['667671632',\n",
       "  'DiscountCurve,USD,Funding,USD,Time,0,Time,1,Time,2,Recovery,REPUBLIC OF TURKEY,USD,Senior,Restructuring 2014,Bond,DefaultCurve,REPUBLIC OF TURKEY,USD,Senior,Restructuring 2014,Bond'],\n",
       " ['177752452',\n",
       "  'DiscountCurve,USD,Funding,USD,Time,0,Time,1,Time,2,Recovery,REPUBLIC OF CROATIA,USD,Senior,Restructuring 2014,Bond,DefaultCurve,REPUBLIC OF CROATIA,USD,Senior,Restructuring 2014,Bond']]"
      ]
     },
     "execution_count": 57,
     "metadata": {},
     "output_type": "execute_result"
    }
   ],
   "source": [
    "documents = [\"DiscountCurve_USD Funding_USD Time_0 Time_1,Time_2,BondDefaultCurve_ISIN_XS1405766541 BondRecovery_ISIN_XS1405766541\",\n",
    "            \"DiscountCurve_USD,Funding_USD Time_0 Time_1 Time_2 BondReferenceAsset_ISIN_XS0274618247 BondDefaultCurve_ISIN_XS0274618247 BondRecovery_ISIN_XS0274618247\",\n",
    "             \"DiscountCurve_USD,Funding_USD,Time_0,Time_1,Time_2,BondReferenceAsset_ISIN_XS1396282177 BondDefaultCurve_ISIN_XS1396282177 BondRecovery_ISIN_XS1396282177\",\n",
    "             \"DiscountCurve_USD Funding_USD Time_0 Time_1 Time_2\",\n",
    "             \"DiscountCurve_USD Funding_USD Time_0 Time_1 Time_2\",\n",
    "             \"DiscountCurve_USD Funding_USD Time_0,Time_1 Time_2 Recovery_REPUBLIC_OF_SOUTH_AFRICA_USD_Senior_Restructuring_2014_Bond DefaultCurve_REPUBLIC_OF SOUTH_AFRICA_USD_Senior_Restructuring_2014_Bond\",\n",
    "             \"DiscountCurve_USD Funding_USD Time_0 Time_1 Time_2 Recovery_REPUBLIC_OF_TURKEY_USD_Senior_Restructuring_2014_Bond DefaultCurve_REPUBLIC OF TURKEY_USD_Senior_Restructuring_2014_Bond\"\n",
    "             \n",
    "            ]\n",
    "documents1 = createCorpus(file_path)\n",
    "documents1[0:20]"
   ]
  },
  {
   "cell_type": "code",
   "execution_count": 103,
   "metadata": {},
   "outputs": [
    {
     "name": "stdout",
     "output_type": "stream",
     "text": [
      "Jaccard Similarity Matrix is:\n",
      " [[ 1.          0.92307692  0.63157895  0.63157895  0.925       0.63157895]\n",
      " [ 0.92307692  1.          0.64864865  0.64864865  0.85365854  0.64864865]\n",
      " [ 0.63157895  0.64864865  1.          1.          0.61538462  1.        ]\n",
      " [ 0.63157895  0.64864865  1.          1.          0.61538462  1.        ]\n",
      " [ 0.925       0.85365854  0.61538462  0.61538462  1.          0.61538462]\n",
      " [ 0.63157895  0.64864865  1.          1.          0.61538462  1.        ]]\n",
      "\n",
      "List of TCNs are: \n",
      "['RUSH-XS0274618247', 'RUSH-XS1405766541', '501899428', '501901588', 'RUSH-XS1396282177', '501899864']\n"
     ]
    }
   ],
   "source": [
    "def computeJaccardMeasure(a, b):\n",
    "    A = set(a)\n",
    "    B = set(b)\n",
    "    intersect_A_B = A & B\n",
    "    union_A_B = A | B\n",
    "    jaccard_measure = float(len(intersect_A_B))/float(len(union_A_B))\n",
    "    return jaccard_measure\n",
    "\n",
    "def createJaccardDiffMatrix(data):   \n",
    "    tcns = data.keys()\n",
    "    jaccard_dif_matrix = np.zeros((len(tcns),len(tcns)))\n",
    "    for i, key1 in enumerate(tcns):\n",
    "        for j, key2 in enumerate(tcns):\n",
    "            x1 = data[tcns[i]]\n",
    "            x2 = data[tcns[j]]\n",
    "            #print(\"i,j = {0},{1}\".format(i,j))\n",
    "            #print(\"x1 = {0}, \\nx2 = {1}\\n\".format(x1, x2))\n",
    "            jaccard_dif_matrix[i,j] = computeJaccardMeasure(x1, x2)\n",
    "    return jaccard_dif_matrix\n",
    "\n",
    "feature_space_dict = {\n",
    "'RUSH-XS1405766541':\n",
    "  'DiscountCurve_USD,Funding_USD,Time_0,Time_1,Time_2,BondDefaultCurve_ISIN_XS1405766541,BondRecovery_ISIN_XS1405766541',\n",
    " 'RUSH-XS0274618247':\n",
    "  'DiscountCurve_USD,Funding_USD,Time_0,Time_1,Time_2,BondReferenceAsset_ISIN_XS0274618247,BondDefaultCurve_ISIN_XS0274618247,BondRecovery_ISIN,XS0274618247',\n",
    " 'RUSH-XS1396282177':\n",
    "  'DiscountCurve_USD,Funding_USD,Time_0,Time_1,Time_2,BondReferenceAsset_ISIN_XS1396282177,BondDefaultCurve_ISIN,XS1396282177_BondRecovery_ISIN,XS1396282177',\n",
    " '501899428':\n",
    " 'DiscountCurve_USD,Funding_USD,Time_0,Time_1,Time_2',\n",
    " '501899864':\n",
    " 'DiscountCurve_USD,Funding_USD,Time_0,Time_1,Time_2',\n",
    " '501901588':\n",
    " 'DiscountCurve_USD,Funding_USD,Time_0,Time_1,Time_2'\n",
    "}\n",
    "\n",
    "print(\"Jaccard Similarity Matrix is:\\n {}\".format(createJaccardDiffMatrix(feature_space_dict)))\n",
    "print(\"\\nList of TCNs are: \\n{}\".format(feature_space_dict.keys()))\n",
    "\n"
   ]
  },
  {
   "cell_type": "code",
   "execution_count": 106,
   "metadata": {},
   "outputs": [
    {
     "data": {
      "text/plain": [
       "0.631578947368421"
      ]
     },
     "execution_count": 106,
     "metadata": {},
     "output_type": "execute_result"
    }
   ],
   "source": [
    "x1 = set(feature_space_dict['RUSH-XS0274618247'])\n",
    "x2 = set(feature_space_dict['501901588'])\n",
    "computeJaccardMeasure(x1, x2)"
   ]
  },
  {
   "cell_type": "markdown",
   "metadata": {},
   "source": [
    "### Vectorize the corpus data to convert the data from text to numeric format"
   ]
  },
  {
   "cell_type": "code",
   "execution_count": 41,
   "metadata": {},
   "outputs": [],
   "source": [
    "vectorizer = TfidfVectorizer(stop_words='english',lowercase=False)\n",
    "X = vectorizer.fit_transform(documents)\n"
   ]
  },
  {
   "cell_type": "markdown",
   "metadata": {},
   "source": [
    "### Display the Document Term Matrix"
   ]
  },
  {
   "cell_type": "code",
   "execution_count": 42,
   "metadata": {},
   "outputs": [
    {
     "data": {
      "text/plain": [
       "array([[ 0.        ,  0.        ,  0.58945468,  0.        ,  0.        ,\n",
       "         0.58945468,  0.        ,  0.        ,  0.        ,  0.        ,\n",
       "         0.24701675,  0.24701675,  0.        ,  0.        ,  0.        ,\n",
       "         0.        ,  0.        ,  0.24701675,  0.24701675,  0.24701675],\n",
       "       [ 0.50780034,  0.        ,  0.        ,  0.50780034,  0.        ,\n",
       "         0.        ,  0.50780034,  0.        ,  0.        ,  0.        ,\n",
       "         0.2127987 ,  0.2127987 ,  0.        ,  0.        ,  0.        ,\n",
       "         0.        ,  0.        ,  0.2127987 ,  0.2127987 ,  0.2127987 ],\n",
       "       [ 0.        ,  0.50780034,  0.        ,  0.        ,  0.50780034,\n",
       "         0.        ,  0.        ,  0.50780034,  0.        ,  0.        ,\n",
       "         0.2127987 ,  0.2127987 ,  0.        ,  0.        ,  0.        ,\n",
       "         0.        ,  0.        ,  0.2127987 ,  0.2127987 ,  0.2127987 ],\n",
       "       [ 0.        ,  0.        ,  0.        ,  0.        ,  0.        ,\n",
       "         0.        ,  0.        ,  0.        ,  0.        ,  0.        ,\n",
       "         0.4472136 ,  0.4472136 ,  0.        ,  0.        ,  0.        ,\n",
       "         0.        ,  0.        ,  0.4472136 ,  0.4472136 ,  0.4472136 ],\n",
       "       [ 0.        ,  0.        ,  0.        ,  0.        ,  0.        ,\n",
       "         0.        ,  0.        ,  0.        ,  0.        ,  0.        ,\n",
       "         0.4472136 ,  0.4472136 ,  0.        ,  0.        ,  0.        ,\n",
       "         0.        ,  0.        ,  0.4472136 ,  0.4472136 ,  0.4472136 ],\n",
       "       [ 0.        ,  0.        ,  0.        ,  0.        ,  0.        ,\n",
       "         0.        ,  0.        ,  0.        ,  0.        ,  0.50780034,\n",
       "         0.2127987 ,  0.2127987 ,  0.        ,  0.50780034,  0.        ,\n",
       "         0.50780034,  0.        ,  0.2127987 ,  0.2127987 ,  0.2127987 ],\n",
       "       [ 0.        ,  0.        ,  0.        ,  0.        ,  0.        ,\n",
       "         0.        ,  0.        ,  0.        ,  0.45276894,  0.        ,\n",
       "         0.18973726,  0.18973726,  0.45276894,  0.        ,  0.45276894,\n",
       "         0.        ,  0.45276894,  0.18973726,  0.18973726,  0.18973726]])"
      ]
     },
     "execution_count": 42,
     "metadata": {},
     "output_type": "execute_result"
    }
   ],
   "source": [
    "X.toarray()"
   ]
  },
  {
   "cell_type": "markdown",
   "metadata": {},
   "source": [
    "### Now cluster the data - using kmeans"
   ]
  },
  {
   "cell_type": "code",
   "execution_count": 48,
   "metadata": {},
   "outputs": [
    {
     "data": {
      "text/plain": [
       "KMeans(copy_x=True, init='k-means++', max_iter=100, n_clusters=2, n_init=1,\n",
       "    n_jobs=1, precompute_distances='auto', random_state=None, tol=0.0001,\n",
       "    verbose=0)"
      ]
     },
     "execution_count": 48,
     "metadata": {},
     "output_type": "execute_result"
    }
   ],
   "source": [
    "true_k = 2\n",
    "model = KMeans(n_clusters=true_k, init='k-means++', max_iter=100, n_init=1)\n",
    "model.fit(X)"
   ]
  },
  {
   "cell_type": "markdown",
   "metadata": {},
   "source": [
    "### Display the computed clusters"
   ]
  },
  {
   "cell_type": "code",
   "execution_count": 49,
   "metadata": {},
   "outputs": [
    {
     "data": {
      "text/plain": [
       "array([[ 9,  1,  2,  4,  5, 16,  7,  8, 15, 14, 13, 12, 17, 19, 10, 18, 11,\n",
       "         6,  3,  0],\n",
       "       [ 0,  3,  6, 16, 14, 12,  8, 15, 13,  9,  7,  4,  1,  5,  2, 10, 11,\n",
       "        17, 18, 19]], dtype=int64)"
      ]
     },
     "execution_count": 49,
     "metadata": {},
     "output_type": "execute_result"
    }
   ],
   "source": [
    "model.cluster_centers_.argsort()"
   ]
  },
  {
   "cell_type": "code",
   "execution_count": 45,
   "metadata": {},
   "outputs": [
    {
     "data": {
      "text/plain": [
       "array([[19, 17, 11, 10, 18,  2,  5,  7,  1,  3,  4,  6,  9, 13, 15,  0,  8,\n",
       "        12, 14, 16],\n",
       "       [16, 14, 12,  8, 19, 17, 11, 10, 18,  5,  1,  2,  3,  4,  9,  6,  7,\n",
       "        13, 15,  0]], dtype=int64)"
      ]
     },
     "execution_count": 45,
     "metadata": {},
     "output_type": "execute_result"
    }
   ],
   "source": [
    "model.cluster_centers_.argsort()[:, ::-1]"
   ]
  },
  {
   "cell_type": "code",
   "execution_count": 50,
   "metadata": {},
   "outputs": [
    {
     "name": "stdout",
     "output_type": "stream",
     "text": [
      "Top terms per cluster:\n",
      "Cluster 0:  BondDefaultCurve_ISIN_XS0274618247  BondRecovery_ISIN_XS0274618247  BondReferenceAsset_ISIN_XS0274618247  Funding_USD  Time_1  DiscountCurve_USD  Time_2  Time_0  OF  Recovery_REPUBLIC_OF_SOUTH_AFRICA_USD_Senior_Restructuring_2014_Bond\n",
      "Cluster 1:  Time_2  Time_1  Time_0  Funding_USD  DiscountCurve_USD  BondDefaultCurve_ISIN_XS1405766541  BondRecovery_ISIN_XS1405766541  BondDefaultCurve_ISIN_XS1396282177  BondRecovery_ISIN_XS1396282177  BondReferenceAsset_ISIN_XS1396282177\n"
     ]
    }
   ],
   "source": [
    "print(\"Top terms per cluster:\")\n",
    "order_centroids = model.cluster_centers_.argsort()[:, ::-1]\n",
    "terms = vectorizer.get_feature_names()\n",
    "for i in range(true_k):\n",
    "    print \"Cluster %d:\" % i,\n",
    "    for ind in order_centroids[i, :10]:\n",
    "        print ' %s' % terms[ind],\n",
    "    print"
   ]
  },
  {
   "cell_type": "code",
   "execution_count": null,
   "metadata": {
    "collapsed": true
   },
   "outputs": [],
   "source": []
  },
  {
   "cell_type": "code",
   "execution_count": null,
   "metadata": {
    "collapsed": true
   },
   "outputs": [],
   "source": []
  }
 ],
 "metadata": {
  "kernelspec": {
   "display_name": "Python 2",
   "language": "python",
   "name": "python2"
  },
  "language_info": {
   "codemirror_mode": {
    "name": "ipython",
    "version": 2
   },
   "file_extension": ".py",
   "mimetype": "text/x-python",
   "name": "python",
   "nbconvert_exporter": "python",
   "pygments_lexer": "ipython2",
   "version": "2.7.14"
  }
 },
 "nbformat": 4,
 "nbformat_minor": 1
}
