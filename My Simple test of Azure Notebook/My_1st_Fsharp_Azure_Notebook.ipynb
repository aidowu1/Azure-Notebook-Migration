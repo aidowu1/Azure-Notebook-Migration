{
 "cells": [
  {
   "cell_type": "markdown",
   "metadata": {
    "collapsed": true
   },
   "source": [
    "## My Simple F# recipies for Learning"
   ]
  },
  {
   "cell_type": "markdown",
   "metadata": {},
   "source": [
    "### Including imports of libraries"
   ]
  },
  {
   "cell_type": "code",
   "execution_count": 8,
   "metadata": {},
   "outputs": [
    {
     "data": {
      "text/plain": [
       "100\n"
      ]
     },
     "metadata": {},
     "output_type": "display_data"
    }
   ],
   "source": [
    "open System\n",
    "\n",
    "let Square x = x*x\n",
    "\n",
    "Console.WriteLine(Square(10))"
   ]
  },
  {
   "cell_type": "markdown",
   "metadata": {},
   "source": [
    "### Using Lists"
   ]
  },
  {
   "cell_type": "code",
   "execution_count": 9,
   "metadata": {},
   "outputs": [
    {
     "data": {
      "text/plain": [
       "Animal is Cow\n",
       "Animal is Horse\n",
       "Animal is Dog\n",
       "Animal is Cat\n",
       "Animal is Lion\n"
      ]
     },
     "metadata": {},
     "output_type": "display_data"
    }
   ],
   "source": [
    "let animals = [\"Cow\"; \"Horse\"; \"Dog\"; \"Cat\"; \"Lion\"]\n",
    "\n",
    "for animal in animals do\n",
    "    Console.WriteLine(\"Animal is {0}\", animal)\n",
    "    "
   ]
  },
  {
   "cell_type": "markdown",
   "metadata": {},
   "source": [
    "### Using Arrays"
   ]
  },
  {
   "cell_type": "code",
   "execution_count": 10,
   "metadata": {},
   "outputs": [
    {
     "data": {
      "text/plain": [
       "Animal is Cow\n",
       "Animal is Horse\n",
       "Animal is Dog\n",
       "Animal is Cat\n",
       "Animal is Lion\n"
      ]
     },
     "metadata": {},
     "output_type": "display_data"
    }
   ],
   "source": [
    "let animalsArray = [|\"Cow\"; \"Horse\"; \"Dog\"; \"Cat\"; \"Lion\"|]\n",
    "\n",
    "for animal in animalsArray do\n",
    "    Console.WriteLine(\"Animal is {0}\", animal)"
   ]
  },
  {
   "cell_type": "markdown",
   "metadata": {
    "collapsed": true
   },
   "source": [
    "### F# Basic Types"
   ]
  },
  {
   "cell_type": "code",
   "execution_count": 12,
   "metadata": {},
   "outputs": [
    {
     "data": {
      "text/plain": [
       "\n",
       "Integral Data Types\n",
       "x: 10\n",
       "y: 20.067000\n",
       "s: 200\n",
       "z: 1000000\n",
       "\n",
       "String Data Types\n",
       "char: x\n",
       "words: Hello there!!\n",
       "\n",
       "Boolean Data Types\n",
       "trueValue: true\n",
       "falseValue: false\n"
      ]
     },
     "metadata": {},
     "output_type": "display_data"
    }
   ],
   "source": [
    "//int\n",
    "let x = 10u\n",
    "\n",
    "//float\n",
    "let y = 20.067f\n",
    "\n",
    "//long\n",
    "let s = 200L\n",
    "\n",
    "//bigint\n",
    "let z = 1000000L\n",
    "\n",
    "let char = 'x'\n",
    "let words = \"Hello there!!\"\n",
    "\n",
    "let trueValue = true\n",
    "let falseValue = false\n",
    "\n",
    "Console.WriteLine(\"\\nIntegral Data Types\")\n",
    "printfn \"x: %i\" x\n",
    "printfn \"y: %f\" y\n",
    "printfn \"s: %i\" s\n",
    "printfn \"z: %i\" z\n",
    "\n",
    "Console.WriteLine(\"\\nString Data Types\")\n",
    "printfn \"char: %c\" char\n",
    "printfn \"words: %s\" words\n",
    "\n",
    "Console.WriteLine(\"\\nBoolean Data Types\")\n",
    "printfn \"trueValue: %b\" (trueValue)\n",
    "printfn \"falseValue: %b\" (falseValue)"
   ]
  },
  {
   "cell_type": "code",
   "execution_count": 15,
   "metadata": {},
   "outputs": [
    {
     "data": {
      "text/plain": [
       "\"[ Hello World!!]\""
      ]
     },
     "execution_count": 15,
     "metadata": {},
     "output_type": "execute_result"
    }
   ],
   "source": [
    "let combine (x:string) (y:string) =\n",
    "    \"[ \" + x + \" \" + y + \"]\"\n",
    "\n",
    "combine \"Hello\" \"World!!\""
   ]
  },
  {
   "cell_type": "code",
   "execution_count": null,
   "metadata": {
    "collapsed": true
   },
   "outputs": [],
   "source": []
  }
 ],
 "metadata": {
  "kernelspec": {
   "display_name": "F#",
   "language": "fsharp",
   "name": "ifsharp"
  },
  "language": "fsharp",
  "language_info": {
   "codemirror_mode": "",
   "file_extension": ".fs",
   "mimetype": "text/x-fsharp",
   "name": "fsharp",
   "nbconvert_exporter": "",
   "pygments_lexer": "",
   "version": "4.3.1.0"
  }
 },
 "nbformat": 4,
 "nbformat_minor": 2
}
