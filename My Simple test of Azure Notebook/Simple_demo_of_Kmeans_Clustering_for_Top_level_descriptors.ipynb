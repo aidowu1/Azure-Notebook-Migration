{
 "cells": [
  {
   "cell_type": "markdown",
   "metadata": {},
   "source": [
    "## Simple demo of Kmeans Clustering for Top-level descriptors"
   ]
  },
  {
   "cell_type": "markdown",
   "metadata": {},
   "source": [
    "### Some imported modules"
   ]
  },
  {
   "cell_type": "code",
   "execution_count": 1,
   "metadata": {
    "collapsed": true
   },
   "outputs": [],
   "source": [
    "from sklearn.feature_extraction.text import TfidfVectorizer\n",
    "from sklearn.cluster import KMeans\n",
    "from sklearn.metrics import adjusted_rand_score\n",
    "import csv\n",
    "import os\n",
    "import string\n",
    "import numpy as np"
   ]
  },
  {
   "cell_type": "code",
   "execution_count": 12,
   "metadata": {},
   "outputs": [],
   "source": [
    "feature_space_dict = {\n",
    "'RUSH-XS1405766541':\n",
    "  'DiscountCurve_USD,Funding_USD,Time_0,Time_1,Time_2,BondDefaultCurve_ISIN_XS1405766541,BondRecovery_ISIN_XS1405766541',\n",
    " 'RUSH-XS0274618247':\n",
    "  'DiscountCurve_USD,Funding_USD,Time_0,Time_1,Time_2,BondReferenceAsset_ISIN_XS0274618247,BondDefaultCurve_ISIN_XS0274618247,BondRecovery_ISIN,XS0274618247',\n",
    " 'RUSH-XS1396282177':\n",
    "  'DiscountCurve_USD,Funding_USD,Time_0,Time_1,Time_2,BondReferenceAsset_ISIN_XS1396282177,BondDefaultCurve_ISIN,XS1396282177_BondRecovery_ISIN,XS1396282177',\n",
    " '501899428':\n",
    " 'DiscountCurve_USD,Funding_USD,Time_0,Time_1,Time_2',\n",
    " '501899864':\n",
    " 'DiscountCurve_USD,Funding_USD,Time_0,Time_1,Time_2',\n",
    " '501901588':\n",
    " 'DiscountCurve_USD,Funding_USD,Time_0,Time_1,Time_2'\n",
    "}\n",
    "\n",
    "def replaceCommaWithSpace(data):\n",
    "    data2 = {} \n",
    "    for key in data.keys():\n",
    "        data2[key] = string.replace(data[key], \",\", \" \")\n",
    "    return data2\n",
    "feature_space_dict = replaceCommaWithSpace(feature_space_dict)\n",
    "\n",
    "tcns = feature_space_dict.keys()\n",
    "descriptors = feature_space_dict.values()"
   ]
  },
  {
   "cell_type": "code",
   "execution_count": 13,
   "metadata": {},
   "outputs": [
    {
     "name": "stdout",
     "output_type": "stream",
     "text": [
      "TCNs: \n",
      "['RUSH-XS0274618247', 'RUSH-XS1405766541', '501899428', '501901588', 'RUSH-XS1396282177', '501899864']\n",
      "\n",
      "\n",
      "descriptors: \n",
      "['DiscountCurve_USD Funding_USD Time_0 Time_1 Time_2 BondReferenceAsset_ISIN_XS0274618247 BondDefaultCurve_ISIN_XS0274618247 BondRecovery_ISIN XS0274618247', 'DiscountCurve_USD Funding_USD Time_0 Time_1 Time_2 BondDefaultCurve_ISIN_XS1405766541 BondRecovery_ISIN_XS1405766541', 'DiscountCurve_USD Funding_USD Time_0 Time_1 Time_2', 'DiscountCurve_USD Funding_USD Time_0 Time_1 Time_2', 'DiscountCurve_USD Funding_USD Time_0 Time_1 Time_2 BondReferenceAsset_ISIN_XS1396282177 BondDefaultCurve_ISIN XS1396282177_BondRecovery_ISIN XS1396282177', 'DiscountCurve_USD Funding_USD Time_0 Time_1 Time_2']\n"
     ]
    }
   ],
   "source": [
    "print(\"TCNs: \\n{}\".format(tcns))\n",
    "print(\"\\n\\ndescriptors: \\n{}\".format(descriptors))\n"
   ]
  },
  {
   "cell_type": "code",
   "execution_count": 14,
   "metadata": {
    "collapsed": true
   },
   "outputs": [],
   "source": [
    "vectorizer = TfidfVectorizer(stop_words='english',lowercase=False)\n",
    "X = vectorizer.fit_transform(descriptors)\n"
   ]
  },
  {
   "cell_type": "code",
   "execution_count": 19,
   "metadata": {},
   "outputs": [
    {
     "data": {
      "text/plain": [
       "KMeans(copy_x=True, init='k-means++', max_iter=100, n_clusters=3, n_init=1,\n",
       "    n_jobs=1, precompute_distances='auto', random_state=None, tol=0.0001,\n",
       "    verbose=0)"
      ]
     },
     "execution_count": 19,
     "metadata": {},
     "output_type": "execute_result"
    }
   ],
   "source": [
    "true_k = 3\n",
    "model = KMeans(n_clusters=true_k, init='k-means++', max_iter=100, n_init=1)\n",
    "model.fit(X)"
   ]
  },
  {
   "cell_type": "code",
   "execution_count": 20,
   "metadata": {},
   "outputs": [
    {
     "name": "stdout",
     "output_type": "stream",
     "text": [
      "TCNs aaignment to clusters are:\n",
      " [('RUSH-XS0274618247', 2), ('RUSH-XS1405766541', 1), ('501899428', 1), ('501901588', 1), ('RUSH-XS1396282177', 0), ('501899864', 1)]\n"
     ]
    }
   ],
   "source": [
    "clusters = model.labels_\n",
    "tcn_clusters = zip(tcns, clusters)\n",
    "print(\"TCNs aaignment to clusters are:\\n {}\".format(tcn_clusters))"
   ]
  },
  {
   "cell_type": "code",
   "execution_count": null,
   "metadata": {
    "collapsed": true
   },
   "outputs": [],
   "source": []
  }
 ],
 "metadata": {
  "kernelspec": {
   "display_name": "Python 2",
   "language": "python",
   "name": "python2"
  },
  "language_info": {
   "codemirror_mode": {
    "name": "ipython",
    "version": 2
   },
   "file_extension": ".py",
   "mimetype": "text/x-python",
   "name": "python",
   "nbconvert_exporter": "python",
   "pygments_lexer": "ipython2",
   "version": "2.7.14"
  }
 },
 "nbformat": 4,
 "nbformat_minor": 1
}
