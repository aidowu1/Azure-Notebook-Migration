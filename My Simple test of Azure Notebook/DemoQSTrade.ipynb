{
 "cells": [
  {
   "cell_type": "code",
   "execution_count": null,
   "metadata": {},
   "outputs": [],
   "source": []
  },
  {
   "cell_type": "code",
   "execution_count": 1,
   "metadata": {},
   "outputs": [
    {
     "name": "stdout",
     "output_type": "stream",
     "text": [
      "Collecting git+https://github.com/mhallsmoore/qstrader.git\n",
      "  Cloning https://github.com/mhallsmoore/qstrader.git to /tmp/pip-gn7abty5-build\n",
      "Requirement already satisfied: pandas in /home/nbuser/anaconda3_501/lib/python3.6/site-packages (from qstrader==0.0.1)\n",
      "Requirement already satisfied: python-dateutil>=2 in /home/nbuser/anaconda3_501/lib/python3.6/site-packages (from pandas->qstrader==0.0.1)\n",
      "Requirement already satisfied: pytz>=2011k in /home/nbuser/anaconda3_501/lib/python3.6/site-packages (from pandas->qstrader==0.0.1)\n",
      "Requirement already satisfied: numpy>=1.7.0 in /home/nbuser/anaconda3_501/lib/python3.6/site-packages (from pandas->qstrader==0.0.1)\n",
      "Requirement already satisfied: six>=1.5 in /home/nbuser/anaconda3_501/lib/python3.6/site-packages (from python-dateutil>=2->pandas->qstrader==0.0.1)\n",
      "Installing collected packages: qstrader\n",
      "  Running setup.py install for qstrader ... \u001b[?25ldone\n",
      "\u001b[?25hSuccessfully installed qstrader-0.0.1\n",
      "\u001b[33mYou are using pip version 9.0.3, however version 10.0.1 is available.\n",
      "You should consider upgrading via the 'pip install --upgrade pip' command.\u001b[0m\n"
     ]
    }
   ],
   "source": [
    "!pip install git+https://github.com/mhallsmoore/qstrader.git"
   ]
  },
  {
   "cell_type": "code",
   "execution_count": null,
   "metadata": {},
   "outputs": [],
   "source": []
  },
  {
   "cell_type": "code",
   "execution_count": null,
   "metadata": {},
   "outputs": [],
   "source": []
  }
 ],
 "metadata": {
  "kernelspec": {
   "display_name": "Python 3.6",
   "language": "python",
   "name": "python36"
  },
  "language_info": {
   "codemirror_mode": {
    "name": "ipython",
    "version": 3
   },
   "file_extension": ".py",
   "mimetype": "text/x-python",
   "name": "python",
   "nbconvert_exporter": "python",
   "pygments_lexer": "ipython3",
   "version": "3.6.3"
  }
 },
 "nbformat": 4,
 "nbformat_minor": 2
}
