{
 "cells": [
  {
   "cell_type": "markdown",
   "metadata": {
    "collapsed": true
   },
   "source": [
    "## Representing text as numerical data for Clustering Algorithms"
   ]
  },
  {
   "cell_type": "markdown",
   "metadata": {},
   "source": [
    "### Some useful links\n",
    "\n",
    "- http://www.learndatasci.com/k-means-clustering-algorithms-python-intro/\n",
    "- https://andhint.github.io/machine-learning/nlp/Feature-Extraction-From-Text/\n",
    "- https://github.com/justmarkham/pycon-2016-tutorial/blob/master/tutorial.ipynb"
   ]
  },
  {
   "cell_type": "markdown",
   "metadata": {},
   "source": [
    "### Define the impots:\n",
    "- Numpy for numerics\n",
    "- Pandas to represent data in a table\n",
    "- CountVectorizer from SKlearn for converting text to a Document Term Matrix (DTM)\n",
    "- TfidfVectorizer also from Sklearn for converting text to a DTM"
   ]
  },
  {
   "cell_type": "code",
   "execution_count": 3,
   "metadata": {
    "collapsed": true
   },
   "outputs": [],
   "source": [
    "import numpy as np\n",
    "import pandas as pd\n",
    "from sklearn.feature_extraction.text import CountVectorizer\n",
    "from sklearn.feature_extraction.text import TfidfVectorizer"
   ]
  },
  {
   "cell_type": "markdown",
   "metadata": {},
   "source": [
    "### Define the text data:\n",
    "- We will use a list to define a simple corpus i.e. a collection of documents\n",
    "- Each document will be item in the list\n"
   ]
  },
  {
   "cell_type": "code",
   "execution_count": 4,
   "metadata": {
    "collapsed": true
   },
   "outputs": [],
   "source": [
    "corpus_data = ['DiscountCurve_USD DefaultCuve BondDefaultCurve', 'FXSpot_EUR DiscountCurve_GBP EQAsset', \n",
    "               'DiscountCurve_EUR FXSpot_USD, BondDefaultCurve']"
   ]
  },
  {
   "cell_type": "markdown",
   "metadata": {},
   "source": [
    "### Use the CountVectorizer to convert the text data to a DTM\n",
    "\n",
    "- import and instantiate CountVectorizer (with mainly the default parameters apart from: lowercase=True)"
   ]
  },
  {
   "cell_type": "code",
   "execution_count": 7,
   "metadata": {},
   "outputs": [
    {
     "data": {
      "text/plain": [
       "[u'BondDefaultCurve',\n",
       " u'DefaultCuve',\n",
       " u'DiscountCurve_EUR',\n",
       " u'DiscountCurve_GBP',\n",
       " u'DiscountCurve_USD',\n",
       " u'EQAsset',\n",
       " u'FXSpot_EUR',\n",
       " u'FXSpot_USD']"
      ]
     },
     "execution_count": 7,
     "metadata": {},
     "output_type": "execute_result"
    }
   ],
   "source": [
    "count_vec = CountVectorizer(lowercase=False)\n",
    "\n",
    "# learn the 'vocabulary' of the training data (occurs in-place)\n",
    "count_vec.fit(corpus_data)\n",
    "\n",
    "# examine the fitted vocabulary\n",
    "count_vec.get_feature_names()"
   ]
  },
  {
   "cell_type": "markdown",
   "metadata": {},
   "source": [
    "### Transform training data into a 'document-term matrix'\n",
    "\n",
    "- convert sparse matrix to a dense matrix"
   ]
  },
  {
   "cell_type": "code",
   "execution_count": 11,
   "metadata": {},
   "outputs": [
    {
     "data": {
      "text/plain": [
       "array([[1, 1, 0, 0, 1, 0, 0, 0],\n",
       "       [0, 0, 0, 1, 0, 1, 1, 0],\n",
       "       [1, 0, 1, 0, 0, 0, 0, 1]])"
      ]
     },
     "execution_count": 11,
     "metadata": {},
     "output_type": "execute_result"
    }
   ],
   "source": [
    "corpus_data_dtm = count_vec.transform(corpus_data)\n",
    "corpus_data_dtm.toarray()"
   ]
  },
  {
   "cell_type": "markdown",
   "metadata": {},
   "source": [
    "### Examine the features and document-term matrix together inside a Dataframe Table"
   ]
  },
  {
   "cell_type": "code",
   "execution_count": 13,
   "metadata": {},
   "outputs": [
    {
     "data": {
      "text/html": [
       "<div>\n",
       "<table border=\"1\" class=\"dataframe\">\n",
       "  <thead>\n",
       "    <tr style=\"text-align: right;\">\n",
       "      <th></th>\n",
       "      <th>BondDefaultCurve</th>\n",
       "      <th>DefaultCuve</th>\n",
       "      <th>DiscountCurve_EUR</th>\n",
       "      <th>DiscountCurve_GBP</th>\n",
       "      <th>DiscountCurve_USD</th>\n",
       "      <th>EQAsset</th>\n",
       "      <th>FXSpot_EUR</th>\n",
       "      <th>FXSpot_USD</th>\n",
       "    </tr>\n",
       "  </thead>\n",
       "  <tbody>\n",
       "    <tr>\n",
       "      <th>0</th>\n",
       "      <td>1</td>\n",
       "      <td>1</td>\n",
       "      <td>0</td>\n",
       "      <td>0</td>\n",
       "      <td>1</td>\n",
       "      <td>0</td>\n",
       "      <td>0</td>\n",
       "      <td>0</td>\n",
       "    </tr>\n",
       "    <tr>\n",
       "      <th>1</th>\n",
       "      <td>0</td>\n",
       "      <td>0</td>\n",
       "      <td>0</td>\n",
       "      <td>1</td>\n",
       "      <td>0</td>\n",
       "      <td>1</td>\n",
       "      <td>1</td>\n",
       "      <td>0</td>\n",
       "    </tr>\n",
       "    <tr>\n",
       "      <th>2</th>\n",
       "      <td>1</td>\n",
       "      <td>0</td>\n",
       "      <td>1</td>\n",
       "      <td>0</td>\n",
       "      <td>0</td>\n",
       "      <td>0</td>\n",
       "      <td>0</td>\n",
       "      <td>1</td>\n",
       "    </tr>\n",
       "  </tbody>\n",
       "</table>\n",
       "</div>"
      ],
      "text/plain": [
       "   BondDefaultCurve  DefaultCuve  DiscountCurve_EUR  DiscountCurve_GBP  \\\n",
       "0                 1            1                  0                  0   \n",
       "1                 0            0                  0                  1   \n",
       "2                 1            0                  1                  0   \n",
       "\n",
       "   DiscountCurve_USD  EQAsset  FXSpot_EUR  FXSpot_USD  \n",
       "0                  1        0           0           0  \n",
       "1                  0        1           1           0  \n",
       "2                  0        0           0           1  "
      ]
     },
     "execution_count": 13,
     "metadata": {},
     "output_type": "execute_result"
    }
   ],
   "source": [
    "pd.DataFrame(corpus_data_dtm.toarray(), columns=count_vec.get_feature_names())"
   ]
  },
  {
   "cell_type": "code",
   "execution_count": null,
   "metadata": {
    "collapsed": true
   },
   "outputs": [],
   "source": []
  }
 ],
 "metadata": {
  "kernelspec": {
   "display_name": "Python 2",
   "language": "python",
   "name": "python2"
  },
  "language_info": {
   "codemirror_mode": {
    "name": "ipython",
    "version": 2
   },
   "file_extension": ".py",
   "mimetype": "text/x-python",
   "name": "python",
   "nbconvert_exporter": "python",
   "pygments_lexer": "ipython2",
   "version": "2.7.14"
  }
 },
 "nbformat": 4,
 "nbformat_minor": 2
}
