{
  "cells": [
    {
      "metadata": {
        "collapsed": true
      },
      "cell_type": "markdown",
      "source": "## Simple Document Clustering Demo\n"
    },
    {
      "metadata": {},
      "cell_type": "markdown",
      "source": "### Define imports"
    },
    {
      "metadata": {
        "trusted": true
      },
      "cell_type": "code",
      "source": "from sklearn.feature_extraction.text import (TfidfVectorizer, CountVectorizer)\nfrom sklearn.cluster import KMeans\nfrom sklearn.metrics import adjusted_rand_score\nimport csv\nimport os\nimport string\nimport numpy as np",
      "execution_count": 6,
      "outputs": []
    },
    {
      "metadata": {},
      "cell_type": "markdown",
      "source": "### Define the document"
    },
    {
      "metadata": {
        "trusted": true
      },
      "cell_type": "code",
      "source": "documents = [\"This little kitty came to play when I was eating at a restaurant.\",\n             \"Merley has the best squooshy kitten belly.\",\n             \"Google Translate app is incredible.\",\n             \"If you open 100 tab in google you get a smiley face.\",\n             \"Best cat photo I've ever taken.\",\n             \"Climbing ninja cat.\",\n             \"Impressed with google map feedback.\",\n             \"Key promoter extension for Google Chrome.\"]",
      "execution_count": 2,
      "outputs": []
    },
    {
      "metadata": {},
      "cell_type": "markdown",
      "source": "### Vectorize the text using Term Frequency - Inverse Document Frequency (TF-IDF)"
    },
    {
      "metadata": {
        "trusted": true
      },
      "cell_type": "code",
      "source": "vectorizer = TfidfVectorizer(stop_words='english')\nX = vectorizer.fit_transform(documents)",
      "execution_count": 3,
      "outputs": []
    },
    {
      "metadata": {},
      "cell_type": "markdown",
      "source": "### Alternatively, Use  CountVectorizer Term-Frequency Bag of words approach to vectorize the text"
    },
    {
      "metadata": {
        "trusted": true
      },
      "cell_type": "code",
      "source": "count_vectorizer = CountVectorizer(stop_words='english')\ntf = count_vectorizer.fit_transform(documents)\nprint(\"Vocabulary:\\n{}\".format(count_vectorizer.vocabulary_))\nprint(\"Bag of Words:\\n{}\".format(tf.toarray()))",
      "execution_count": 11,
      "outputs": [
        {
          "output_type": "stream",
          "text": "Vocabulary:\n{'little': 18, 'kitty': 17, 'came': 4, 'play': 24, 'eating': 8, 'restaurant': 26, 'merley': 20, 'best': 3, 'squooshy': 28, 'kitten': 16, 'belly': 2, 'google': 12, 'translate': 31, 'app': 1, 'incredible': 14, 'open': 22, '100': 0, 'tab': 29, 'smiley': 27, 'face': 10, 'cat': 5, 'photo': 23, 've': 32, 'taken': 30, 'climbing': 7, 'ninja': 21, 'impressed': 13, 'map': 19, 'feedback': 11, 'key': 15, 'promoter': 25, 'extension': 9, 'chrome': 6}\nBag of Words:\n[[0 0 0 0 1 0 0 0 1 0 0 0 0 0 0 0 0 1 1 0 0 0 0 0 1 0 1 0 0 0 0 0 0]\n [0 0 1 1 0 0 0 0 0 0 0 0 0 0 0 0 1 0 0 0 1 0 0 0 0 0 0 0 1 0 0 0 0]\n [0 1 0 0 0 0 0 0 0 0 0 0 1 0 1 0 0 0 0 0 0 0 0 0 0 0 0 0 0 0 0 1 0]\n [1 0 0 0 0 0 0 0 0 0 1 0 1 0 0 0 0 0 0 0 0 0 1 0 0 0 0 1 0 1 0 0 0]\n [0 0 0 1 0 1 0 0 0 0 0 0 0 0 0 0 0 0 0 0 0 0 0 1 0 0 0 0 0 0 1 0 1]\n [0 0 0 0 0 1 0 1 0 0 0 0 0 0 0 0 0 0 0 0 0 1 0 0 0 0 0 0 0 0 0 0 0]\n [0 0 0 0 0 0 0 0 0 0 0 1 1 1 0 0 0 0 0 1 0 0 0 0 0 0 0 0 0 0 0 0 0]\n [0 0 0 0 0 0 1 0 0 1 0 0 1 0 0 1 0 0 0 0 0 0 0 0 0 1 0 0 0 0 0 0 0]]\n",
          "name": "stdout"
        }
      ]
    },
    {
      "metadata": {},
      "cell_type": "markdown",
      "source": "### Specify Clustering Model (Kmeans) and train it too cluster the document into 2 categories"
    },
    {
      "metadata": {
        "trusted": true
      },
      "cell_type": "code",
      "source": "true_k = 2\nmodel = KMeans(n_clusters=true_k, init='k-means++', max_iter=100, n_init=1)\nmodel.fit(X)\n",
      "execution_count": 13,
      "outputs": [
        {
          "output_type": "execute_result",
          "execution_count": 13,
          "data": {
            "text/plain": "KMeans(algorithm='auto', copy_x=True, init='k-means++', max_iter=100,\n    n_clusters=2, n_init=1, n_jobs=1, precompute_distances='auto',\n    random_state=None, tol=0.0001, verbose=0)"
          },
          "metadata": {}
        }
      ]
    },
    {
      "metadata": {},
      "cell_type": "markdown",
      "source": "### Let us view the result of the clustering"
    },
    {
      "metadata": {
        "trusted": true
      },
      "cell_type": "code",
      "source": "print(\"Top terms per cluster:\")\norder_centroids = model.cluster_centers_.argsort()[:, ::-1]\nterms = vectorizer.get_feature_names()\nfor i in range(true_k):\n    print(\"Cluster %d:\" % i),\n    for ind in order_centroids[i, :10]:\n        print(' %s' % terms[ind]),\n    print\n\nprint(\"\\n\")\n#print(\"Prediction\")",
      "execution_count": 14,
      "outputs": [
        {
          "output_type": "stream",
          "text": "Top terms per cluster:\nCluster 0:\n cat\n ninja\n climbing\n ve\n photo\n taken\n best\n came\n belly\n chrome\nCluster 1:\n google\n translate\n app\n feedback\n impressed\n map\n incredible\n chrome\n extension\n promoter\n\n\n",
          "name": "stdout"
        }
      ]
    },
    {
      "metadata": {},
      "cell_type": "markdown",
      "source": "### Now let us use the model to predict clusters new data belongs to"
    },
    {
      "metadata": {
        "trusted": true
      },
      "cell_type": "code",
      "source": "Y = vectorizer.transform([\"chrome browser to open.\"])\nprediction = model.predict(Y)\nprint(prediction)\n\nY = vectorizer.transform([\"My cat is hungry.\"])\nprediction = model.predict(Y)\nprint(prediction)",
      "execution_count": 15,
      "outputs": [
        {
          "output_type": "stream",
          "text": "[1]\n[0]\n",
          "name": "stdout"
        }
      ]
    },
    {
      "metadata": {
        "trusted": true
      },
      "cell_type": "code",
      "source": "",
      "execution_count": null,
      "outputs": []
    }
  ],
  "metadata": {
    "kernelspec": {
      "name": "python36",
      "display_name": "Python 3.6",
      "language": "python"
    },
    "language_info": {
      "mimetype": "text/x-python",
      "nbconvert_exporter": "python",
      "name": "python",
      "pygments_lexer": "ipython3",
      "version": "3.6.6",
      "file_extension": ".py",
      "codemirror_mode": {
        "version": 3,
        "name": "ipython"
      }
    }
  },
  "nbformat": 4,
  "nbformat_minor": 2
}