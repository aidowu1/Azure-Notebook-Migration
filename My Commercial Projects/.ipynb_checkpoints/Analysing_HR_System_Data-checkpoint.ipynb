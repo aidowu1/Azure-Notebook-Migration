{
  "cells": [
    {
      "metadata": {
        "collapsed": true
      },
      "cell_type": "markdown",
      "source": "## Analysing HR System Data"
    },
    {
      "metadata": {},
      "cell_type": "markdown",
      "source": "### Define the imports.."
    },
    {
      "metadata": {
        "trusted": true
      },
      "cell_type": "code",
      "source": "import os",
      "execution_count": 2,
      "outputs": []
    },
    {
      "metadata": {},
      "cell_type": "markdown",
      "source": "### Read data from disc"
    },
    {
      "metadata": {
        "trusted": true
      },
      "cell_type": "code",
      "source": "DATA_PATH = r\"C:\\Development\\Python\\AI\\Commercial_Projects\\HR_System\"\nHR_DATA_FILENAME = \"\\Start_doing_comments.csv\"\n\ndef readHRDataFromDisc(data_filename):    \n    with open(data_filename, 'rb') as f:\n        reader = csv.reader(f)\n        for row in reader:\n            print(row)\n\ndata_filename = os.path.join(DATA_PATH, HR_DATA_FILENAME) \nreadHRDataFromDisc(data_filename)",
      "execution_count": null,
      "outputs": []
    },
    {
      "metadata": {
        "trusted": true
      },
      "cell_type": "code",
      "source": "",
      "execution_count": null,
      "outputs": []
    }
  ],
  "metadata": {
    "kernelspec": {
      "name": "python3",
      "display_name": "Python 3",
      "language": "python"
    },
    "language_info": {
      "mimetype": "text/x-python",
      "nbconvert_exporter": "python",
      "name": "python",
      "file_extension": ".py",
      "version": "3.5.4",
      "pygments_lexer": "ipython3",
      "codemirror_mode": {
        "version": 3,
        "name": "ipython"
      }
    }
  },
  "nbformat": 4,
  "nbformat_minor": 2
}