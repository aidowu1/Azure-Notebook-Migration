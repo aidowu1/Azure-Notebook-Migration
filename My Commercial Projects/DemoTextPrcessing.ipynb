{
  "cells": [
    {
      "metadata": {
        "collapsed": true
      },
      "cell_type": "markdown",
      "source": "## Demo Prcessing of Text Data"
    },
    {
      "metadata": {},
      "cell_type": "markdown",
      "source": "### Specify the imports"
    },
    {
      "metadata": {
        "trusted": true
      },
      "cell_type": "code",
      "source": "from sklearn.datasets import fetch_20newsgroups\nfrom sklearn.feature_extraction.text import CountVectorizer\nfrom sklearn.feature_extraction.text import TfidfTransformer",
      "execution_count": 1,
      "outputs": []
    },
    {
      "metadata": {},
      "cell_type": "markdown",
      "source": "### Load the '20 News Group' in memory"
    },
    {
      "metadata": {
        "trusted": true
      },
      "cell_type": "code",
      "source": "categories = ['alt.atheism', 'soc.religion.christian',\n              'comp.graphics', 'sci.med']\ntwenty_train = fetch_20newsgroups(subset='train',\n    categories=categories, shuffle=True, random_state=42)\ntrain_data = twenty_train.data",
      "execution_count": 2,
      "outputs": [
        {
          "output_type": "stream",
          "text": "Downloading 20news dataset. This may take a few minutes.\nDownloading dataset from https://ndownloader.figshare.com/files/5975967 (14 MB)\n",
          "name": "stderr"
        }
      ]
    },
    {
      "metadata": {},
      "cell_type": "markdown",
      "source": "### Text Processing Document "
    },
    {
      "metadata": {
        "trusted": true
      },
      "cell_type": "code",
      "source": "def generateCountfeaturevector():\n    ",
      "execution_count": null,
      "outputs": []
    }
  ],
  "metadata": {
    "kernelspec": {
      "name": "python36",
      "display_name": "Python 3.6",
      "language": "python"
    },
    "language_info": {
      "mimetype": "text/x-python",
      "nbconvert_exporter": "python",
      "name": "python",
      "pygments_lexer": "ipython3",
      "version": "3.6.6",
      "file_extension": ".py",
      "codemirror_mode": {
        "version": 3,
        "name": "ipython"
      }
    }
  },
  "nbformat": 4,
  "nbformat_minor": 2
}