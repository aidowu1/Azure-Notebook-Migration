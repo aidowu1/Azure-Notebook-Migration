{
  "cells": [
    {
      "metadata": {
        "collapsed": true
      },
      "cell_type": "markdown",
      "source": "## Demo 2 the use of PyTorch.ipynb\n\n    - Simple demo of PyTorch for creating shallow MLP Neural Net to solve 2 toy problems:\n        * Regression Problem: Fitting a Noisy Sine function\n        * Iris Classification Problem"
    },
    {
      "metadata": {},
      "cell_type": "markdown",
      "source": "### Define the imports"
    },
    {
      "metadata": {
        "trusted": true
      },
      "cell_type": "code",
      "source": "import torch\nimport torch.utils.data as Data\nimport numpy as np\nimport sklearn.datasets as dat\nfrom sklearn.model_selection import train_test_split\nimport matplotlib.pylab as pl\n\n%matplotlib inline\n",
      "execution_count": 16,
      "outputs": []
    },
    {
      "metadata": {},
      "cell_type": "markdown",
      "source": "### Define Toy problems"
    },
    {
      "metadata": {
        "trusted": true
      },
      "cell_type": "code",
      "source": "class ToyProblems(object):\n    @staticmethod\n    def getDataAsBatch(X, y, batch_size):\n        torch_dataset = Data.TensorDataset(torch.from_numpy(X), torch.from_numpy(y))\n        loader = Data.DataLoader(\n            dataset=torch_dataset,      # torch TensorDataset format\n            batch_size=batch_size,      # mini batch size\n            shuffle=True,               # random shuffle for training\n            num_workers=2,              # subprocesses for loading data\n        )\n        X_train_batch, y_train_batch = [], []\n        for i, (batch_x, batch_y) in enumerate(loader):\n            X_train_batch.append(batch_x)\n            y_train_batch.append(batch_y)\n        return (X_train_batch, y_train_batch)\n         \n    @staticmethod\n    def toyRegressionProblemData(data_points = 1000, noise_value = 0.2, period = 3, train_batch_size = 8):\n        \"\"\"\n        Mocks-up the Neural Net Noisy Sine Function Regression Problem Data\n        \"\"\"\n        n_data = data_points\n        X = np.linspace(0, 1, n_data).reshape(n_data,1)\n        np.random.seed(10)\n        y = np.sin(2*period*np.pi*X) + noise_value*np.random.rand(n_data).reshape(n_data,1)\n        X_train, X_test, y_train, y_test = train_test_split(X, y, test_size=0.33)\n        X_train_batch, y_train_batch = ToyProblems.getDataAsBatch(X_train, y_train, train_batch_size)\n        toy_data = {}\n        toy_data['X_train'] = X_train\n        toy_data['y_train'] = y_train   \n        toy_data['X_train_batch'] = X_train_batch\n        toy_data['y_train_batch'] = y_train_batch\n        toy_data['X_test'] = X_test\n        toy_data['y_test'] = y_test        \n        return toy_data\n    \n    @staticmethod\n    def toyClassificationProblemDataOne():\n        \"\"\"\n        Mocks-up the Neural Net Classification problem data - it is based on a sub-set of the classic Iris data\n        Returns the Feature (X) / Response (y) data and the number of classes\n        \"\"\"\n        np.random.seed(10)\n        n_data = 20\n        iris = dat.load_iris()\n        X, y = iris.data, iris.target\n        X, y = shuffleDataPairs(X, y)\n        X, y = X[:n_data], y[:n_data]\n        n_classes = len(iris.target_names)\n        return (X, y, n_classes)\n    ",
      "execution_count": 29,
      "outputs": []
    },
    {
      "metadata": {
        "trusted": true
      },
      "cell_type": "markdown",
      "source": "### Specify the Multi Layer Neural Network"
    },
    {
      "metadata": {
        "trusted": true
      },
      "cell_type": "code",
      "source": "class LayerStruct(object):\n    def __init__(self, start_nodes, end_nodes, activation):\n        self.start_nodes = start_nodes\n        self.end_nodes = end_nodes\n        self.activation = activation\n\nclass MultiLayerNet(torch.nn.Module):\n    def __init__(self, layer_structs):\n        \"\"\"\n        In the constructor we instantiate two nn.Linear modules and assign them as\n        member variables.\n        \"\"\"\n        super(MultiLayerNet, self).__init__()\n        self.layer_structs = layer_structs\n        self.num_layers = len(self.layer_structs)\n        #self.layers = [None] * self.num_layers\n        self.layers = torch.nn.ModuleList()\n        for i, layer_struct in enumerate(self.layer_structs):\n            print(\"layer_struct.start_nodes: {0}, layer_struct.end_nodes: {1}\".format(layer_struct.start_nodes, layer_struct.end_nodes))\n            self.layers.append(torch.nn.Linear(layer_struct.start_nodes, layer_struct.end_nodes))\n        #self.layers = torch.nn.ModuleList(temp)\n        \n\n    def forward(self, X):\n        \"\"\"\n        In the forward function we accept a Tensor of input data and we must return\n        a Tensor of output data. We can use Modules defined in the constructor as\n        well as arbitrary operators on Tensors.\n        \"\"\"\n        num_layers = self.num_layers - 1\n        for i in range(num_layers):\n            h = self.layers[i](X)\n            if layer_structs[i].activation == 'R':\n                h = h.clamp(min=0)\n        y_pred = self.layers[num_layers](h_relu)\n        return y_pred\n",
      "execution_count": 78,
      "outputs": []
    },
    {
      "metadata": {},
      "cell_type": "markdown",
      "source": "### Specify the call Neural Net to solve problems "
    },
    {
      "metadata": {
        "trusted": true
      },
      "cell_type": "code",
      "source": "def runNeuralNet(\n    layer_structs, \n    X_train, \n    X_test, \n    y_train, \n    y_test, \n    is_batch = False):\n    # Construct our model by instantiating the class defined above\n    model = MultiLayerNet(layer_structs)\n    print(\"Model:\\n{}\".format(model))\n    print(\"model.parameters: {}\".format(list(model.parameters())))\n    \n    # Define results container\n    results = []\n    \n    # Construct our loss function and an Optimizer. The call to model.parameters()\n    # in the SGD constructor will contain the learnable parameters of the two\n    # nn.Linear modules which are members of the model.\n    criterion = torch.nn.MSELoss(reduction='sum')\n    optimizer = torch.optim.SGD(list(model.parameters()), lr=1e-4)\n    for t in range(500):\n        results = executeEpochAsBatch(model, X_train, y_train, results, t, is_batch_run=is_batch)\n                \n    # Now use the odel to predict the outcome of unseen data\n    y_test_hat = model.forward(X_test)\n    return (results, y_test_hat)\n\ndef executeEpoch(model, X_train, y_train, t):\n    # Forward pass: Compute predicted y by passing x to the model\n    y_pred = model.forward(X_train)\n\n    # Compute and print loss\n    loss = criterion(y_pred, y_train)\n    result_i = (t, loss)\n    if t % 50 == 0:\n        print(\"Current result for iteration {0} is {1}\".format(result_i[0], result_i[1]))\n\n    # Zero gradients, perform a backward pass, and update the weights.\n    optimizer.zero_grad()\n    loss.backward()\n    optimizer.step()\n    return result_i\n\ndef executeEpochAsBatch(model, X_train, y_train, results, t, is_batch_run=False):\n    if is_batch_run:\n        num_batch = len(X_train)\n        for i in range(num_batch):\n            result = executeEpoch(model, X_train[i], y_train[i], t)\n            results.append(result)\n    else:\n        result = executeEpoch(model, X_train, y_train, t)\n        results.append(result)\n    return results\n\ndef solveNoisySineProblem():\n    batch_size = 16\n    toy_data = ToyProblems.toyRegressionProblemData(train_batch_size = batch_size)\n    X_train = toy_data['X_train']\n    y_train = toy_data['y_train']\n    X_train_batch = toy_data['X_train_batch']\n    y_train_batch = toy_data['y_train_batch']\n    X_test = toy_data['X_test']\n    y_test = toy_data['y_test']\n    num_inputs = X_train.shape[1]\n    num_l1_hidden = 10\n    num_l2_hidden = 10\n    num_outputs = y_train.shape[1]\n    layer_structs = [\n        LayerStruct(num_inputs, num_l1_hidden, 'R'),\n        LayerStruct(num_l1_hidden, num_l2_hidden,'R'),\n        LayerStruct(num_l2_hidden, num_outputs,'L')\n    ]\n    results, y_test_hat = runNeuralNet(\n    layer_structs, \n    X_train, \n    X_test, \n    y_train, \n    y_test, \n    is_batch=False)\n    ",
      "execution_count": 79,
      "outputs": []
    },
    {
      "metadata": {
        "trusted": true
      },
      "cell_type": "code",
      "source": "solveNoisySineProblem()",
      "execution_count": 80,
      "outputs": [
        {
          "output_type": "stream",
          "text": "layer_struct.start_nodes: 1, layer_struct.end_nodes: 10\nlayer_struct.start_nodes: 10, layer_struct.end_nodes: 10\nlayer_struct.start_nodes: 10, layer_struct.end_nodes: 1\nModel:\nMultiLayerNet(\n  (layers): ModuleList(\n    (0): Linear(in_features=1, out_features=10, bias=True)\n    (1): Linear(in_features=10, out_features=10, bias=True)\n    (2): Linear(in_features=10, out_features=1, bias=True)\n  )\n)\nmodel.parameters: [Parameter containing:\ntensor([[-0.2493],\n        [ 0.7428],\n        [ 0.5324],\n        [-0.4335],\n        [ 0.7515],\n        [ 0.3065],\n        [-0.3420],\n        [-0.6056],\n        [-0.0604],\n        [-0.9828]], requires_grad=True), Parameter containing:\ntensor([ 0.3498,  0.7833, -0.8732, -0.3327,  0.3110,  0.1135,  0.8199, -0.6172,\n         0.9571,  0.2990], requires_grad=True), Parameter containing:\ntensor([[ 0.1611, -0.2348, -0.2136, -0.0314,  0.1272, -0.0927, -0.1910,  0.0837,\n          0.1785, -0.2075],\n        [-0.2866,  0.3074, -0.1788,  0.0243, -0.1177,  0.0853, -0.0098,  0.2760,\n         -0.2622,  0.2494],\n        [ 0.1264, -0.2225, -0.0400,  0.2068,  0.3012,  0.1950,  0.0913,  0.1604,\n          0.1033, -0.0578],\n        [ 0.0799,  0.1607, -0.0333,  0.0443,  0.2688,  0.2009,  0.0443, -0.0215,\n          0.1051, -0.1019],\n        [-0.2180,  0.2482, -0.3045, -0.1883, -0.1982, -0.0878, -0.0919, -0.2865,\n          0.3091,  0.1221],\n        [-0.1420,  0.0112, -0.0020,  0.0964,  0.0210,  0.1212,  0.0146, -0.0594,\n          0.0456, -0.0726],\n        [ 0.1372,  0.1301,  0.2163, -0.2666,  0.0514, -0.2055, -0.0907, -0.2404,\n          0.2362,  0.2131],\n        [ 0.1255, -0.3040, -0.2972, -0.2417, -0.1967, -0.2976,  0.2598,  0.1974,\n         -0.0769,  0.1473],\n        [-0.1005,  0.1285, -0.1491, -0.2814, -0.2087,  0.1300, -0.2806,  0.2292,\n         -0.0132, -0.1975],\n        [ 0.0021,  0.1380, -0.2818,  0.0242, -0.0006, -0.2783,  0.0262, -0.1692,\n         -0.2406, -0.2450]], requires_grad=True), Parameter containing:\ntensor([-0.1001,  0.0788, -0.1368,  0.0934, -0.1318,  0.2667, -0.2751,  0.0337,\n        -0.2113, -0.2177], requires_grad=True), Parameter containing:\ntensor([[ 0.1216,  0.3114, -0.1867, -0.2841, -0.2106, -0.2685, -0.2182, -0.2914,\n         -0.2193,  0.0554]], requires_grad=True), Parameter containing:\ntensor([0.2043], requires_grad=True)]\n",
          "name": "stdout"
        },
        {
          "output_type": "error",
          "ename": "AttributeError",
          "evalue": "'numpy.ndarray' object has no attribute 'dim'",
          "traceback": [
            "\u001b[0;31m\u001b[0m",
            "\u001b[0;31mAttributeError\u001b[0mTraceback (most recent call last)",
            "\u001b[0;32m<ipython-input-80-a2b07cdf6a0d>\u001b[0m in \u001b[0;36m<module>\u001b[0;34m()\u001b[0m\n\u001b[0;32m----> 1\u001b[0;31m \u001b[0msolveNoisySineProblem\u001b[0m\u001b[0;34m(\u001b[0m\u001b[0;34m)\u001b[0m\u001b[0;34m\u001b[0m\u001b[0m\n\u001b[0m",
            "\u001b[0;32m<ipython-input-79-ae07c902a1c1>\u001b[0m in \u001b[0;36msolveNoisySineProblem\u001b[0;34m()\u001b[0m\n\u001b[1;32m     77\u001b[0m     \u001b[0my_train\u001b[0m\u001b[0;34m,\u001b[0m\u001b[0;34m\u001b[0m\u001b[0m\n\u001b[1;32m     78\u001b[0m     \u001b[0my_test\u001b[0m\u001b[0;34m,\u001b[0m\u001b[0;34m\u001b[0m\u001b[0m\n\u001b[0;32m---> 79\u001b[0;31m     is_batch=False)\n\u001b[0m\u001b[1;32m     80\u001b[0m \u001b[0;34m\u001b[0m\u001b[0m\n",
            "\u001b[0;32m<ipython-input-79-ae07c902a1c1>\u001b[0m in \u001b[0;36mrunNeuralNet\u001b[0;34m(layer_structs, X_train, X_test, y_train, y_test, is_batch)\u001b[0m\n\u001b[1;32m     20\u001b[0m     \u001b[0moptimizer\u001b[0m \u001b[0;34m=\u001b[0m \u001b[0mtorch\u001b[0m\u001b[0;34m.\u001b[0m\u001b[0moptim\u001b[0m\u001b[0;34m.\u001b[0m\u001b[0mSGD\u001b[0m\u001b[0;34m(\u001b[0m\u001b[0mlist\u001b[0m\u001b[0;34m(\u001b[0m\u001b[0mmodel\u001b[0m\u001b[0;34m.\u001b[0m\u001b[0mparameters\u001b[0m\u001b[0;34m(\u001b[0m\u001b[0;34m)\u001b[0m\u001b[0;34m)\u001b[0m\u001b[0;34m,\u001b[0m \u001b[0mlr\u001b[0m\u001b[0;34m=\u001b[0m\u001b[0;36m1e-4\u001b[0m\u001b[0;34m)\u001b[0m\u001b[0;34m\u001b[0m\u001b[0m\n\u001b[1;32m     21\u001b[0m     \u001b[0;32mfor\u001b[0m \u001b[0mt\u001b[0m \u001b[0;32min\u001b[0m \u001b[0mrange\u001b[0m\u001b[0;34m(\u001b[0m\u001b[0;36m500\u001b[0m\u001b[0;34m)\u001b[0m\u001b[0;34m:\u001b[0m\u001b[0;34m\u001b[0m\u001b[0m\n\u001b[0;32m---> 22\u001b[0;31m         \u001b[0mresults\u001b[0m \u001b[0;34m=\u001b[0m \u001b[0mexecuteEpochAsBatch\u001b[0m\u001b[0;34m(\u001b[0m\u001b[0mmodel\u001b[0m\u001b[0;34m,\u001b[0m \u001b[0mX_train\u001b[0m\u001b[0;34m,\u001b[0m \u001b[0my_train\u001b[0m\u001b[0;34m,\u001b[0m \u001b[0mresults\u001b[0m\u001b[0;34m,\u001b[0m \u001b[0mt\u001b[0m\u001b[0;34m,\u001b[0m \u001b[0mis_batch_run\u001b[0m\u001b[0;34m=\u001b[0m\u001b[0mis_batch\u001b[0m\u001b[0;34m)\u001b[0m\u001b[0;34m\u001b[0m\u001b[0m\n\u001b[0m\u001b[1;32m     23\u001b[0m \u001b[0;34m\u001b[0m\u001b[0m\n\u001b[1;32m     24\u001b[0m     \u001b[0;31m# Now use the odel to predict the outcome of unseen data\u001b[0m\u001b[0;34m\u001b[0m\u001b[0;34m\u001b[0m\u001b[0m\n",
            "\u001b[0;32m<ipython-input-79-ae07c902a1c1>\u001b[0m in \u001b[0;36mexecuteEpochAsBatch\u001b[0;34m(model, X_train, y_train, results, t, is_batch_run)\u001b[0m\n\u001b[1;32m     49\u001b[0m             \u001b[0mresults\u001b[0m\u001b[0;34m.\u001b[0m\u001b[0mappend\u001b[0m\u001b[0;34m(\u001b[0m\u001b[0mresult\u001b[0m\u001b[0;34m)\u001b[0m\u001b[0;34m\u001b[0m\u001b[0m\n\u001b[1;32m     50\u001b[0m     \u001b[0;32melse\u001b[0m\u001b[0;34m:\u001b[0m\u001b[0;34m\u001b[0m\u001b[0m\n\u001b[0;32m---> 51\u001b[0;31m         \u001b[0mresult\u001b[0m \u001b[0;34m=\u001b[0m \u001b[0mexecuteEpoch\u001b[0m\u001b[0;34m(\u001b[0m\u001b[0mmodel\u001b[0m\u001b[0;34m,\u001b[0m \u001b[0mX_train\u001b[0m\u001b[0;34m,\u001b[0m \u001b[0my_train\u001b[0m\u001b[0;34m,\u001b[0m \u001b[0mt\u001b[0m\u001b[0;34m)\u001b[0m\u001b[0;34m\u001b[0m\u001b[0m\n\u001b[0m\u001b[1;32m     52\u001b[0m         \u001b[0mresults\u001b[0m\u001b[0;34m.\u001b[0m\u001b[0mappend\u001b[0m\u001b[0;34m(\u001b[0m\u001b[0mresult\u001b[0m\u001b[0;34m)\u001b[0m\u001b[0;34m\u001b[0m\u001b[0m\n\u001b[1;32m     53\u001b[0m     \u001b[0;32mreturn\u001b[0m \u001b[0mresults\u001b[0m\u001b[0;34m\u001b[0m\u001b[0m\n",
            "\u001b[0;32m<ipython-input-79-ae07c902a1c1>\u001b[0m in \u001b[0;36mexecuteEpoch\u001b[0;34m(model, X_train, y_train, t)\u001b[0m\n\u001b[1;32m     28\u001b[0m \u001b[0;32mdef\u001b[0m \u001b[0mexecuteEpoch\u001b[0m\u001b[0;34m(\u001b[0m\u001b[0mmodel\u001b[0m\u001b[0;34m,\u001b[0m \u001b[0mX_train\u001b[0m\u001b[0;34m,\u001b[0m \u001b[0my_train\u001b[0m\u001b[0;34m,\u001b[0m \u001b[0mt\u001b[0m\u001b[0;34m)\u001b[0m\u001b[0;34m:\u001b[0m\u001b[0;34m\u001b[0m\u001b[0m\n\u001b[1;32m     29\u001b[0m     \u001b[0;31m# Forward pass: Compute predicted y by passing x to the model\u001b[0m\u001b[0;34m\u001b[0m\u001b[0;34m\u001b[0m\u001b[0m\n\u001b[0;32m---> 30\u001b[0;31m     \u001b[0my_pred\u001b[0m \u001b[0;34m=\u001b[0m \u001b[0mmodel\u001b[0m\u001b[0;34m.\u001b[0m\u001b[0mforward\u001b[0m\u001b[0;34m(\u001b[0m\u001b[0mX_train\u001b[0m\u001b[0;34m)\u001b[0m\u001b[0;34m\u001b[0m\u001b[0m\n\u001b[0m\u001b[1;32m     31\u001b[0m \u001b[0;34m\u001b[0m\u001b[0m\n\u001b[1;32m     32\u001b[0m     \u001b[0;31m# Compute and print loss\u001b[0m\u001b[0;34m\u001b[0m\u001b[0;34m\u001b[0m\u001b[0m\n",
            "\u001b[0;32m<ipython-input-78-4f12e96d4c78>\u001b[0m in \u001b[0;36mforward\u001b[0;34m(self, X)\u001b[0m\n\u001b[1;32m     30\u001b[0m         \u001b[0mnum_layers\u001b[0m \u001b[0;34m=\u001b[0m \u001b[0mself\u001b[0m\u001b[0;34m.\u001b[0m\u001b[0mnum_layers\u001b[0m \u001b[0;34m-\u001b[0m \u001b[0;36m1\u001b[0m\u001b[0;34m\u001b[0m\u001b[0m\n\u001b[1;32m     31\u001b[0m         \u001b[0;32mfor\u001b[0m \u001b[0mi\u001b[0m \u001b[0;32min\u001b[0m \u001b[0mrange\u001b[0m\u001b[0;34m(\u001b[0m\u001b[0mnum_layers\u001b[0m\u001b[0;34m)\u001b[0m\u001b[0;34m:\u001b[0m\u001b[0;34m\u001b[0m\u001b[0m\n\u001b[0;32m---> 32\u001b[0;31m             \u001b[0mh\u001b[0m \u001b[0;34m=\u001b[0m \u001b[0mself\u001b[0m\u001b[0;34m.\u001b[0m\u001b[0mlayers\u001b[0m\u001b[0;34m[\u001b[0m\u001b[0mi\u001b[0m\u001b[0;34m]\u001b[0m\u001b[0;34m(\u001b[0m\u001b[0mX\u001b[0m\u001b[0;34m)\u001b[0m\u001b[0;34m\u001b[0m\u001b[0m\n\u001b[0m\u001b[1;32m     33\u001b[0m             \u001b[0;32mif\u001b[0m \u001b[0mlayer_structs\u001b[0m\u001b[0;34m[\u001b[0m\u001b[0mi\u001b[0m\u001b[0;34m]\u001b[0m\u001b[0;34m.\u001b[0m\u001b[0mactivation\u001b[0m \u001b[0;34m==\u001b[0m \u001b[0;34m'R'\u001b[0m\u001b[0;34m:\u001b[0m\u001b[0;34m\u001b[0m\u001b[0m\n\u001b[1;32m     34\u001b[0m                 \u001b[0mh\u001b[0m \u001b[0;34m=\u001b[0m \u001b[0mh\u001b[0m\u001b[0;34m.\u001b[0m\u001b[0mclamp\u001b[0m\u001b[0;34m(\u001b[0m\u001b[0mmin\u001b[0m\u001b[0;34m=\u001b[0m\u001b[0;36m0\u001b[0m\u001b[0;34m)\u001b[0m\u001b[0;34m\u001b[0m\u001b[0m\n",
            "\u001b[0;32m/home/nbuser/anaconda2_501/lib/python2.7/site-packages/torch/nn/modules/module.pyc\u001b[0m in \u001b[0;36m__call__\u001b[0;34m(self, *input, **kwargs)\u001b[0m\n\u001b[1;32m    475\u001b[0m             \u001b[0mresult\u001b[0m \u001b[0;34m=\u001b[0m \u001b[0mself\u001b[0m\u001b[0;34m.\u001b[0m\u001b[0m_slow_forward\u001b[0m\u001b[0;34m(\u001b[0m\u001b[0;34m*\u001b[0m\u001b[0minput\u001b[0m\u001b[0;34m,\u001b[0m \u001b[0;34m**\u001b[0m\u001b[0mkwargs\u001b[0m\u001b[0;34m)\u001b[0m\u001b[0;34m\u001b[0m\u001b[0m\n\u001b[1;32m    476\u001b[0m         \u001b[0;32melse\u001b[0m\u001b[0;34m:\u001b[0m\u001b[0;34m\u001b[0m\u001b[0m\n\u001b[0;32m--> 477\u001b[0;31m             \u001b[0mresult\u001b[0m \u001b[0;34m=\u001b[0m \u001b[0mself\u001b[0m\u001b[0;34m.\u001b[0m\u001b[0mforward\u001b[0m\u001b[0;34m(\u001b[0m\u001b[0;34m*\u001b[0m\u001b[0minput\u001b[0m\u001b[0;34m,\u001b[0m \u001b[0;34m**\u001b[0m\u001b[0mkwargs\u001b[0m\u001b[0;34m)\u001b[0m\u001b[0;34m\u001b[0m\u001b[0m\n\u001b[0m\u001b[1;32m    478\u001b[0m         \u001b[0;32mfor\u001b[0m \u001b[0mhook\u001b[0m \u001b[0;32min\u001b[0m \u001b[0mself\u001b[0m\u001b[0;34m.\u001b[0m\u001b[0m_forward_hooks\u001b[0m\u001b[0;34m.\u001b[0m\u001b[0mvalues\u001b[0m\u001b[0;34m(\u001b[0m\u001b[0;34m)\u001b[0m\u001b[0;34m:\u001b[0m\u001b[0;34m\u001b[0m\u001b[0m\n\u001b[1;32m    479\u001b[0m             \u001b[0mhook_result\u001b[0m \u001b[0;34m=\u001b[0m \u001b[0mhook\u001b[0m\u001b[0;34m(\u001b[0m\u001b[0mself\u001b[0m\u001b[0;34m,\u001b[0m \u001b[0minput\u001b[0m\u001b[0;34m,\u001b[0m \u001b[0mresult\u001b[0m\u001b[0;34m)\u001b[0m\u001b[0;34m\u001b[0m\u001b[0m\n",
            "\u001b[0;32m/home/nbuser/anaconda2_501/lib/python2.7/site-packages/torch/nn/modules/linear.pyc\u001b[0m in \u001b[0;36mforward\u001b[0;34m(self, input)\u001b[0m\n\u001b[1;32m     53\u001b[0m \u001b[0;34m\u001b[0m\u001b[0m\n\u001b[1;32m     54\u001b[0m     \u001b[0;32mdef\u001b[0m \u001b[0mforward\u001b[0m\u001b[0;34m(\u001b[0m\u001b[0mself\u001b[0m\u001b[0;34m,\u001b[0m \u001b[0minput\u001b[0m\u001b[0;34m)\u001b[0m\u001b[0;34m:\u001b[0m\u001b[0;34m\u001b[0m\u001b[0m\n\u001b[0;32m---> 55\u001b[0;31m         \u001b[0;32mreturn\u001b[0m \u001b[0mF\u001b[0m\u001b[0;34m.\u001b[0m\u001b[0mlinear\u001b[0m\u001b[0;34m(\u001b[0m\u001b[0minput\u001b[0m\u001b[0;34m,\u001b[0m \u001b[0mself\u001b[0m\u001b[0;34m.\u001b[0m\u001b[0mweight\u001b[0m\u001b[0;34m,\u001b[0m \u001b[0mself\u001b[0m\u001b[0;34m.\u001b[0m\u001b[0mbias\u001b[0m\u001b[0;34m)\u001b[0m\u001b[0;34m\u001b[0m\u001b[0m\n\u001b[0m\u001b[1;32m     56\u001b[0m \u001b[0;34m\u001b[0m\u001b[0m\n\u001b[1;32m     57\u001b[0m     \u001b[0;32mdef\u001b[0m \u001b[0mextra_repr\u001b[0m\u001b[0;34m(\u001b[0m\u001b[0mself\u001b[0m\u001b[0;34m)\u001b[0m\u001b[0;34m:\u001b[0m\u001b[0;34m\u001b[0m\u001b[0m\n",
            "\u001b[0;32m/home/nbuser/anaconda2_501/lib/python2.7/site-packages/torch/nn/functional.pyc\u001b[0m in \u001b[0;36mlinear\u001b[0;34m(input, weight, bias)\u001b[0m\n\u001b[1;32m   1020\u001b[0m         \u001b[0;34m-\u001b[0m \u001b[0mOutput\u001b[0m\u001b[0;34m:\u001b[0m \u001b[0;34m:\u001b[0m\u001b[0mmath\u001b[0m\u001b[0;34m:\u001b[0m\u001b[0;34m`\u001b[0m\u001b[0;34m(\u001b[0m\u001b[0mN\u001b[0m\u001b[0;34m,\u001b[0m \u001b[0;34m*\u001b[0m\u001b[0;34m,\u001b[0m \u001b[0mout\u001b[0m\u001b[0;31m\\\u001b[0m\u001b[0m_features\u001b[0m\u001b[0;34m)\u001b[0m\u001b[0;34m`\u001b[0m\u001b[0;34m\u001b[0m\u001b[0m\n\u001b[1;32m   1021\u001b[0m     \"\"\"\n\u001b[0;32m-> 1022\u001b[0;31m     \u001b[0;32mif\u001b[0m \u001b[0minput\u001b[0m\u001b[0;34m.\u001b[0m\u001b[0mdim\u001b[0m\u001b[0;34m(\u001b[0m\u001b[0;34m)\u001b[0m \u001b[0;34m==\u001b[0m \u001b[0;36m2\u001b[0m \u001b[0;32mand\u001b[0m \u001b[0mbias\u001b[0m \u001b[0;32mis\u001b[0m \u001b[0;32mnot\u001b[0m \u001b[0mNone\u001b[0m\u001b[0;34m:\u001b[0m\u001b[0;34m\u001b[0m\u001b[0m\n\u001b[0m\u001b[1;32m   1023\u001b[0m         \u001b[0;31m# fused op is marginally faster\u001b[0m\u001b[0;34m\u001b[0m\u001b[0;34m\u001b[0m\u001b[0m\n\u001b[1;32m   1024\u001b[0m         \u001b[0;32mreturn\u001b[0m \u001b[0mtorch\u001b[0m\u001b[0;34m.\u001b[0m\u001b[0maddmm\u001b[0m\u001b[0;34m(\u001b[0m\u001b[0mbias\u001b[0m\u001b[0;34m,\u001b[0m \u001b[0minput\u001b[0m\u001b[0;34m,\u001b[0m \u001b[0mweight\u001b[0m\u001b[0;34m.\u001b[0m\u001b[0mt\u001b[0m\u001b[0;34m(\u001b[0m\u001b[0;34m)\u001b[0m\u001b[0;34m)\u001b[0m\u001b[0;34m\u001b[0m\u001b[0m\n",
            "\u001b[0;31mAttributeError\u001b[0m: 'numpy.ndarray' object has no attribute 'dim'"
          ]
        }
      ]
    },
    {
      "metadata": {
        "trusted": true
      },
      "cell_type": "code",
      "source": "",
      "execution_count": null,
      "outputs": []
    },
    {
      "metadata": {
        "trusted": true
      },
      "cell_type": "code",
      "source": "v = [None] * 10\nnum_v = len(v)",
      "execution_count": 8,
      "outputs": []
    },
    {
      "metadata": {
        "trusted": true
      },
      "cell_type": "code",
      "source": "for i in range(num_v - 1):\n    print(\"v[{0}] = {1}\".format(i, v[i]))\nprint(\"v[{0}] = {1}\".format(num_v, v[num_v]))\n    ",
      "execution_count": 6,
      "outputs": [
        {
          "output_type": "stream",
          "text": "v[0] = None\nv[1] = None\nv[2] = None\nv[3] = None\nv[4] = None\nv[5] = None\nv[6] = None\nv[7] = None\nv[8] = None\n",
          "name": "stdout"
        },
        {
          "output_type": "error",
          "ename": "IndexError",
          "evalue": "list index out of range",
          "traceback": [
            "\u001b[0;31m\u001b[0m",
            "\u001b[0;31mIndexError\u001b[0mTraceback (most recent call last)",
            "\u001b[0;32m<ipython-input-6-a4d359023a3c>\u001b[0m in \u001b[0;36m<module>\u001b[0;34m()\u001b[0m\n\u001b[1;32m      1\u001b[0m \u001b[0;32mfor\u001b[0m \u001b[0mi\u001b[0m \u001b[0;32min\u001b[0m \u001b[0mrange\u001b[0m\u001b[0;34m(\u001b[0m\u001b[0mnum_v\u001b[0m \u001b[0;34m-\u001b[0m \u001b[0;36m1\u001b[0m\u001b[0;34m)\u001b[0m\u001b[0;34m:\u001b[0m\u001b[0;34m\u001b[0m\u001b[0m\n\u001b[1;32m      2\u001b[0m     \u001b[0;32mprint\u001b[0m\u001b[0;34m(\u001b[0m\u001b[0;34m\"v[{0}] = {1}\"\u001b[0m\u001b[0;34m.\u001b[0m\u001b[0mformat\u001b[0m\u001b[0;34m(\u001b[0m\u001b[0mi\u001b[0m\u001b[0;34m,\u001b[0m \u001b[0mv\u001b[0m\u001b[0;34m[\u001b[0m\u001b[0mi\u001b[0m\u001b[0;34m]\u001b[0m\u001b[0;34m)\u001b[0m\u001b[0;34m)\u001b[0m\u001b[0;34m\u001b[0m\u001b[0m\n\u001b[0;32m----> 3\u001b[0;31m \u001b[0;32mprint\u001b[0m\u001b[0;34m(\u001b[0m\u001b[0;34m\"v[{0}] = {1}\"\u001b[0m\u001b[0;34m.\u001b[0m\u001b[0mformat\u001b[0m\u001b[0;34m(\u001b[0m\u001b[0mnum_v\u001b[0m\u001b[0;34m,\u001b[0m \u001b[0mv\u001b[0m\u001b[0;34m[\u001b[0m\u001b[0mnum_v\u001b[0m\u001b[0;34m]\u001b[0m\u001b[0;34m)\u001b[0m\u001b[0;34m)\u001b[0m\u001b[0;34m\u001b[0m\u001b[0m\n\u001b[0m\u001b[1;32m      4\u001b[0m \u001b[0;34m\u001b[0m\u001b[0m\n",
            "\u001b[0;31mIndexError\u001b[0m: list index out of range"
          ]
        }
      ]
    },
    {
      "metadata": {
        "trusted": true
      },
      "cell_type": "code",
      "source": "torch.manual_seed(1)    # reproducible\n\nBATCH_SIZE = 5\n# BATCH_SIZE = 8\n\nx = torch.linspace(1, 10, 10)       # this is x data (torch tensor)\ny = torch.linspace(10, 1, 10)       # this is y data (torch tensor)\n\ntorch_dataset = Data.TensorDataset(x, y)\nloader = Data.DataLoader(\n    dataset=torch_dataset,      # torch TensorDataset format\n    batch_size=BATCH_SIZE,      # mini batch size\n    shuffle=True,               # random shuffle for training\n    num_workers=2,              # subprocesses for loading data\n)\n\n\ndef show_batch():\n    for epoch in range(3):   # train entire dataset 3 times\n        for step, (batch_x, batch_y) in enumerate(loader):  # for each training step\n            # train your data...\n            print('Epoch: ', epoch, '| Step: ', step, '| batch x: ',\n                  batch_x.numpy(), '| batch y: ', batch_y.numpy())",
      "execution_count": 14,
      "outputs": []
    },
    {
      "metadata": {
        "trusted": true
      },
      "cell_type": "code",
      "source": "show_batch()",
      "execution_count": 15,
      "outputs": [
        {
          "output_type": "stream",
          "text": "('Epoch: ', 0, '| Step: ', 0, '| batch x: ', array([ 5.,  7., 10.,  3.,  4.], dtype=float32), '| batch y: ', array([6., 4., 1., 8., 7.], dtype=float32))\n('Epoch: ', 0, '| Step: ', 1, '| batch x: ', array([2., 1., 8., 9., 6.], dtype=float32), '| batch y: ', array([ 9., 10.,  3.,  2.,  5.], dtype=float32))\n('Epoch: ', 1, '| Step: ', 0, '| batch x: ', array([ 4.,  6.,  7., 10.,  8.], dtype=float32), '| batch y: ', array([7., 5., 4., 1., 3.], dtype=float32))\n('Epoch: ', 1, '| Step: ', 1, '| batch x: ', array([5., 3., 2., 1., 9.], dtype=float32), '| batch y: ', array([ 6.,  8.,  9., 10.,  2.], dtype=float32))\n('Epoch: ', 2, '| Step: ', 0, '| batch x: ', array([ 4.,  2.,  5.,  6., 10.], dtype=float32), '| batch y: ', array([7., 9., 6., 5., 1.], dtype=float32))\n('Epoch: ', 2, '| Step: ', 1, '| batch x: ', array([3., 9., 1., 8., 7.], dtype=float32), '| batch y: ', array([ 8.,  2., 10.,  3.,  4.], dtype=float32))\n",
          "name": "stdout"
        }
      ]
    },
    {
      "metadata": {
        "trusted": true
      },
      "cell_type": "code",
      "source": "torch.nn.Module??",
      "execution_count": 60,
      "outputs": []
    },
    {
      "metadata": {
        "trusted": true
      },
      "cell_type": "code",
      "source": "",
      "execution_count": null,
      "outputs": []
    }
  ],
  "metadata": {
    "kernelspec": {
      "name": "python2",
      "display_name": "Python 2",
      "language": "python"
    },
    "language_info": {
      "mimetype": "text/x-python",
      "nbconvert_exporter": "python",
      "name": "python",
      "pygments_lexer": "ipython2",
      "version": "2.7.15",
      "file_extension": ".py",
      "codemirror_mode": {
        "version": 2,
        "name": "ipython"
      }
    }
  },
  "nbformat": 4,
  "nbformat_minor": 2
}