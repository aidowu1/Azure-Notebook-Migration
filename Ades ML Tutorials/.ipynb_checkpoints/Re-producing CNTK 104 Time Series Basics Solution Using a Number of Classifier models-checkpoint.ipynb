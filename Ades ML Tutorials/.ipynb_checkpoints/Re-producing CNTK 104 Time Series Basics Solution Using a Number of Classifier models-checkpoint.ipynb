{
  "cells": [
    {
      "metadata": {},
      "cell_type": "markdown",
      "source": "## Re-producing CNTK 104 Time Series Basics Solution Using a Number of Classifier models\n\n"
    },
    {
      "metadata": {},
      "cell_type": "markdown",
      "source": "### Define the imports"
    },
    {
      "metadata": {
        "trusted": true
      },
      "cell_type": "code",
      "source": "import cntk as C\nimport cntk.tests.test_utils\ncntk.tests.test_utils.set_device_from_pytest_env() # (only needed for our build system)\nC.cntk_py.set_fixed_random_seed(1) # fix a random seed for CNTK components",
      "execution_count": null,
      "outputs": []
    },
    {
      "metadata": {
        "trusted": true
      },
      "cell_type": "code",
      "source": "import os\nimport datetime\nimport pickle as  pkl\nimport numpy as np\nimport pandas as pd\nimport keras.models as km\nimport keras.layers as kl\nimport sklearn.preprocessing as spp\nimport sklearn.model_selection as smo\nfrom sklearn.preprocessing import StandardScaler\nimport matplotlib.pylab as plt\nimport seaborn as sns\nfrom sklearn.model_selection import (train_test_split, KFold)\nfrom sklearn.naive_bayes import GaussianNB\nfrom sklearn.neighbors import KNeighborsClassifier\nfrom sklearn.svm import SVC\nfrom sklearn.ensemble import RandomForestClassifier\nfrom sklearn.linear_model import LogisticRegression\nfrom sklearn.metrics import confusion_matrix\nfrom sklearn.metrics import accuracy_score\n\nsns.set(style=\"whitegrid\")\n%matplotlib inline",
      "execution_count": 20,
      "outputs": []
    },
    {
      "metadata": {},
      "cell_type": "markdown",
      "source": "### Install Alpha Vantage to source dialy financial data\n\n- My Alpha Vintage key: E8AQO37EPBZULELG "
    },
    {
      "metadata": {
        "trusted": true
      },
      "cell_type": "code",
      "source": "def installAlphaVantage():\n    try:\n        from  alpha_vantage.timeseries import TimeSeries\n    except ImportError:\n        !pip install alpha_vantage\n        from  alpha_vantage.timeseries import TimeSeries\n\n#installAlphaVantage()",
      "execution_count": 22,
      "outputs": []
    },
    {
      "metadata": {
        "trusted": true
      },
      "cell_type": "code",
      "source": "# Set a random seed\nnp.random.seed(123)",
      "execution_count": 21,
      "outputs": []
    },
    {
      "metadata": {},
      "cell_type": "markdown",
      "source": "### Get Data"
    },
    {
      "metadata": {
        "trusted": true
      },
      "cell_type": "code",
      "source": "data_cache_path = os.path.join(\"data\", \"Stock\", \"stock_SPY.pkl\")\n\ndef getDailyDataFromAlphaVantage(data_cache_path, symbol='SPY'):\n    try:\n        ts = TimeSeries(key = \"E8AQO37EPBZULELG\", output_format='pandas' )\n        data, meta = ts.get_daily(symbol=symbol, outputsize='full')\n    except:\n        raise Exception(\"Data could not be downloaded from Alpha Vantage\") \n    dir = os.path.dirname(data_cache_path)\n    if not os.path.exists(dir):\n        os.makedirs(dir)\n\n    if not os.path.isfile(data_cache_path):\n        print(\"Caching data..\", data_cache_path )\n        with open(data_cache_path, 'wb') as f:\n            pkl.dump(data, f, protocol = 2)\n    return data\n\ndef downloadSPYDataForLast20Years():\n    if os.path.exists(data_cache_path):\n        print(\"File already exists\", data_cache_path)\n        data = pd.read_pickle(data_cache_path)\n    else:\n        print(\"Source the data from Alpha Vantage\")\n        data = getDailyDataFromAlphaVantage(data_cache_path)\n    return data\n\ndef getSPYDataSimilarToCNTK104():\n    spy_data = downloadSPYDataForLast20Years()\n    spy_data_new = spy_data[\"2000-01-02\":\"2017-01-01\"]\n    return spy_data_new\n\nspy_data = getSPYDataSimilarToCNTK104()\nspy_data.head(5)",
      "execution_count": 25,
      "outputs": [
        {
          "output_type": "stream",
          "text": "File already exists data/Stock/stock_SPY.pkl\n",
          "name": "stdout"
        },
        {
          "output_type": "execute_result",
          "execution_count": 25,
          "data": {
            "text/html": "<div>\n<style scoped>\n    .dataframe tbody tr th:only-of-type {\n        vertical-align: middle;\n    }\n\n    .dataframe tbody tr th {\n        vertical-align: top;\n    }\n\n    .dataframe thead th {\n        text-align: right;\n    }\n</style>\n<table border=\"1\" class=\"dataframe\">\n  <thead>\n    <tr style=\"text-align: right;\">\n      <th></th>\n      <th>1. open</th>\n      <th>2. high</th>\n      <th>3. low</th>\n      <th>4. close</th>\n      <th>5. volume</th>\n    </tr>\n    <tr>\n      <th>date</th>\n      <th></th>\n      <th></th>\n      <th></th>\n      <th></th>\n      <th></th>\n    </tr>\n  </thead>\n  <tbody>\n    <tr>\n      <th>2000-01-03</th>\n      <td>148.2500</td>\n      <td>148.2500</td>\n      <td>143.8750</td>\n      <td>145.4375</td>\n      <td>8164300.0</td>\n    </tr>\n    <tr>\n      <th>2000-01-04</th>\n      <td>143.5312</td>\n      <td>144.0625</td>\n      <td>139.6406</td>\n      <td>139.7500</td>\n      <td>8089800.0</td>\n    </tr>\n    <tr>\n      <th>2000-01-05</th>\n      <td>139.9375</td>\n      <td>141.5312</td>\n      <td>137.2500</td>\n      <td>140.0000</td>\n      <td>12177900.0</td>\n    </tr>\n    <tr>\n      <th>2000-01-06</th>\n      <td>139.6250</td>\n      <td>141.5000</td>\n      <td>137.7500</td>\n      <td>137.7500</td>\n      <td>6227200.0</td>\n    </tr>\n    <tr>\n      <th>2000-01-07</th>\n      <td>140.3125</td>\n      <td>145.7500</td>\n      <td>140.0625</td>\n      <td>145.7500</td>\n      <td>8066500.0</td>\n    </tr>\n  </tbody>\n</table>\n</div>",
            "text/plain": "             1. open   2. high    3. low  4. close   5. volume\ndate                                                          \n2000-01-03  148.2500  148.2500  143.8750  145.4375   8164300.0\n2000-01-04  143.5312  144.0625  139.6406  139.7500   8089800.0\n2000-01-05  139.9375  141.5312  137.2500  140.0000  12177900.0\n2000-01-06  139.6250  141.5000  137.7500  137.7500   6227200.0\n2000-01-07  140.3125  145.7500  140.0625  145.7500   8066500.0"
          },
          "metadata": {}
        }
      ]
    },
    {
      "metadata": {
        "trusted": true
      },
      "cell_type": "code",
      "source": "",
      "execution_count": null,
      "outputs": []
    }
  ],
  "metadata": {
    "kernelspec": {
      "name": "python36",
      "display_name": "Python 3.6",
      "language": "python"
    },
    "language_info": {
      "mimetype": "text/x-python",
      "nbconvert_exporter": "python",
      "name": "python",
      "pygments_lexer": "ipython3",
      "version": "3.6.6",
      "file_extension": ".py",
      "codemirror_mode": {
        "version": 3,
        "name": "ipython"
      }
    }
  },
  "nbformat": 4,
  "nbformat_minor": 2
}