{
 "cells": [
  {
   "cell_type": "markdown",
   "metadata": {
    "collapsed": true
   },
   "source": [
    "## Demo the use of MLxtend\n",
    "- Mlxtend (machine learning extensions) is a Python library of useful tools for the day-to-day data science tasks\n",
    "- For further details please go to [this](https://github.com/rasbt/mlxtend) location\n",
    "- In this simple demo I am going to use this library, Scikit Learn and Keras to classify the classic Iris problem"
   ]
  },
  {
   "cell_type": "markdown",
   "metadata": {},
   "source": [
    "### Install MLxtend"
   ]
  },
  {
   "cell_type": "code",
   "execution_count": 1,
   "metadata": {},
   "outputs": [
    {
     "name": "stdout",
     "output_type": "stream",
     "text": [
      "Collecting mlxtend\n",
      "\u001b[?25l  Downloading https://files.pythonhosted.org/packages/b5/40/daab57161effb451cc2990a9cebe4da68c2a8038e7a5b8d0bc24cccf9da6/mlxtend-0.12.0-py2.py3-none-any.whl (1.3MB)\n",
      "\u001b[K    100% |████████████████████████████████| 1.3MB 2.0MB/s eta 0:00:01\n",
      "\u001b[?25hRequirement already satisfied: numpy>=1.10.4 in /home/nbuser/anaconda3_501/lib/python3.6/site-packages (from mlxtend) (1.14.2)\n",
      "Requirement already satisfied: pandas>=0.17.1 in /home/nbuser/anaconda3_501/lib/python3.6/site-packages (from mlxtend) (0.20.3)\n",
      "Requirement already satisfied: setuptools in /home/nbuser/anaconda3_501/lib/python3.6/site-packages (from mlxtend) (39.0.1)\n",
      "Requirement already satisfied: matplotlib>=1.5.1 in /home/nbuser/anaconda3_501/lib/python3.6/site-packages (from mlxtend) (2.1.1)\n",
      "Requirement already satisfied: scipy>=0.17 in /home/nbuser/anaconda3_501/lib/python3.6/site-packages (from mlxtend) (0.19.1)\n",
      "Requirement already satisfied: scikit-learn>=0.18 in /home/nbuser/anaconda3_501/lib/python3.6/site-packages (from mlxtend) (0.19.1)\n",
      "Requirement already satisfied: python-dateutil>=2 in /home/nbuser/anaconda3_501/lib/python3.6/site-packages (from pandas>=0.17.1->mlxtend) (2.6.1)\n",
      "Requirement already satisfied: pytz>=2011k in /home/nbuser/anaconda3_501/lib/python3.6/site-packages (from pandas>=0.17.1->mlxtend) (2017.2)\n",
      "Requirement already satisfied: six>=1.10 in /home/nbuser/anaconda3_501/lib/python3.6/site-packages (from matplotlib>=1.5.1->mlxtend) (1.11.0)\n",
      "Requirement already satisfied: cycler>=0.10 in /home/nbuser/anaconda3_501/lib/python3.6/site-packages (from matplotlib>=1.5.1->mlxtend) (0.10.0)\n",
      "Requirement already satisfied: pyparsing!=2.0.4,!=2.1.2,!=2.1.6,>=2.0.1 in /home/nbuser/anaconda3_501/lib/python3.6/site-packages (from matplotlib>=1.5.1->mlxtend) (2.2.0)\n",
      "\u001b[31mgrpcio 1.11.0 has requirement protobuf>=3.5.0.post1, but you'll have protobuf 3.4.1 which is incompatible.\u001b[0m\n",
      "Installing collected packages: mlxtend\n",
      "Successfully installed mlxtend-0.12.0\n"
     ]
    }
   ],
   "source": [
    "!pip install mlxtend"
   ]
  },
  {
   "cell_type": "markdown",
   "metadata": {},
   "source": [
    "### Define the imports"
   ]
  },
  {
   "cell_type": "code",
   "execution_count": 3,
   "metadata": {},
   "outputs": [],
   "source": [
    "import numpy as np\n",
    "import pandas as pd\n",
    "import matplotlib.pyplot as plt\n",
    "import matplotlib.gridspec as gridspec\n",
    "import itertools\n",
    "from sklearn.linear_model import LogisticRegression\n",
    "from sklearn.svm import SVC\n",
    "from sklearn.preprocessing import (LabelEncoder, StandardScaler, MinMaxScaler)\n",
    "from sklearn.model_selection import (train_test_split, LeaveOneOut, cross_val_predict,cross_val_score, KFold)\n",
    "from sklearn.metrics import accuracy_score, confusion_matrix\n",
    "from sklearn.ensemble import RandomForestClassifier\n",
    "from mlxtend.classifier import EnsembleVoteClassifier\n",
    "from sklearn.discriminant_analysis import QuadraticDiscriminantAnalysis\n",
    "from mlxtend.plotting import (plot_decision_regions, plot_confusion_matrix)\n",
    "import keras.models as km\n",
    "import keras.layers as kl\n",
    "from keras.regularizers import l2\n",
    "from keras.wrappers.scikit_learn import KerasClassifier\n",
    "from tensorflow import set_random_seed\n",
    "%matplotlib inline"
   ]
  },
  {
   "cell_type": "markdown",
   "metadata": {},
   "source": [
    "### Define global variables"
   ]
  },
  {
   "cell_type": "code",
   "execution_count": 4,
   "metadata": {},
   "outputs": [
    {
     "data": {
      "text/html": [
       "<div>\n",
       "<style>\n",
       "    .dataframe thead tr:only-child th {\n",
       "        text-align: right;\n",
       "    }\n",
       "\n",
       "    .dataframe thead th {\n",
       "        text-align: left;\n",
       "    }\n",
       "\n",
       "    .dataframe tbody tr th {\n",
       "        vertical-align: top;\n",
       "    }\n",
       "</style>\n",
       "<table border=\"1\" class=\"dataframe\">\n",
       "  <thead>\n",
       "    <tr style=\"text-align: right;\">\n",
       "      <th></th>\n",
       "      <th>num_preg</th>\n",
       "      <th>glucose_conc</th>\n",
       "      <th>diastolic_bp</th>\n",
       "      <th>thickness</th>\n",
       "      <th>insulin</th>\n",
       "      <th>bmi</th>\n",
       "      <th>diab_pred</th>\n",
       "      <th>age</th>\n",
       "      <th>skin</th>\n",
       "      <th>diabetes</th>\n",
       "    </tr>\n",
       "  </thead>\n",
       "  <tbody>\n",
       "    <tr>\n",
       "      <th>0</th>\n",
       "      <td>6</td>\n",
       "      <td>148</td>\n",
       "      <td>72</td>\n",
       "      <td>35</td>\n",
       "      <td>0</td>\n",
       "      <td>33.6</td>\n",
       "      <td>0.627</td>\n",
       "      <td>50</td>\n",
       "      <td>1.3790</td>\n",
       "      <td>True</td>\n",
       "    </tr>\n",
       "    <tr>\n",
       "      <th>1</th>\n",
       "      <td>1</td>\n",
       "      <td>85</td>\n",
       "      <td>66</td>\n",
       "      <td>29</td>\n",
       "      <td>0</td>\n",
       "      <td>26.6</td>\n",
       "      <td>0.351</td>\n",
       "      <td>31</td>\n",
       "      <td>1.1426</td>\n",
       "      <td>False</td>\n",
       "    </tr>\n",
       "    <tr>\n",
       "      <th>2</th>\n",
       "      <td>8</td>\n",
       "      <td>183</td>\n",
       "      <td>64</td>\n",
       "      <td>0</td>\n",
       "      <td>0</td>\n",
       "      <td>23.3</td>\n",
       "      <td>0.672</td>\n",
       "      <td>32</td>\n",
       "      <td>0.0000</td>\n",
       "      <td>True</td>\n",
       "    </tr>\n",
       "  </tbody>\n",
       "</table>\n",
       "</div>"
      ],
      "text/plain": [
       "   num_preg  glucose_conc  diastolic_bp  thickness  insulin   bmi  diab_pred  \\\n",
       "0         6           148            72         35        0  33.6      0.627   \n",
       "1         1            85            66         29        0  26.6      0.351   \n",
       "2         8           183            64          0        0  23.3      0.672   \n",
       "\n",
       "   age    skin  diabetes  \n",
       "0   50  1.3790      True  \n",
       "1   31  1.1426     False  \n",
       "2   32  0.0000      True  "
      ]
     },
     "execution_count": 4,
     "metadata": {},
     "output_type": "execute_result"
    }
   ],
   "source": [
    "SEED = 10\n",
    "data_path = './data/pima-data.csv'\n",
    "# Loading some example data\n",
    "raw_data = pd.read_csv(data_path, delimiter=',')\n",
    "data = raw_data.values\n",
    "X, y = data[:,0:9], data[:,-1]\n",
    "N_SAMPLES = X.shape[0]\n",
    "N_FEATURES = X.shape[1]\n",
    "N_RESPONSES = 1\n",
    "SPLIT_FRACTION = 0.30\n",
    "raw_data.head(3)"
   ]
  },
  {
   "cell_type": "markdown",
   "metadata": {},
   "source": [
    "### Desriptive Stats for the Data"
   ]
  },
  {
   "cell_type": "code",
   "execution_count": 5,
   "metadata": {},
   "outputs": [
    {
     "data": {
      "text/html": [
       "<div>\n",
       "<style>\n",
       "    .dataframe thead tr:only-child th {\n",
       "        text-align: right;\n",
       "    }\n",
       "\n",
       "    .dataframe thead th {\n",
       "        text-align: left;\n",
       "    }\n",
       "\n",
       "    .dataframe tbody tr th {\n",
       "        vertical-align: top;\n",
       "    }\n",
       "</style>\n",
       "<table border=\"1\" class=\"dataframe\">\n",
       "  <thead>\n",
       "    <tr style=\"text-align: right;\">\n",
       "      <th></th>\n",
       "      <th>num_preg</th>\n",
       "      <th>glucose_conc</th>\n",
       "      <th>diastolic_bp</th>\n",
       "      <th>thickness</th>\n",
       "      <th>insulin</th>\n",
       "      <th>bmi</th>\n",
       "      <th>diab_pred</th>\n",
       "      <th>age</th>\n",
       "      <th>skin</th>\n",
       "    </tr>\n",
       "  </thead>\n",
       "  <tbody>\n",
       "    <tr>\n",
       "      <th>count</th>\n",
       "      <td>768.000000</td>\n",
       "      <td>768.000000</td>\n",
       "      <td>768.000000</td>\n",
       "      <td>768.000000</td>\n",
       "      <td>768.000000</td>\n",
       "      <td>768.000000</td>\n",
       "      <td>768.000000</td>\n",
       "      <td>768.000000</td>\n",
       "      <td>768.000000</td>\n",
       "    </tr>\n",
       "    <tr>\n",
       "      <th>mean</th>\n",
       "      <td>3.845052</td>\n",
       "      <td>120.894531</td>\n",
       "      <td>69.105469</td>\n",
       "      <td>20.536458</td>\n",
       "      <td>79.799479</td>\n",
       "      <td>31.992578</td>\n",
       "      <td>0.471876</td>\n",
       "      <td>33.240885</td>\n",
       "      <td>0.809136</td>\n",
       "    </tr>\n",
       "    <tr>\n",
       "      <th>std</th>\n",
       "      <td>3.369578</td>\n",
       "      <td>31.972618</td>\n",
       "      <td>19.355807</td>\n",
       "      <td>15.952218</td>\n",
       "      <td>115.244002</td>\n",
       "      <td>7.884160</td>\n",
       "      <td>0.331329</td>\n",
       "      <td>11.760232</td>\n",
       "      <td>0.628517</td>\n",
       "    </tr>\n",
       "    <tr>\n",
       "      <th>min</th>\n",
       "      <td>0.000000</td>\n",
       "      <td>0.000000</td>\n",
       "      <td>0.000000</td>\n",
       "      <td>0.000000</td>\n",
       "      <td>0.000000</td>\n",
       "      <td>0.000000</td>\n",
       "      <td>0.078000</td>\n",
       "      <td>21.000000</td>\n",
       "      <td>0.000000</td>\n",
       "    </tr>\n",
       "    <tr>\n",
       "      <th>25%</th>\n",
       "      <td>1.000000</td>\n",
       "      <td>99.000000</td>\n",
       "      <td>62.000000</td>\n",
       "      <td>0.000000</td>\n",
       "      <td>0.000000</td>\n",
       "      <td>27.300000</td>\n",
       "      <td>0.243750</td>\n",
       "      <td>24.000000</td>\n",
       "      <td>0.000000</td>\n",
       "    </tr>\n",
       "    <tr>\n",
       "      <th>50%</th>\n",
       "      <td>3.000000</td>\n",
       "      <td>117.000000</td>\n",
       "      <td>72.000000</td>\n",
       "      <td>23.000000</td>\n",
       "      <td>30.500000</td>\n",
       "      <td>32.000000</td>\n",
       "      <td>0.372500</td>\n",
       "      <td>29.000000</td>\n",
       "      <td>0.906200</td>\n",
       "    </tr>\n",
       "    <tr>\n",
       "      <th>75%</th>\n",
       "      <td>6.000000</td>\n",
       "      <td>140.250000</td>\n",
       "      <td>80.000000</td>\n",
       "      <td>32.000000</td>\n",
       "      <td>127.250000</td>\n",
       "      <td>36.600000</td>\n",
       "      <td>0.626250</td>\n",
       "      <td>41.000000</td>\n",
       "      <td>1.260800</td>\n",
       "    </tr>\n",
       "    <tr>\n",
       "      <th>max</th>\n",
       "      <td>17.000000</td>\n",
       "      <td>199.000000</td>\n",
       "      <td>122.000000</td>\n",
       "      <td>99.000000</td>\n",
       "      <td>846.000000</td>\n",
       "      <td>67.100000</td>\n",
       "      <td>2.420000</td>\n",
       "      <td>81.000000</td>\n",
       "      <td>3.900600</td>\n",
       "    </tr>\n",
       "  </tbody>\n",
       "</table>\n",
       "</div>"
      ],
      "text/plain": [
       "         num_preg  glucose_conc  diastolic_bp   thickness     insulin  \\\n",
       "count  768.000000    768.000000    768.000000  768.000000  768.000000   \n",
       "mean     3.845052    120.894531     69.105469   20.536458   79.799479   \n",
       "std      3.369578     31.972618     19.355807   15.952218  115.244002   \n",
       "min      0.000000      0.000000      0.000000    0.000000    0.000000   \n",
       "25%      1.000000     99.000000     62.000000    0.000000    0.000000   \n",
       "50%      3.000000    117.000000     72.000000   23.000000   30.500000   \n",
       "75%      6.000000    140.250000     80.000000   32.000000  127.250000   \n",
       "max     17.000000    199.000000    122.000000   99.000000  846.000000   \n",
       "\n",
       "              bmi   diab_pred         age        skin  \n",
       "count  768.000000  768.000000  768.000000  768.000000  \n",
       "mean    31.992578    0.471876   33.240885    0.809136  \n",
       "std      7.884160    0.331329   11.760232    0.628517  \n",
       "min      0.000000    0.078000   21.000000    0.000000  \n",
       "25%     27.300000    0.243750   24.000000    0.000000  \n",
       "50%     32.000000    0.372500   29.000000    0.906200  \n",
       "75%     36.600000    0.626250   41.000000    1.260800  \n",
       "max     67.100000    2.420000   81.000000    3.900600  "
      ]
     },
     "execution_count": 5,
     "metadata": {},
     "output_type": "execute_result"
    }
   ],
   "source": [
    "raw_data.describe()"
   ]
  },
  {
   "cell_type": "markdown",
   "metadata": {},
   "source": [
    "### Preprocess the data:\n",
    "- Apply normalization using [StandardScaler](http://scikit-learn.org/stable/modules/generated/sklearn.preprocessing.StandardScaler.html) for the features, X. This will ensure all the values are scaled to unit variance and have zero mean\n",
    "- Apply label encoding using [LabelEncoder](http://scikit-learn.org/stable/modules/generated/sklearn.preprocessing.LabelEncoder.html) for the response y. This will ensure the data conversion from categorical (of 2 values) to numeric values 0 and 1"
   ]
  },
  {
   "cell_type": "code",
   "execution_count": 6,
   "metadata": {},
   "outputs": [
    {
     "name": "stdout",
     "output_type": "stream",
     "text": [
      "Test Pre-processing...\n",
      "\n",
      "X_new = \n",
      "[[0.35294118 0.74371859 0.59016393 0.35353535 0.         0.50074516\n",
      "  0.23441503 0.48333333 0.35353535]\n",
      " [0.05882353 0.42713568 0.54098361 0.29292929 0.         0.39642325\n",
      "  0.11656704 0.16666667 0.29292929]]\n",
      "\n",
      "y_new = [1 0]\n",
      "\n",
      "\n"
     ]
    },
    {
     "name": "stderr",
     "output_type": "stream",
     "text": [
      "/home/nbuser/anaconda3_501/lib/python3.6/site-packages/sklearn/utils/validation.py:475: DataConversionWarning: Data with input dtype object was converted to float64 by MinMaxScaler.\n",
      "  warnings.warn(msg, DataConversionWarning)\n"
     ]
    }
   ],
   "source": [
    "def preProcessData():\n",
    "    label_encoder = LabelEncoder().fit(y)\n",
    "    #std_scaler = StandardScaler().fit(X)\n",
    "    min_max_scaler = MinMaxScaler().fit(X)\n",
    "    #X_scaled = std_scaler.transform(X)\n",
    "    X_scaled = min_max_scaler.transform(X)\n",
    "    y_encoded = label_encoder.transform(y)\n",
    "    return label_encoder,min_max_scaler, X_scaled, y_encoded\n",
    "\n",
    "_,_,X_new, y_new = preProcessData()\n",
    "print(\"Test Pre-processing...\\n\")\n",
    "print('X_new = \\n{0}\\n\\ny_new = {1}\\n\\n'.format(X_new[:2,:], y_new[:2]))"
   ]
  },
  {
   "cell_type": "markdown",
   "metadata": {},
   "source": [
    "### Specify MLP Neural Net model"
   ]
  },
  {
   "cell_type": "code",
   "execution_count": 7,
   "metadata": {},
   "outputs": [],
   "source": [
    "def createModel(\n",
    "    num_inputs=N_FEATURES,\n",
    "    num_ouputs=N_RESPONSES,\n",
    "    input_nodes = 10, \n",
    "    hidden_act='relu', \n",
    "    output_act='sigmoid',\n",
    "    hidden_nodes = 10):\n",
    "    # create model\n",
    "    model = km.Sequential()\n",
    "    model.add(kl.Dense(input_nodes, input_dim=num_inputs, activation=hidden_act))\n",
    "    model.add(kl.Dense(hidden_nodes, activation=hidden_act))\n",
    "    model.add(kl.Dense(1, activation=output_act))\n",
    "    # Compile model\n",
    "    model.compile(loss='binary_crossentropy', optimizer='adam', metrics=['accuracy'])\n",
    "    return model"
   ]
  },
  {
   "cell_type": "markdown",
   "metadata": {},
   "source": [
    "### Define all the classification models:\n",
    "Models will include:\n",
    "    * Logistic regression\n",
    "    * Random Forest \n",
    "    * Support Vector Machine\n",
    "    * Multi Layer Perceptron Neural Net\n",
    "    * An Esemble of all the top 4 models"
   ]
  },
  {
   "cell_type": "code",
   "execution_count": 8,
   "metadata": {},
   "outputs": [],
   "source": [
    "from collections import OrderedDict\n",
    "def createAllModels():\n",
    "    \"\"\"\n",
    "    Creates a dictionary of classification models\n",
    "    \"\"\"\n",
    "    clf1 = LogisticRegression(random_state=0)\n",
    "    clf2 = RandomForestClassifier(random_state=0)\n",
    "    clf3 = SVC(random_state=0, probability=True)\n",
    "    clf4 = QuadraticDiscriminantAnalysis()\n",
    "    clf5 = KerasClassifier(build_fn=createModel, epochs=150, batch_size=10, verbose=0)\n",
    "    eclf = EnsembleVoteClassifier(clfs=[clf1, clf2, clf3, clf4, clf5], weights=[2, 1, 1, 1, 2], voting='soft')\n",
    "    model_names = ['Logistic', 'RFC', 'SVM', 'QDA', 'MLP', 'Ensemble']\n",
    "    model_values = [clf1, clf2, clf3, clf4, clf5, eclf]\n",
    "    models = OrderedDict(zip(model_names, model_values))\n",
    "    return models"
   ]
  },
  {
   "cell_type": "markdown",
   "metadata": {},
   "source": [
    "### Evaluate the Models"
   ]
  },
  {
   "cell_type": "code",
   "execution_count": null,
   "metadata": {},
   "outputs": [
    {
     "name": "stdout",
     "output_type": "stream",
     "text": [
      "Starting the training of the ML classification models..\n",
      "\n",
      "Training the Logistic model:\n",
      "Using 'KFold' Cross Validation..\n",
      "type(y_test) = [0 0 0 1 0] and type(y_hat) = [0 0 0 0 0]\n",
      "Model is: Logistic\n",
      "Cross Valdation Accuracy: 77.089% (+/-5.824)%\n",
      "Accuracy is 0.70995670995671\n"
     ]
    },
    {
     "name": "stderr",
     "output_type": "stream",
     "text": [
      "/home/nbuser/anaconda3_501/lib/python3.6/site-packages/sklearn/utils/validation.py:475: DataConversionWarning: Data with input dtype object was converted to float64 by MinMaxScaler.\n",
      "  warnings.warn(msg, DataConversionWarning)\n"
     ]
    },
    {
     "data": {
      "image/png": "[encoded data removed]",
      "text/plain": [
       "<matplotlib.figure.Figure at 0x7fd012d8d6d8>"
      ]
     },
     "metadata": {},
     "output_type": "display_data"
    },
    {
     "name": "stdout",
     "output_type": "stream",
     "text": [
      "Training the RFC model:\n",
      "Using 'KFold' Cross Validation..\n",
      "type(y_test) = [0 0 0 1 0] and type(y_hat) = [0 0 0 0 0]\n",
      "Model is: RFC\n",
      "Cross Valdation Accuracy: 72.442% (+/-4.938)%\n",
      "Accuracy is 0.7489177489177489\n"
     ]
    },
    {
     "data": {
      "image/png": "[encoded data removed]",
      "text/plain": [
       "<matplotlib.figure.Figure at 0x7fd012d8d9b0>"
      ]
     },
     "metadata": {},
     "output_type": "display_data"
    },
    {
     "name": "stdout",
     "output_type": "stream",
     "text": [
      "Training the SVM model:\n",
      "Using 'KFold' Cross Validation..\n",
      "type(y_test) = [0 0 0 1 0] and type(y_hat) = [0 0 0 0 0]\n",
      "Model is: SVM\n",
      "Cross Valdation Accuracy: 75.975% (+/-4.508)%\n",
      "Accuracy is 0.70995670995671\n"
     ]
    },
    {
     "data": {
      "image/png": "[encoded data removed]",
      "text/plain": [
       "<matplotlib.figure.Figure at 0x7fd012d750f0>"
      ]
     },
     "metadata": {},
     "output_type": "display_data"
    },
    {
     "name": "stdout",
     "output_type": "stream",
     "text": [
      "Training the QDA model:\n",
      "Using 'KFold' Cross Validation..\n",
      "type(y_test) = [0 0 0 1 0] and type(y_hat) = [0 0 1 0 0]\n",
      "Model is: QDA\n",
      "Cross Valdation Accuracy: 70.395% (+/-5.112)%\n",
      "Accuracy is 0.683982683982684\n"
     ]
    },
    {
     "name": "stderr",
     "output_type": "stream",
     "text": [
      "/home/nbuser/anaconda3_501/lib/python3.6/site-packages/sklearn/discriminant_analysis.py:682: UserWarning: Variables are collinear\n",
      "  warnings.warn(\"Variables are collinear\")\n",
      "/home/nbuser/anaconda3_501/lib/python3.6/site-packages/sklearn/discriminant_analysis.py:682: UserWarning: Variables are collinear\n",
      "  warnings.warn(\"Variables are collinear\")\n",
      "/home/nbuser/anaconda3_501/lib/python3.6/site-packages/sklearn/discriminant_analysis.py:682: UserWarning: Variables are collinear\n",
      "  warnings.warn(\"Variables are collinear\")\n",
      "/home/nbuser/anaconda3_501/lib/python3.6/site-packages/sklearn/discriminant_analysis.py:682: UserWarning: Variables are collinear\n",
      "  warnings.warn(\"Variables are collinear\")\n",
      "/home/nbuser/anaconda3_501/lib/python3.6/site-packages/sklearn/discriminant_analysis.py:682: UserWarning: Variables are collinear\n",
      "  warnings.warn(\"Variables are collinear\")\n",
      "/home/nbuser/anaconda3_501/lib/python3.6/site-packages/sklearn/discriminant_analysis.py:682: UserWarning: Variables are collinear\n",
      "  warnings.warn(\"Variables are collinear\")\n",
      "/home/nbuser/anaconda3_501/lib/python3.6/site-packages/sklearn/discriminant_analysis.py:682: UserWarning: Variables are collinear\n",
      "  warnings.warn(\"Variables are collinear\")\n",
      "/home/nbuser/anaconda3_501/lib/python3.6/site-packages/sklearn/discriminant_analysis.py:682: UserWarning: Variables are collinear\n",
      "  warnings.warn(\"Variables are collinear\")\n",
      "/home/nbuser/anaconda3_501/lib/python3.6/site-packages/sklearn/discriminant_analysis.py:682: UserWarning: Variables are collinear\n",
      "  warnings.warn(\"Variables are collinear\")\n",
      "/home/nbuser/anaconda3_501/lib/python3.6/site-packages/sklearn/discriminant_analysis.py:682: UserWarning: Variables are collinear\n",
      "  warnings.warn(\"Variables are collinear\")\n",
      "/home/nbuser/anaconda3_501/lib/python3.6/site-packages/sklearn/discriminant_analysis.py:682: UserWarning: Variables are collinear\n",
      "  warnings.warn(\"Variables are collinear\")\n"
     ]
    },
    {
     "data": {
      "image/png": "[encoded data removed]",
      "text/plain": [
       "<matplotlib.figure.Figure at 0x7fd012cc6b38>"
      ]
     },
     "metadata": {},
     "output_type": "display_data"
    },
    {
     "name": "stdout",
     "output_type": "stream",
     "text": [
      "Training the MLP model:\n",
      "Using 'KFold' Cross Validation..\n",
      "type(y_test) = [0 0 0 1 0] and type(y_hat) = [1 0 0 0 0]\n",
      "Model is: MLP\n",
      "Cross Valdation Accuracy: 77.275% (+/-5.929)%\n",
      "Accuracy is 0.7748917748917749\n"
     ]
    },
    {
     "data": {
      "image/png": "[encoded data removed]",
      "text/plain": [
       "<matplotlib.figure.Figure at 0x7fd00a5234e0>"
      ]
     },
     "metadata": {},
     "output_type": "display_data"
    },
    {
     "name": "stdout",
     "output_type": "stream",
     "text": [
      "Training the Ensemble model:\n"
     ]
    },
    {
     "name": "stderr",
     "output_type": "stream",
     "text": [
      "/home/nbuser/anaconda3_501/lib/python3.6/site-packages/sklearn/discriminant_analysis.py:682: UserWarning: Variables are collinear\n",
      "  warnings.warn(\"Variables are collinear\")\n"
     ]
    },
    {
     "name": "stdout",
     "output_type": "stream",
     "text": [
      "Using 'KFold' Cross Validation..\n"
     ]
    },
    {
     "name": "stderr",
     "output_type": "stream",
     "text": [
      "/home/nbuser/anaconda3_501/lib/python3.6/site-packages/sklearn/discriminant_analysis.py:682: UserWarning: Variables are collinear\n",
      "  warnings.warn(\"Variables are collinear\")\n",
      "/home/nbuser/anaconda3_501/lib/python3.6/site-packages/sklearn/preprocessing/label.py:151: DeprecationWarning: The truth value of an empty array is ambiguous. Returning False, but in future this will result in an error. Use `array.size > 0` to check that an array is not empty.\n",
      "  if diff:\n",
      "/home/nbuser/anaconda3_501/lib/python3.6/site-packages/sklearn/discriminant_analysis.py:682: UserWarning: Variables are collinear\n",
      "  warnings.warn(\"Variables are collinear\")\n",
      "/home/nbuser/anaconda3_501/lib/python3.6/site-packages/sklearn/preprocessing/label.py:151: DeprecationWarning: The truth value of an empty array is ambiguous. Returning False, but in future this will result in an error. Use `array.size > 0` to check that an array is not empty.\n",
      "  if diff:\n",
      "/home/nbuser/anaconda3_501/lib/python3.6/site-packages/sklearn/discriminant_analysis.py:682: UserWarning: Variables are collinear\n",
      "  warnings.warn(\"Variables are collinear\")\n"
     ]
    }
   ],
   "source": [
    "def plotConfusionMatrix(confusion_matrix):\n",
    "    fig, ax = plot_confusion_matrix(conf_mat=confusion_matrix)\n",
    "    plt.show()\n",
    "    \n",
    "def reportClassificationMetrics(model_name, y_true, y_hat, cv_results):\n",
    "    accuracy = accuracy_score(y_true, y_hat)\n",
    "    conf_matrix = confusion_matrix(y_true, y_hat)\n",
    "    print(\"Model is: {}\".format(model_name))\n",
    "    print(\"Cross Valdation Accuracy: {0:.3f}% (+/-{1:.3f})%\".format(cv_results.mean()*100, cv_results.std()*100))\n",
    "    print(\"Accuracy is {0}\".format(accuracy))\n",
    "    plotConfusionMatrix(conf_matrix)\n",
    "    return accuracy, conf_matrix\n",
    "\n",
    "def splitData(X,y, split_fraction, seed):\n",
    "    '''\n",
    "    Split the data into Test/Train datasets\n",
    "    '''\n",
    "    label_encoder,min_max_scaler,X_scale, y_encode = preProcessData()\n",
    "    X_train, X_test, y_train, y_test = train_test_split(X_scale, y_encode, test_size=split_fraction, random_state=seed)\n",
    "    return label_encoder,min_max_scaler, X_train, X_test, y_train, y_test\n",
    "\n",
    "def runModels():\n",
    "    print(\"Starting the training of the ML classification models..\\n\")\n",
    "    y_predict_accuracy = {}\n",
    "    y_predict_conf_matrix = {}\n",
    "    y_predict_results = {}\n",
    "    models = createAllModels()\n",
    "    label_encoder,min_max_scaler, X_train, X_test, y_train, y_test = splitData(X,y,SPLIT_FRACTION,SEED)\n",
    "    for name, model in models.items():\n",
    "        print(\"Training the {} model:\".format(name))\n",
    "        model.fit(X_train, y_train)\n",
    "        y_predict_results[name] = model.predict(X_test)\n",
    "        if name == 'MLP':\n",
    "            y_predict_results[name] = np.round(np.ravel(y_predict_results[name]))\n",
    "        print(\"type(y_test) = {0} and type(y_hat) = {1}\".format(y_test[:5], y_predict_results[name][:5]))\n",
    "        y_predict_accuracy[name], y_predict_conf_matrix[name] = reportClassificationMetrics(name, y_test, y_predict_results[name])\n",
    "    return y_predict_results, y_predict_accuracy, y_predict_conf_matrix\n",
    "\n",
    "def runModelsWithCV(cv_type = 'KFold', n_splits=10):\n",
    "    print(\"Starting the training of the ML classification models..\\n\")\n",
    "    y_predict_accuracy = {}\n",
    "    y_predict_conf_matrix = {}\n",
    "    y_predict_results = {}\n",
    "    cv_results = {}\n",
    "    models = createAllModels()\n",
    "    seed = SEED\n",
    "    if cv_type == 'KFold':\n",
    "        cv = KFold(n_splits=n_splits, random_state=seed)\n",
    "    elif cv_type == 'LeaveOneOut':\n",
    "        cv = LeaveOneOut()\n",
    "    else:\n",
    "        cv = None\n",
    "    label_encoder,min_max_scaler, X_train, X_test, y_train, y_test = splitData(X,y,SPLIT_FRACTION,SEED)\n",
    "    for name, model in models.items():\n",
    "        print(\"Training the {} model:\".format(name))\n",
    "        model.fit(X_train, y_train)\n",
    "        if cv != None:\n",
    "            print(\"Using '{}' Cross Validation..\".format(cv_type))\n",
    "            cv_results[name] = cross_val_score(model, X_train, y_train, cv=cv)\n",
    "        y_predict_results[name] = model.predict(X_test)\n",
    "        if name == 'MLP':\n",
    "            y_predict_results[name] = np.round(np.ravel(y_predict_results[name]))\n",
    "        print(\"type(y_test) = {0} and type(y_hat) = {1}\".format(y_test[:5], y_predict_results[name][:5]))\n",
    "        y_predict_accuracy[name], y_predict_conf_matrix[name] = reportClassificationMetrics(name, \n",
    "                                                                                            y_test, \n",
    "                                                                                            y_predict_results[name],\n",
    "                                                                                            cv_results[name])\n",
    "    return y_predict_results, y_predict_accuracy, y_predict_conf_matrix\n",
    "\n",
    "#y_predict_results, y_predict_accuracy, y_predict_conf_matrix = runModels()\n",
    "y_predict_results, y_predict_accuracy, y_predict_conf_matrix = runModelsWithCV(cv_type = 'KFold')"
   ]
  },
  {
   "cell_type": "code",
   "execution_count": 47,
   "metadata": {},
   "outputs": [
    {
     "name": "stderr",
     "output_type": "stream",
     "text": [
      "/home/nbuser/anaconda3_501/lib/python3.6/site-packages/sklearn/utils/validation.py:475: DataConversionWarning: Data with input dtype object was converted to float64 by MinMaxScaler.\n",
      "  warnings.warn(msg, DataConversionWarning)\n",
      "/home/nbuser/anaconda3_501/lib/python3.6/site-packages/matplotlib/contour.py:1180: UserWarning: No contour levels were found within the data range.\n",
      "  warnings.warn(\"No contour levels were found\"\n",
      "/home/nbuser/anaconda3_501/lib/python3.6/site-packages/matplotlib/contour.py:1180: UserWarning: No contour levels were found within the data range.\n",
      "  warnings.warn(\"No contour levels were found\"\n",
      "/home/nbuser/anaconda3_501/lib/python3.6/site-packages/sklearn/preprocessing/label.py:151: DeprecationWarning: The truth value of an empty array is ambiguous. Returning False, but in future this will result in an error. Use `array.size > 0` to check that an array is not empty.\n",
      "  if diff:\n",
      "/home/nbuser/anaconda3_501/lib/python3.6/site-packages/matplotlib/contour.py:1180: UserWarning: No contour levels were found within the data range.\n",
      "  warnings.warn(\"No contour levels were found\"\n"
     ]
    },
    {
     "data": {
      "image/png": "[encoded data removed]",
      "text/plain": [
       "<matplotlib.figure.Figure at 0x7fd01f25b4e0>"
      ]
     },
     "metadata": {},
     "output_type": "display_data"
    }
   ],
   "source": [
    "def createDictOfFillterVariables(X, kept_x_index = [2,3]):\n",
    "    num_var = X.shape[1]\n",
    "    #X_var = np.std(X, axis=0)\n",
    "    #X_mean = np.mean(X, axis=0)\n",
    "    X_mean = 1.5\n",
    "    X_var = 0.75\n",
    "    all_x_index = range(num_var)\n",
    "    filler_x_index = list(set(all_x_index) - set(kept_x_index))\n",
    "    filler_x_value_dict = {}\n",
    "    filler_x_range_dict = {}\n",
    "    for i in filler_x_index:\n",
    "        filler_x_range_dict[i] = X_var\n",
    "        filler_x_value_dict[i] = X_mean\n",
    "    return filler_x_value_dict, filler_x_range_dict\n",
    "\n",
    "def plotResults(used_x_index=[2,3]):\n",
    "    \"\"\"\n",
    "    \"\"\"\n",
    "    label_encoder,min_max_scaler, X_train, X_test, y_train, y_test = splitData(X,y,SPLIT_FRACTION,SEED)\n",
    "    # Set the figure\n",
    "    fig = plt.figure(figsize=(14, 12))\n",
    "    #Set the sub-plot grid\n",
    "    gs = gridspec.GridSpec(2, 3)\n",
    "    # Define grid locations\n",
    "    grds = [(0,0), (0,1), (0,2), (1,0), (1,1), (1,2)]\n",
    "    models = createAllModels()\n",
    "    filler_x_value_dict, filler_x_range_dict = createDictOfFillterVariables(X_train, kept_x_index=used_x_index)\n",
    "    for model_name, model, grd in zip(models.keys(), models.values(), grds):\n",
    "        model.fit(X_train, y_train)\n",
    "        ax = plt.subplot(gs[grd[0], grd[1]])\n",
    "        fig = plot_decision_regions(X=X_train, y=y_train, clf=model, feature_index=np.array(used_x_index),\n",
    "                                    filler_feature_values=filler_x_value_dict, \n",
    "                                    filler_feature_ranges=filler_x_range_dict, legend=2,ax=ax)\n",
    "        plt.title(model_name)\n",
    "    plt.show()\n",
    "\n",
    "plotResults()\n",
    "# X_, y_ = preProcessData()\n",
    "# filler_x_value_dict, filler_x_range_dict = createDictOfFillterVariables(X_, kept_x_index = [2,3])\n",
    "# filler_x_value_dict"
   ]
  },
  {
   "cell_type": "code",
   "execution_count": 9,
   "metadata": {},
   "outputs": [
    {
     "name": "stdout",
     "output_type": "stream",
     "text": [
      "y = [1 0 1 0 1]\n"
     ]
    },
    {
     "ename": "ValueError",
     "evalue": "filler_feature_values and filler_feature_ranges must have the same keys",
     "output_type": "error",
     "traceback": [
      "\u001b[0;31m---------------------------------------------------------------------------\u001b[0m",
      "\u001b[0;31mValueError\u001b[0m                                Traceback (most recent call last)",
      "\u001b[0;32m<ipython-input-9-fb1b1c558574>\u001b[0m in \u001b[0;36m<module>\u001b[0;34m()\u001b[0m\n\u001b[1;32m     34\u001b[0m     \u001b[0mplt\u001b[0m\u001b[0;34m.\u001b[0m\u001b[0mshow\u001b[0m\u001b[0;34m(\u001b[0m\u001b[0;34m)\u001b[0m\u001b[0;34m\u001b[0m\u001b[0m\n\u001b[1;32m     35\u001b[0m \u001b[0;34m\u001b[0m\u001b[0m\n\u001b[0;32m---> 36\u001b[0;31m \u001b[0mplotBoundary\u001b[0m\u001b[0;34m(\u001b[0m\u001b[0;34m)\u001b[0m\u001b[0;34m\u001b[0m\u001b[0m\n\u001b[0m",
      "\u001b[0;32m<ipython-input-9-fb1b1c558574>\u001b[0m in \u001b[0;36mplotBoundary\u001b[0;34m()\u001b[0m\n\u001b[1;32m     29\u001b[0m                           \u001b[0mfiller_feature_values\u001b[0m\u001b[0;34m=\u001b[0m\u001b[0;34m{\u001b[0m\u001b[0;36m0\u001b[0m\u001b[0;34m:\u001b[0m \u001b[0mX_value\u001b[0m\u001b[0;34m[\u001b[0m\u001b[0;36m0\u001b[0m\u001b[0;34m]\u001b[0m\u001b[0;34m,\u001b[0m \u001b[0;36m1\u001b[0m\u001b[0;34m:\u001b[0m \u001b[0mX_value\u001b[0m\u001b[0;34m[\u001b[0m\u001b[0;36m1\u001b[0m\u001b[0;34m]\u001b[0m\u001b[0;34m,\u001b[0m \u001b[0;36m4\u001b[0m\u001b[0;34m:\u001b[0m \u001b[0mX_value\u001b[0m\u001b[0;34m[\u001b[0m\u001b[0;36m4\u001b[0m\u001b[0;34m]\u001b[0m\u001b[0;34m,\u001b[0m \u001b[0;36m5\u001b[0m\u001b[0;34m:\u001b[0m \u001b[0mX_value\u001b[0m\u001b[0;34m[\u001b[0m\u001b[0;36m5\u001b[0m\u001b[0;34m]\u001b[0m\u001b[0;34m}\u001b[0m\u001b[0;34m,\u001b[0m\u001b[0;34m\u001b[0m\u001b[0m\n\u001b[1;32m     30\u001b[0m                           \u001b[0mfiller_feature_ranges\u001b[0m\u001b[0;34m=\u001b[0m\u001b[0;34m{\u001b[0m\u001b[0;36m0\u001b[0m\u001b[0;34m:\u001b[0m \u001b[0mX_range\u001b[0m\u001b[0;34m[\u001b[0m\u001b[0;36m2\u001b[0m\u001b[0;34m]\u001b[0m\u001b[0;34m,\u001b[0m \u001b[0;36m3\u001b[0m\u001b[0;34m:\u001b[0m \u001b[0mX_range\u001b[0m\u001b[0;34m[\u001b[0m\u001b[0;36m3\u001b[0m\u001b[0;34m]\u001b[0m\u001b[0;34m,\u001b[0m \u001b[0;36m0\u001b[0m\u001b[0;34m:\u001b[0m \u001b[0mX_range\u001b[0m\u001b[0;34m[\u001b[0m\u001b[0;36m0\u001b[0m\u001b[0;34m]\u001b[0m\u001b[0;34m,\u001b[0m \u001b[0;36m1\u001b[0m\u001b[0;34m:\u001b[0m \u001b[0mX_range\u001b[0m\u001b[0;34m[\u001b[0m\u001b[0;36m5\u001b[0m\u001b[0;34m]\u001b[0m\u001b[0;34m}\u001b[0m\u001b[0;34m,\u001b[0m\u001b[0;34m\u001b[0m\u001b[0m\n\u001b[0;32m---> 31\u001b[0;31m                           res=0.02, legend=1, ax=ax)\n\u001b[0m\u001b[1;32m     32\u001b[0m     \u001b[0;31m# Adding axes annotations\u001b[0m\u001b[0;34m\u001b[0m\u001b[0;34m\u001b[0m\u001b[0m\n\u001b[1;32m     33\u001b[0m     \u001b[0mfig\u001b[0m\u001b[0;34m.\u001b[0m\u001b[0msuptitle\u001b[0m\u001b[0;34m(\u001b[0m\u001b[0;34m'Boundary Plot [Logistic]'\u001b[0m\u001b[0;34m)\u001b[0m\u001b[0;34m\u001b[0m\u001b[0m\n",
      "\u001b[0;32m~/anaconda3_501/lib/python3.6/site-packages/mlxtend/plotting/decision_regions.py\u001b[0m in \u001b[0;36mplot_decision_regions\u001b[0;34m(X, y, clf, feature_index, filler_feature_values, filler_feature_ranges, ax, X_highlight, res, legend, hide_spines, markers, colors, scatter_kwargs, contourf_kwargs, scatter_highlight_kwargs)\u001b[0m\n\u001b[1;32m    179\u001b[0m             \u001b[0;32mif\u001b[0m \u001b[0;32mnot\u001b[0m \u001b[0mset\u001b[0m\u001b[0;34m(\u001b[0m\u001b[0mfiller_feature_values\u001b[0m\u001b[0;34m)\u001b[0m \u001b[0;34m==\u001b[0m \u001b[0mset\u001b[0m\u001b[0;34m(\u001b[0m\u001b[0mfiller_feature_ranges\u001b[0m\u001b[0;34m)\u001b[0m\u001b[0;34m:\u001b[0m\u001b[0;34m\u001b[0m\u001b[0m\n\u001b[1;32m    180\u001b[0m                 raise ValueError(\n\u001b[0;32m--> 181\u001b[0;31m                     \u001b[0;34m'filler_feature_values and filler_feature_ranges must '\u001b[0m\u001b[0;34m\u001b[0m\u001b[0m\n\u001b[0m\u001b[1;32m    182\u001b[0m                     'have the same keys')\n\u001b[1;32m    183\u001b[0m \u001b[0;34m\u001b[0m\u001b[0m\n",
      "\u001b[0;31mValueError\u001b[0m: filler_feature_values and filler_feature_ranges must have the same keys"
     ]
    },
    {
     "data": {
      "image/png": "[encoded data removed]",
      "text/plain": [
       "<matplotlib.figure.Figure at 0x7f31288ef0b8>"
      ]
     },
     "metadata": {},
     "output_type": "display_data"
    }
   ],
   "source": [
    "def plotBoundary():\n",
    "    value = 1.5\n",
    "    width = 0.75\n",
    "    url = \"https://raw.githubusercontent.com/jbrownlee/Datasets/master/pima-indians-diabetes.data.csv\"\n",
    "    names = ['preg', 'plas', 'pres', 'skin', 'test', 'mass', 'pedi', 'age', 'class']\n",
    "    pima_data = pd.read_csv(url, names=names)\n",
    "    selected_features = [2,3,4,5,6,7]\n",
    "    data = pima_data.values\n",
    "    scaler = MinMaxScaler()\n",
    "    scaler.fit(data)\n",
    "    data_scaled = scaler.transform(data)\n",
    "    X = data_scaled[:,selected_features]\n",
    "    y = data[:,-1]\n",
    "    y = y.astype(np.int64)\n",
    "    X_value = np.mean(X, axis=0)\n",
    "    X_range = X_value/2.0\n",
    "    print(\"y = {}\".format(y[:5]))\n",
    "    models = createAllModels()\n",
    "    fig, ax = plt.subplots()\n",
    "    model = models['SVM']\n",
    "    #model = SVC()\n",
    "    model.fit(X, y)\n",
    "    feature_index = np.array([2, 3])\n",
    "#     plot_decision_regions(X, y, clf=model,feature_index=feature_index, markers='^',\n",
    "#                           filler_feature_values={2: value, 3: value, 4: value, 5: value, 0: value, 1: value},\n",
    "#                           filler_feature_ranges={2: width, 3: width, 4: width, 5: width, 0: width, 1: width},\n",
    "#                           res=0.02, legend=1, ax=ax)\n",
    "    plot_decision_regions(X, y, clf=model, feature_index=feature_index,\n",
    "                          filler_feature_values={0: X_value[0], 1: X_value[1], 4: X_value[4], 5: X_value[5]},\n",
    "                          filler_feature_ranges={0: X_range[2], 3: X_range[3], 4: X_range[4], 5: X_range[5]},\n",
    "                          res=0.02, legend=1, ax=ax)\n",
    "    # Adding axes annotations\n",
    "    fig.suptitle('Boundary Plot [Logistic]')\n",
    "    plt.show()\n",
    "\n",
    "plotBoundary()"
   ]
  },
  {
   "cell_type": "code",
   "execution_count": 95,
   "metadata": {},
   "outputs": [
    {
     "name": "stdout",
     "output_type": "stream",
     "text": [
      "y = [1 1 0 1 0]\n"
     ]
    },
    {
     "data": {
      "image/png": "[encoded data removed]",
      "text/plain": [
       "<matplotlib.figure.Figure at 0x7fd004343c18>"
      ]
     },
     "metadata": {},
     "output_type": "display_data"
    }
   ],
   "source": [
    "from mlxtend.plotting import plot_decision_regions\n",
    "import matplotlib.pyplot as plt\n",
    "from sklearn import datasets\n",
    "from sklearn.svm import SVC\n",
    "\n",
    "# Loading some example data\n",
    "X, y = datasets.make_blobs(n_samples=600, n_features=3,\n",
    "                           centers=[[2, 2, -2],[-2, -2, 2]],\n",
    "                           cluster_std=[2, 2], random_state=2)\n",
    "print(\"y = {}\".format(y[:5]))\n",
    "# Training a classifier\n",
    "svm = SVC()\n",
    "svm.fit(X, y)\n",
    "\n",
    "# Plotting decision regions\n",
    "fig, ax = plt.subplots()\n",
    "# Decision region for feature 3 = 1.5\n",
    "value = 1.5\n",
    "# Plot training sample with feature 3 = 1.5 +/- 0.75\n",
    "width = 0.75\n",
    "plot_decision_regions(X, y, clf=svm,\n",
    "                      filler_feature_values={2: value},\n",
    "                      filler_feature_ranges={2: width},\n",
    "                      legend=2, ax=ax)\n",
    "ax.set_xlabel('Feature 1')\n",
    "ax.set_ylabel('Feature 2')\n",
    "ax.set_title('Feature 3 = {}'.format(value))\n",
    "\n",
    "# Adding axes annotations\n",
    "fig.suptitle('SVM on make_blobs')\n",
    "plt.show()"
   ]
  },
  {
   "cell_type": "code",
   "execution_count": 83,
   "metadata": {},
   "outputs": [],
   "source": [
    "pima_data = pd.read_csv('https://raw.githubusercontent.com/jbrownlee/Datasets/master/pima-indians-diabetes.data.csv') \n",
    "X = pima_data.values[:,:8]\n",
    "y = pima_data.values[:,-1]"
   ]
  },
  {
   "cell_type": "code",
   "execution_count": 99,
   "metadata": {},
   "outputs": [
    {
     "data": {
      "text/plain": [
       "6          int64\n",
       "148        int64\n",
       "72         int64\n",
       "35         int64\n",
       "0          int64\n",
       "33.6     float64\n",
       "0.627    float64\n",
       "50         int64\n",
       "1          int64\n",
       "dtype: object"
      ]
     },
     "execution_count": 99,
     "metadata": {},
     "output_type": "execute_result"
    }
   ],
   "source": [
    "pima_data.dtypes"
   ]
  },
  {
   "cell_type": "code",
   "execution_count": 22,
   "metadata": {},
   "outputs": [],
   "source": [
    "plot_decision_regions??"
   ]
  },
  {
   "cell_type": "code",
   "execution_count": 28,
   "metadata": {},
   "outputs": [
    {
     "name": "stdout",
     "output_type": "stream",
     "text": [
      "(768, 2)\n"
     ]
    },
    {
     "data": {
      "image/png": "[encoded data removed]",
      "text/plain": [
       "<matplotlib.figure.Figure at 0x7f095e1aba20>"
      ]
     },
     "metadata": {},
     "output_type": "display_data"
    }
   ],
   "source": [
    "import numpy as np, matplotlib.pyplot as plt\n",
    "from sklearn.neighbors.classification import KNeighborsClassifier\n",
    "from sklearn.datasets.base import load_iris\n",
    "from sklearn.manifold.t_sne import TSNE\n",
    "from sklearn.linear_model.logistic import LogisticRegression\n",
    "\n",
    "def plotBoundaryPimaData():\n",
    "    # replace the below by your data and model\n",
    "    #iris = load_iris()\n",
    "    #X,y = iris.data, iris.target\n",
    "    url = \"https://raw.githubusercontent.com/jbrownlee/Datasets/master/pima-indians-diabetes.data.csv\"\n",
    "    names = ['preg', 'plas', 'pres', 'skin', 'test', 'mass', 'pedi', 'age', 'class']\n",
    "    pima_data = pd.read_csv(url, names=names)\n",
    "    X = pima_data.values[:,:8]\n",
    "    y = pima_data.values[:,-1]\n",
    "    X_Train_embedded = TSNE(n_components=2).fit_transform(X)\n",
    "    print(X_Train_embedded.shape)\n",
    "    model = LogisticRegression().fit(X,y)\n",
    "    y_predicted = model.predict(X)\n",
    "    # replace the above by your data and model\n",
    "\n",
    "    # create meshgrid\n",
    "    resolution = 100 # 100x100 background pixels\n",
    "    X2d_xmin, X2d_xmax = np.min(X_Train_embedded[:,0]), np.max(X_Train_embedded[:,0])\n",
    "    X2d_ymin, X2d_ymax = np.min(X_Train_embedded[:,1]), np.max(X_Train_embedded[:,1])\n",
    "    xx, yy = np.meshgrid(np.linspace(X2d_xmin, X2d_xmax, resolution), np.linspace(X2d_ymin, X2d_ymax, resolution))\n",
    "\n",
    "    # approximate Voronoi tesselation on resolution x resolution grid using 1-NN\n",
    "    background_model = KNeighborsClassifier(n_neighbors=1).fit(X_Train_embedded, y_predicted) \n",
    "    voronoiBackground = background_model.predict(np.c_[xx.ravel(), yy.ravel()])\n",
    "    voronoiBackground = voronoiBackground.reshape((resolution, resolution))\n",
    "\n",
    "    #plot\n",
    "    plt.contourf(xx, yy, voronoiBackground)\n",
    "    plt.scatter(X_Train_embedded[:,0], X_Train_embedded[:,1], c=y)\n",
    "    plt.show()\n",
    "    \n",
    "plotBoundaryPimaData()"
   ]
  },
  {
   "cell_type": "code",
   "execution_count": null,
   "metadata": {},
   "outputs": [],
   "source": []
  }
 ],
 "metadata": {
  "kernelspec": {
   "display_name": "Python 3.6",
   "language": "python",
   "name": "python36"
  },
  "language_info": {
   "codemirror_mode": {
    "name": "ipython",
    "version": 3
   },
   "file_extension": ".py",
   "mimetype": "text/x-python",
   "name": "python",
   "nbconvert_exporter": "python",
   "pygments_lexer": "ipython3",
   "version": "3.6.3"
  }
 },
 "nbformat": 4,
 "nbformat_minor": 2
}
