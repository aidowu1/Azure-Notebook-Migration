{
  "cells": [
    {
      "metadata": {},
      "cell_type": "markdown",
      "source": "## Demo the use of PyTorch\n    - Simple implementation of a basic Neural Network in PyTorch"
    },
    {
      "metadata": {},
      "cell_type": "markdown",
      "source": "### Install PyTorch"
    },
    {
      "metadata": {
        "trusted": true
      },
      "cell_type": "code",
      "source": "#!conda install -y pytorch torchvision -c pytorch",
      "execution_count": 3,
      "outputs": []
    },
    {
      "metadata": {},
      "cell_type": "markdown",
      "source": "### Define the imports"
    },
    {
      "metadata": {
        "trusted": true
      },
      "cell_type": "code",
      "source": "import torch\nimport matplotlib.pylab as pl\n\n%matplotlib inline\n",
      "execution_count": 4,
      "outputs": []
    },
    {
      "metadata": {},
      "cell_type": "markdown",
      "source": "### Use PyTorch to compute a simple Neural Net"
    },
    {
      "metadata": {
        "trusted": true
      },
      "cell_type": "code",
      "source": "def createAndRunBasicNN():\n    dtype = torch.float\n    device = torch.device(\"cpu\")\n    # dtype = torch.device(\"cuda:0\") # Uncomment this to run on GPU\n\n    # N is batch size; D_in is input dimension;\n    # H is hidden dimension; D_out is output dimension.\n    N, D_in, H, D_out = 64, 1000, 100, 10\n\n    # Create random input and output data\n    x = torch.randn(N, D_in, device=device, dtype=dtype)\n    y = torch.randn(N, D_out, device=device, dtype=dtype)\n\n    # Randomly initialize weights\n    w1 = torch.randn(D_in, H, device=device, dtype=dtype)\n    w2 = torch.randn(H, D_out, device=device, dtype=dtype)\n    \n    # Define results container\n    results = []\n\n    print(\"Starting the Neural Net main loop..\")\n    learning_rate = 1e-6\n    for t in range(500):\n        # Forward pass: compute predicted y\n        h = x.mm(w1)\n        h_relu = h.clamp(min=0)\n        y_pred = h_relu.mm(w2)\n\n        # Compute and print loss\n        loss = (y_pred - y).pow(2).sum().item()\n        result_i = (t, loss)\n        results.append(result_i)\n        if t % 50 == 0:\n            print(\"Current result for iteration {0} is {1}\".format(result_i[0], result_i[1]))\n\n        # Backprop to compute gradients of w1 and w2 with respect to loss\n        grad_y_pred = 2.0 * (y_pred - y)\n        grad_w2 = h_relu.t().mm(grad_y_pred)\n        grad_h_relu = grad_y_pred.mm(w2.t())\n        grad_h = grad_h_relu.clone()\n        grad_h[h < 0] = 0\n        grad_w1 = x.t().mm(grad_h)\n\n        # Update weights using gradient descent\n        w1 -= learning_rate * grad_w1\n        w2 -= learning_rate * grad_w2\n    return results\n\nresults = createAndRunBasicNN()",
      "execution_count": 13,
      "outputs": [
        {
          "output_type": "stream",
          "text": "Starting the Neural Net main loop..\nCurrent result for iteration 0 is 24076296.0\nCurrent result for iteration 50 is 17187.1445312\nCurrent result for iteration 100 is 824.501098633\nCurrent result for iteration 150 is 64.6993713379\nCurrent result for iteration 200 is 6.2925028801\nCurrent result for iteration 250 is 0.706029295921\nCurrent result for iteration 300 is 0.0884957686067\nCurrent result for iteration 350 is 0.0122790271416\nCurrent result for iteration 400 is 0.00209662970155\nCurrent result for iteration 450 is 0.000529701530468\n",
          "name": "stdout"
        }
      ]
    },
    {
      "metadata": {},
      "cell_type": "markdown",
      "source": "### Plot Convergence of the Neural Net Loss function"
    },
    {
      "metadata": {
        "trusted": true
      },
      "cell_type": "code",
      "source": "def plotNNConvergence():\n    zipped_results = zip(*results)\n    iterations, loss = zipped_results[0], zipped_results[1]\n    pl.plot(iterations, loss)\n    pl.xlabel(\"Iterations\")\n    pl.ylabel(\"Loss\")\n\nplotNNConvergence()",
      "execution_count": 24,
      "outputs": [
        {
          "output_type": "display_data",
          "data": {
            "image/png": "[encoded data removed]",
            "text/plain": "<Figure size 432x288 with 1 Axes>"
          },
          "metadata": {
            "needs_background": "light"
          }
        }
      ]
    },
    {
      "metadata": {
        "trusted": true
      },
      "cell_type": "code",
      "source": "",
      "execution_count": null,
      "outputs": []
    }
  ],
  "metadata": {
    "kernelspec": {
      "name": "python2",
      "display_name": "Python 2",
      "language": "python"
    },
    "language_info": {
      "mimetype": "text/x-python",
      "nbconvert_exporter": "python",
      "name": "python",
      "pygments_lexer": "ipython2",
      "version": "2.7.15",
      "file_extension": ".py",
      "codemirror_mode": {
        "version": 2,
        "name": "ipython"
      }
    }
  },
  "nbformat": 4,
  "nbformat_minor": 2
}