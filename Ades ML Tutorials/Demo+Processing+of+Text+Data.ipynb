{
  "cells": [
    {
      "metadata": {},
      "cell_type": "markdown",
      "source": "## Demo Processing of Text Data"
    },
    {
      "metadata": {},
      "cell_type": "markdown",
      "source": "### Definition of imports"
    },
    {
      "metadata": {
        "trusted": true
      },
      "cell_type": "code",
      "source": "from sklearn.datasets import fetch_20newsgroups\nfrom sklearn.feature_extraction.text import TfidfTransformer\nfrom sklearn.datasets import fetch_20newsgroups\nfrom sklearn.decomposition import TruncatedSVD\nfrom sklearn.feature_extraction.text import TfidfVectorizer\nfrom sklearn import metrics\nfrom sklearn.model_selection import train_test_split\nfrom sklearn.cluster import KMeans, MiniBatchKMeans\n#from sklearn.utils import shuffle\nimport numpy as np\nimport matplotlib.pyplot as plt\nfrom time import time\nfrom os import path\nfrom random import shuffle\nimport glob\nimport re\nfrom html.parser import HTMLParser\nfrom nltk.corpus import stopwords\nfrom collections import defaultdict\nfrom nltk.stem.porter import PorterStemmer\nimport copy\nimport string\nimport pandas as pd\nfrom tabulate import tabulate\n\n%matplotlib inline",
      "execution_count": 1,
      "outputs": []
    },
    {
      "metadata": {},
      "cell_type": "markdown",
      "source": "### Specify a random seed"
    },
    {
      "metadata": {
        "trusted": true
      },
      "cell_type": "code",
      "source": "np.random.seed(200)",
      "execution_count": 2,
      "outputs": []
    },
    {
      "metadata": {},
      "cell_type": "markdown",
      "source": "###  Define constants settings"
    },
    {
      "metadata": {
        "trusted": true
      },
      "cell_type": "code",
      "source": "DATA_PATH = r\"C:\\Development\\Python\\AI\\Commercial_Projects\\HR_System\"\nHR_DATA_FILENAME = \"Start_doing_comments.csv\"\nHR_DOCS = path.join(DATA_PATH, HR_DATA_FILENAME)",
      "execution_count": 3,
      "outputs": []
    },
    {
      "metadata": {},
      "cell_type": "markdown",
      "source": "### Load the Corpus data from the source"
    },
    {
      "metadata": {
        "trusted": true
      },
      "cell_type": "code",
      "source": "def load20NewsGroupDocuments():\n    categories = ['alt.atheism', 'soc.religion.christian',\n              'comp.graphics', 'sci.med']\n    twenty_train = fetch_20newsgroups(subset='train',\n        categories=categories, shuffle=True, random_state=42)\n    docs = twenty_train.data\n    num_docs = len(docs)\n    print(\"Loaded the '20 News Group' data with a total of {} documents in the corpus. Data is stores in a list\".format(num_docs))\n    return docs\n\ndef loadDocumentsFromDisc(filename=HR_DOCS):\n    # open the file as read only\n    file = open(filename, 'r')\n    # read all text\n    text = file.read()\n    # close the file\n    file.close()\n    docs = text.split('\\n')\n    shuffle(docs)\n    num_docs = len(docs)\n    print(\"Loaded the HR System Data Corpus with a total of {} Number of documents\".format(num_docs))\n    return docs\n\nraw_docs = loadDocumentsFromDisc()",
      "execution_count": 4,
      "outputs": [
        {
          "output_type": "error",
          "ename": "FileNotFoundError",
          "evalue": "[Errno 2] No such file or directory: 'C:\\\\Development\\\\Python\\\\AI\\\\Commercial_Projects\\\\HR_System/Start_doing_comments.csv'",
          "traceback": [
            "\u001b[0;31m---------------------------------------------------------------------------\u001b[0m",
            "\u001b[0;31mFileNotFoundError\u001b[0m                         Traceback (most recent call last)",
            "\u001b[0;32m<ipython-input-4-25f08b2d6b66>\u001b[0m in \u001b[0;36m<module>\u001b[0;34m()\u001b[0m\n\u001b[1;32m     22\u001b[0m     \u001b[0;32mreturn\u001b[0m \u001b[0mdocs\u001b[0m\u001b[0;34m\u001b[0m\u001b[0m\n\u001b[1;32m     23\u001b[0m \u001b[0;34m\u001b[0m\u001b[0m\n\u001b[0;32m---> 24\u001b[0;31m \u001b[0mraw_docs\u001b[0m \u001b[0;34m=\u001b[0m \u001b[0mloadDocumentsFromDisc\u001b[0m\u001b[0;34m(\u001b[0m\u001b[0;34m)\u001b[0m\u001b[0;34m\u001b[0m\u001b[0m\n\u001b[0m",
            "\u001b[0;32m<ipython-input-4-25f08b2d6b66>\u001b[0m in \u001b[0;36mloadDocumentsFromDisc\u001b[0;34m(filename)\u001b[0m\n\u001b[1;32m     11\u001b[0m \u001b[0;32mdef\u001b[0m \u001b[0mloadDocumentsFromDisc\u001b[0m\u001b[0;34m(\u001b[0m\u001b[0mfilename\u001b[0m\u001b[0;34m=\u001b[0m\u001b[0mHR_DOCS\u001b[0m\u001b[0;34m)\u001b[0m\u001b[0;34m:\u001b[0m\u001b[0;34m\u001b[0m\u001b[0m\n\u001b[1;32m     12\u001b[0m     \u001b[0;31m# open the file as read only\u001b[0m\u001b[0;34m\u001b[0m\u001b[0;34m\u001b[0m\u001b[0m\n\u001b[0;32m---> 13\u001b[0;31m     \u001b[0mfile\u001b[0m \u001b[0;34m=\u001b[0m \u001b[0mopen\u001b[0m\u001b[0;34m(\u001b[0m\u001b[0mfilename\u001b[0m\u001b[0;34m,\u001b[0m \u001b[0;34m'r'\u001b[0m\u001b[0;34m)\u001b[0m\u001b[0;34m\u001b[0m\u001b[0m\n\u001b[0m\u001b[1;32m     14\u001b[0m     \u001b[0;31m# read all text\u001b[0m\u001b[0;34m\u001b[0m\u001b[0;34m\u001b[0m\u001b[0m\n\u001b[1;32m     15\u001b[0m     \u001b[0mtext\u001b[0m \u001b[0;34m=\u001b[0m \u001b[0mfile\u001b[0m\u001b[0;34m.\u001b[0m\u001b[0mread\u001b[0m\u001b[0;34m(\u001b[0m\u001b[0;34m)\u001b[0m\u001b[0;34m\u001b[0m\u001b[0m\n",
            "\u001b[0;31mFileNotFoundError\u001b[0m: [Errno 2] No such file or directory: 'C:\\\\Development\\\\Python\\\\AI\\\\Commercial_Projects\\\\HR_System/Start_doing_comments.csv'"
          ]
        }
      ]
    },
    {
      "metadata": {},
      "cell_type": "markdown",
      "source": "### Use basic Natural Language Processing steps to clean-up the Corpus data\nSteps will include:\n    - Remove non-alpha numeric characters in the corpus documents\n    - Set the all the text in the documents to lowercase\n    - Stem the text\n    - Gets rid of any empty text in each document"
    },
    {
      "metadata": {
        "trusted": true
      },
      "cell_type": "code",
      "source": "def cleanDocApproachOne(in_doc):\n    tokens = in_doc.split()\n    token_list = []\n    stemmer = PorterStemmer()\n    regex_non_alphanumeric = re.compile('[^0-9a-zA-Z]')  # REGEX for non alphanumeric chars\n    for token in tokens:\n        re_punc = re.compile('[%s]' % re.escape(string.punctuation))\n        # remove punctuation from each word\n        tokens = re_punc.sub(' ', token) \n        token = regex_non_alphanumeric.sub(' ', token)  # Filter text, remove non alphanumeric chars\n        token = token.lower()  # Lowercase the text\n        token = token.strip()\n        #token = stemmer.stem(token)  # Stem the text\n        if len(token) < 3:  # If the length of item is lower than 3, remove item\n            token = ''\n        token_list.append(token)\n    out_doc = ' '.join(token_list)\n    return out_doc\n\ndef cleanDocApproachTwo(in_doc):\n    # split into tokens by white space\n    tokens = in_doc.split()\n    # prepare regex for char filtering\n    re_punc = re.compile('[%s]' % re.escape(string.punctuation))\n    # remove punctuation from each word\n    tokens = [re_punc.sub('', w) for w in tokens]\n    # remove remaining tokens that are not alphabetic\n    tokens = [word for word in tokens if word.isalpha()]\n    # filter out stop words\n    stop_words = set(stopwords.words('english'))\n    tokens = [w for w in tokens if not w in stop_words]\n    # filter out short tokens\n    tokens = [word for word in tokens if len(word) > 3]\n    out_doc = ' '.join(tokens)\n    return out_doc\n\n\ndef cleanCorpus(docs):\n    clone_docs = copy.deepcopy(docs)\n    #items_to_clean = set(list(stopwords.words('english')) + ['\\n','\\n\\n','\\n\\n\\n','\\n\\n\\n\\n','ocroutput','',' '])\n    items_to_clean = set(list(stopwords.words('english')))\n    for index, in_doc in enumerate(clone_docs):\n        #out_doc = cleanDocApproachOne(in_doc)\n        out_doc = cleanDocApproachOne(in_doc)\n        clone_docs[index] = out_doc  # Put item back to the list\n    cleaned_docs = [elem for elem in clone_docs if elem not in items_to_clean]\n    # Remove empty items from the list\n    return cleaned_docs\n\nclean_docs = cleanCorpus(raw_docs)\nprint(\"raw_docs[:5]:\\n{}\\n\\n\".format(raw_docs[:5]))\nprint(\"clean_docs[:5]:\\n{}\\n\\n\".format(clean_docs[:5]))",
      "execution_count": 5,
      "outputs": [
        {
          "output_type": "error",
          "ename": "NameError",
          "evalue": "name 'raw_docs' is not defined",
          "traceback": [
            "\u001b[0;31m---------------------------------------------------------------------------\u001b[0m",
            "\u001b[0;31mNameError\u001b[0m                                 Traceback (most recent call last)",
            "\u001b[0;32m<ipython-input-5-a59bd757746d>\u001b[0m in \u001b[0;36m<module>\u001b[0;34m()\u001b[0m\n\u001b[1;32m     48\u001b[0m     \u001b[0;32mreturn\u001b[0m \u001b[0mcleaned_docs\u001b[0m\u001b[0;34m\u001b[0m\u001b[0m\n\u001b[1;32m     49\u001b[0m \u001b[0;34m\u001b[0m\u001b[0m\n\u001b[0;32m---> 50\u001b[0;31m \u001b[0mclean_docs\u001b[0m \u001b[0;34m=\u001b[0m \u001b[0mcleanCorpus\u001b[0m\u001b[0;34m(\u001b[0m\u001b[0mraw_docs\u001b[0m\u001b[0;34m)\u001b[0m\u001b[0;34m\u001b[0m\u001b[0m\n\u001b[0m\u001b[1;32m     51\u001b[0m \u001b[0mprint\u001b[0m\u001b[0;34m(\u001b[0m\u001b[0;34m\"raw_docs[:5]:\\n{}\\n\\n\"\u001b[0m\u001b[0;34m.\u001b[0m\u001b[0mformat\u001b[0m\u001b[0;34m(\u001b[0m\u001b[0mraw_docs\u001b[0m\u001b[0;34m[\u001b[0m\u001b[0;34m:\u001b[0m\u001b[0;36m5\u001b[0m\u001b[0;34m]\u001b[0m\u001b[0;34m)\u001b[0m\u001b[0;34m)\u001b[0m\u001b[0;34m\u001b[0m\u001b[0m\n\u001b[1;32m     52\u001b[0m \u001b[0mprint\u001b[0m\u001b[0;34m(\u001b[0m\u001b[0;34m\"clean_docs[:5]:\\n{}\\n\\n\"\u001b[0m\u001b[0;34m.\u001b[0m\u001b[0mformat\u001b[0m\u001b[0;34m(\u001b[0m\u001b[0mclean_docs\u001b[0m\u001b[0;34m[\u001b[0m\u001b[0;34m:\u001b[0m\u001b[0;36m5\u001b[0m\u001b[0;34m]\u001b[0m\u001b[0;34m)\u001b[0m\u001b[0;34m)\u001b[0m\u001b[0;34m\u001b[0m\u001b[0m\n",
            "\u001b[0;31mNameError\u001b[0m: name 'raw_docs' is not defined"
          ]
        }
      ]
    },
    {
      "metadata": {},
      "cell_type": "markdown",
      "source": "### Process the documents text data and vectorize it to a numeric matrix\nThis step will do the follwing transformations to the data:\n    - Tokenize the data\n    - Filter of Stopwords\n    - Convert the data from text to a numeric feature vector using TF-IDF transformation"
    },
    {
      "metadata": {
        "collapsed": true,
        "trusted": false
      },
      "cell_type": "code",
      "source": "def processDoTextAndVectorizeData(docs):\n    vectorizer = TfidfVectorizer(max_df=0.5, \n                                 min_df=2, stop_words='english',\n                                 use_idf=True)\n    X = vectorizer.fit_transform(docs)\n    #X = shuffle(X)\n    print(\"Vectorzed the data into numeric TF-IDF matrix of shape: {}\".format(X.shape))\n    return X, vectorizer\n    \n",
      "execution_count": 200,
      "outputs": []
    },
    {
      "metadata": {},
      "cell_type": "markdown",
      "source": "### Optionally, improve the performance of the unsupervised learning by reducing data dimensionality\n    -  using Truncated Singular Value Decomposition (SVD)"
    },
    {
      "metadata": {
        "collapsed": true,
        "trusted": false
      },
      "cell_type": "code",
      "source": "def reduceDataDimensionality(X):\n    svd = TruncatedSVD(opts.n_components)\n    normalizer = Normalizer(copy=False)\n    lsa = make_pipeline(svd, normalizer)\n    X = lsa.fit_transform(X)\n    explained_variance = svd.explained_variance_ratio_.sum()\n    print(\"Explained variance of the SVD step: {}%\".format(\n        int(explained_variance * 100)))\n    return X",
      "execution_count": 201,
      "outputs": []
    },
    {
      "metadata": {},
      "cell_type": "markdown",
      "source": "### Apply K-Means Clustering algorithm\n    - Cluster the data using K-means algorithm (based on a guessed number of clusters) to group the data into categorises"
    },
    {
      "metadata": {
        "collapsed": true,
        "trusted": false
      },
      "cell_type": "code",
      "source": "def applyKmeansClustering(X, guess_num_clusters, kmeans_type='classic', is_verbose=True):\n    if kmeans_type == 'classic':\n        km = KMeans(n_clusters=guess_num_clusters, init='k-means++', max_iter=1000, n_init=1,\n                verbose=is_verbose)\n    else:\n        km = MiniBatchKMeans(n_clusters=guess_num_clusters, init='k-means++', n_init=1,\n                         init_size=1000, batch_size=1000, verbose=is_verbose)\n    print(\"Clustering sparse data with {}\".format(km))\n    km.fit(X)\n    return km",
      "execution_count": 202,
      "outputs": []
    },
    {
      "metadata": {},
      "cell_type": "markdown",
      "source": "### Report the Performance of the Clustering Algorithm using Silhouette Coefficient"
    },
    {
      "metadata": {
        "collapsed": true,
        "trusted": false
      },
      "cell_type": "code",
      "source": "def reportClusteringPerformance(X, km, data_description=\"Training\"):\n    print(\"Silhouette Coefficient for {0} data: {1:.3f}\".format(data_description, metrics.silhouette_score(X, km.labels_, sample_size=1000)))\n    print()",
      "execution_count": 203,
      "outputs": []
    },
    {
      "metadata": {},
      "cell_type": "markdown",
      "source": "### Validate the Clustering Model using unseen validation data"
    },
    {
      "metadata": {
        "collapsed": true,
        "trusted": false
      },
      "cell_type": "code",
      "source": "def predictClusters(X, km, docs_valid):\n    predicted_clusters = km.predict(X)\n    #reportClusteringPerformance(X, km, 'Validation')\n    print(\"First 10 docs have these clusters:\\n{}\\n\\n\".format(predicted_clusters[:10]))\n    predicted_data = pd.DataFrame(dict(Profile_id = range(len(predicted_clusters)), Document = docs_valid, Cluster = predicted_clusters))\n    return predicted_data",
      "execution_count": 204,
      "outputs": []
    },
    {
      "metadata": {},
      "cell_type": "markdown",
      "source": "### Report the Top terms computed Cluster"
    },
    {
      "metadata": {
        "collapsed": true,
        "trusted": false
      },
      "cell_type": "code",
      "source": "def reportTopTermsOfComputedClusters(km, vectorizer, guess_num_clusters):\n    order_centroids = km.cluster_centers_.argsort()[:, ::-1]\n    terms = vectorizer.get_feature_names()\n    for i in range(guess_num_clusters):\n        print(\"Cluster %d:\" % i, end='')\n        for ind in order_centroids[i, :10]:\n            print(' %s' % terms[ind], end='')\n        print()",
      "execution_count": 205,
      "outputs": []
    },
    {
      "metadata": {},
      "cell_type": "markdown",
      "source": "### Finding the optimal number of clusters using the 'Elbow' method"
    },
    {
      "metadata": {
        "collapsed": true,
        "trusted": false
      },
      "cell_type": "code",
      "source": "def findOptimalNumberOfClusters(X, total_num_clusters, kmeans_type='classic', is_verbose=False):\n    t0 = time()\n    distortions = []\n    for i in range(1, total_num_clusters):\n        if kmeans_type == 'classic':\n            km = KMeans(n_clusters=i, init='k-means++', max_iter=10000, n_init=1,\n                    verbose=is_verbose)\n        else:\n            km = MiniBatchKMeans(n_clusters=i, init='k-means++', n_init=1,\n                             init_size=1000, batch_size=1000, verbose=is_verbose)\n        km.fit(X)\n        distortions.append(km.inertia_)\n    def plotElbow():\n        plt.plot(range(1, total_num_clusters), distortions, marker='o')\n        plt.title(\"Elbow Plot of Clustering Algorithm\")\n        plt.xlabel(\"Number of Clusters\")\n        plt.ylabel(\"Distortions\")\n        plt.show()\n    t1 = time()\n    elasped_time = t1 - t0\n    print(\"Search for optimal number of clusters took {0:.3f} seconds\".format(elasped_time))\n    plotElbow()\n            ",
      "execution_count": 206,
      "outputs": []
    },
    {
      "metadata": {
        "collapsed": true,
        "trusted": false
      },
      "cell_type": "code",
      "source": "",
      "execution_count": null,
      "outputs": []
    },
    {
      "metadata": {
        "trusted": false
      },
      "cell_type": "code",
      "source": "def getClusterData(model, data, clusters, \n                     feature_names, num_clusters,\n                     topn_features=10):\n\n    cluster_details = {}  \n    # get cluster centroids\n    ordered_centroids = model.cluster_centers_.argsort()[:, ::-1]\n    # get key features for each cluster\n    # get movies belonging to each cluster\n    for cluster_num in range(num_clusters):\n        cluster_details[cluster_num] = {}\n        cluster_details[cluster_num]['cluster_num'] = cluster_num\n        key_features = [feature_names[index] \n                        for index \n                        in ordered_centroids[cluster_num, :topn_features]]\n        cluster_details[cluster_num]['key_features'] = key_features\n        \n        profiles = movie_data[movie_data['Cluster'] == cluster_num]['Profile_ID'].values.tolist()\n        cluster_details[cluster_num]['Documents'] = movies\n    \n    return cluster_details\n        \n       \n    \ndef print_cluster_data(cluster_data):\n    # print cluster details\n    for cluster_num, cluster_details in cluster_data.items():\n        print('Cluster {} details:'.format(cluster_num))\n        print('-'*20)\n        print('Key features:', cluster_details['key_features'])\n        print('Movies in this cluster:')\n        print(', '.join(cluster_details['movies']))\n        print('='*40)",
      "execution_count": 207,
      "outputs": []
    },
    {
      "metadata": {
        "collapsed": true,
        "trusted": false
      },
      "cell_type": "code",
      "source": "",
      "execution_count": null,
      "outputs": []
    },
    {
      "metadata": {
        "collapsed": true,
        "trusted": false
      },
      "cell_type": "code",
      "source": "",
      "execution_count": null,
      "outputs": []
    },
    {
      "metadata": {},
      "cell_type": "markdown",
      "source": "### Main Loop of the Data Clustering Process\n"
    },
    {
      "metadata": {
        "trusted": false
      },
      "cell_type": "code",
      "source": "def mainLoop():\n    np.random.seed(100)\n    total_num_clusters = 12\n    guess_num_clusters = 5\n    is_reduce_dim = False    \n    kmeans_algo_type = 'classic'\n    num_train_samples = 800\n    t0 = time()\n    print(\"Starting 8 Data Clustering Steps..\\n\\n\")\n    print(\"1. Load the Documents from the disc\")\n    #docs = loadDocumentsFromDisc()\n    raw_docs = loadDocumentsFromDisc()\n    docs = cleanCorpus(raw_docs)\n    print(\"2. Process the documents text data and vectorize it to a numeric matrix\")\n    X, vectorizer = processDoTextAndVectorizeData(docs)\n    print(\"3. Optionally, improve the performance of the unsupervised learning by reducing data dimensionality\")\n    if is_reduce_dim:\n        reduceDataDimensionality(X)\n    print(\"4. Split data into train and validation sets\")\n    X_train = X[:num_train_samples]\n    X_valid = X[num_train_samples:]\n    print(\"5. Cluster the data using K-means algorithm (based on a guessed number of clusters) to group the data into categorises\")\n    km = applyKmeansClustering(X_train, guess_num_clusters)\n    print(\"6. Report the Performance of the Clustering Algorithm on the Training Data using Silhouette Coefficient\")\n    reportClusteringPerformance(X_train, km)\n    print(\"7. Predict the Clusters running the tained model on unseen validation data\")\n    predicted_data = predictClusters(X_valid, km, docs[num_train_samples:])\n    print(\"predicted_data.head(10) = \\n{}\\n\".format(predicted_data.head(10)))\n    #print(tabulate(predicted_data.head(10), headers='keys', tablefmt='psql'))\n    print(\"8. Report the Top terms computed Cluster\")\n    reportTopTermsOfComputedClusters(km, vectorizer, guess_num_clusters)\n    t1 = time()\n    elasped_time = t1 - t0\n    print(\"Clustering process took {0:.3f} seconds\".format(elasped_time))\n    print(\"\")\n    findOptimalNumberOfClusters(X_train, total_num_clusters)\n    return km, predicted_data\n\nkm, predicted_data = mainLoop()",
      "execution_count": 208,
      "outputs": [
        {
          "name": "stdout",
          "output_type": "stream",
          "text": "Starting 8 Data Clustering Steps..\n\n\n1. Load the Documents from the disc\nLoaded the HR System Data Corpus with a total of 10156 Number of documents\n2. Process the documents text data and vectorize it to a numeric matrix\nVectorzed the data into numeric TF-IDF matrix of shape: (10156, 2705)\n3. Optionally, improve the performance of the unsupervised learning by reducing data dimensionality\n4. Split data into train and validation sets\n5. Cluster the data using K-means algorithm (based on a guessed number of clusters) to group the data into categorises\nClustering sparse data with KMeans(algorithm='auto', copy_x=True, init='k-means++', max_iter=1000,\n    n_clusters=5, n_init=1, n_jobs=1, precompute_distances='auto',\n    random_state=None, tol=0.0001, verbose=True)\nInitialization complete\nIteration  0, inertia 714.112\nIteration  1, inertia 704.386\nConverged at iteration 1: center shift 0.000000e+00 within tolerance 3.420417e-08\n6. Report the Performance of the Clustering Algorithm on the Training Data using Silhouette Coefficient\nSilhouette Coefficient for Training data: 0.061\n\n7. Predict the Clusters running the tained model on unseen validation data\nFirst 10 docs have these clusters:\n[0 2 0 0 0 0 0 0 0 0]\n\n\npredicted_data.head(10) = \n   Cluster                                           Document  Profile_id\n0        0  appreciating the work carried out  team member...           0\n1        2                                              start           1\n2        0         providing instruction  the new departments           2\n3        0                                  better onboarding           3\n4        0   manager creates  environment that helps team ...           4\n5        0                          new 4dx board would  cool           5\n6        0  more control  staff  that  left repeating repe...           6\n7        0             start helping their subordinates  work           7\n8        0  giving more praise from him personally and not...           8\n9        0  1 1 conversations with team members being oper...           9\n\n8. Report the Top terms computed Cluster\nCluster 0: training increasing work team staff employees new listening salaries meetings\nCluster 1: speak regularly come staff zero expect experience expenses expense expecting\nCluster 2: start listening expand expenses expense expecting expected expectations expect expanding\nCluster 3: fun days wages department bonuses raise expanding expenses expense expecting\nCluster 4: slippers group putting rooms expand expense expecting expected expectations expect\nClustering process took 2.224 seconds\n\nSearch for optimal number of clusters took 0.870 seconds\n"
        },
        {
          "data": {
            "image/png": "[encoded data removed]",
            "text/plain": "<Figure size 432x288 with 1 Axes>"
          },
          "metadata": {},
          "output_type": "display_data"
        }
      ]
    },
    {
      "metadata": {
        "collapsed": true,
        "trusted": false
      },
      "cell_type": "code",
      "source": "",
      "execution_count": null,
      "outputs": []
    },
    {
      "metadata": {
        "collapsed": true,
        "trusted": false
      },
      "cell_type": "code",
      "source": "getClusterData(model, data, clusters, feature_names, num_clusters)",
      "execution_count": null,
      "outputs": []
    },
    {
      "metadata": {
        "collapsed": true,
        "trusted": false
      },
      "cell_type": "code",
      "source": "",
      "execution_count": null,
      "outputs": []
    },
    {
      "metadata": {
        "collapsed": true,
        "trusted": false
      },
      "cell_type": "code",
      "source": "",
      "execution_count": null,
      "outputs": []
    }
  ],
  "metadata": {
    "kernelspec": {
      "name": "python3",
      "display_name": "Python 3",
      "language": "python"
    },
    "language_info": {
      "mimetype": "text/x-python",
      "nbconvert_exporter": "python",
      "name": "python",
      "pygments_lexer": "ipython3",
      "version": "3.5.4",
      "file_extension": ".py",
      "codemirror_mode": {
        "version": 3,
        "name": "ipython"
      }
    }
  },
  "nbformat": 4,
  "nbformat_minor": 2
}