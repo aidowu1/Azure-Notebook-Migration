{
 "cells": [
  {
   "cell_type": "markdown",
   "metadata": {
    "collapsed": true
   },
   "source": [
    "## Publish OpenHack Model As A Web Service\n",
    "- Reference Blog: https://towardsdatascience.com/create-an-azure-machine-learning-web-service-with-python-and-azure-dsvm-f7a16a925c4b"
   ]
  },
  {
   "cell_type": "code",
   "execution_count": null,
   "metadata": {},
   "outputs": [],
   "source": []
  },
  {
   "cell_type": "markdown",
   "metadata": {},
   "source": [
    "### Ensure we have the latest versions of Azure CLI Packages:\n",
    " - update (uninstall/re-install) azure-cli\n",
    " - update (uninstall/re-install) azure-cli-ml\n",
    " - update (uninstall/re-install) azure-ml-api-sdk"
   ]
  },
  {
   "cell_type": "code",
   "execution_count": 1,
   "metadata": {},
   "outputs": [],
   "source": [
    "#!pip uninstall azure-cli azure-cli-ml azure-ml-api-sdk\n",
    "#!pip install azure-cli azure-cli-ml azure-ml-api-sdk"
   ]
  },
  {
   "cell_type": "code",
   "execution_count": null,
   "metadata": {},
   "outputs": [],
   "source": []
  },
  {
   "cell_type": "code",
   "execution_count": null,
   "metadata": {},
   "outputs": [],
   "source": [
    "def init():\n",
    "    from sklearn.externals import joblib\n",
    "\n",
    "    global model\n",
    "    model = joblib.load('OpenHackModel.pl')\n",
    "\n",
    "def run(input_image):\n",
    "    import json\n",
    "    pred = model.predict(input_image)\n",
    "    return json.dumps(str(pred[0]))\n",
    "\n",
    "def main():\n",
    "    from azureml.api.schema.dataTypes import DataTypes\n",
    "    from azureml.api.schema.sampleDefinition import SampleDefinition\n",
    "    from azureml.api.realtime.services import generate_schema\n",
    "    import pandas\n",
    "\n",
    "    df = pandas.DataFrame(data=[[190, 60, 38]], columns=['height', 'width', 'shoe_size'])\n",
    "\n",
    "    # Test the functions' output\n",
    "    init()\n",
    "    input1 = pandas.DataFrame([[190, 60, 38]])\n",
    "    print(\"Result: \" + run(input1))\n",
    "\n",
    "    inputs = {\"input_df\": SampleDefinition(DataTypes.PANDAS, df)}\n",
    "\n",
    "    # Generate the service_schema.json\n",
    "    generate_schema(run_func=run, inputs=inputs, filepath='service_schema.json')\n",
    "    print(\"Schema generated\")\n"
   ]
  }
 ],
 "metadata": {
  "kernelspec": {
   "display_name": "Python 3",
   "language": "python",
   "name": "python3"
  },
  "language_info": {
   "codemirror_mode": {
    "name": "ipython",
    "version": 3
   },
   "file_extension": ".py",
   "mimetype": "text/x-python",
   "name": "python",
   "nbconvert_exporter": "python",
   "pygments_lexer": "ipython3",
   "version": "3.5.4"
  }
 },
 "nbformat": 4,
 "nbformat_minor": 2
}
