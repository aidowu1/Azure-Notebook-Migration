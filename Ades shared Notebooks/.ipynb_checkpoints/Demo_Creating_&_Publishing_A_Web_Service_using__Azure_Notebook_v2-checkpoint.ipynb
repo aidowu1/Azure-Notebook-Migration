{
 "cells": [
  {
   "cell_type": "markdown",
   "metadata": {
    "collapsed": true
   },
   "source": [
    "## Demo Creating & Publishing A Web Service using Azure Notebook"
   ]
  },
  {
   "cell_type": "code",
   "execution_count": 52,
   "metadata": {},
   "outputs": [],
   "source": [
    "import azureml\n",
    "from azureml import services\n",
    "import numpy as np\n",
    "workspace_id = '27eac0871d3f45fe8702d73863cc5607'\n",
    "authorization_token = '309378c2039e435ebbdce34e6fbdb956'\n",
    "ws = azureml.Workspace(workspace_id, authorization_token)\n",
    "\n",
    "@services.publish(workspace_id, authorization_token)\n",
    "@services.types(a = float, b = float)\n",
    "@services.returns(float)\n",
    "def addNums(a, b):\n",
    "    return (a + b)"
   ]
  },
  {
   "cell_type": "markdown",
   "metadata": {},
   "source": [
    "### Explore the service and it attributes"
   ]
  },
  {
   "cell_type": "code",
   "execution_count": 53,
   "metadata": {},
   "outputs": [
    {
     "data": {
      "text/plain": [
       "['__annotations__',\n",
       " '__call__',\n",
       " '__class__',\n",
       " '__closure__',\n",
       " '__code__',\n",
       " '__defaults__',\n",
       " '__delattr__',\n",
       " '__dict__',\n",
       " '__doc__',\n",
       " '__format__',\n",
       " '__get__',\n",
       " '__getattribute__',\n",
       " '__globals__',\n",
       " '__hash__',\n",
       " '__init__',\n",
       " '__module__',\n",
       " '__name__',\n",
       " '__new__',\n",
       " '__reduce__',\n",
       " '__reduce_ex__',\n",
       " '__repr__',\n",
       " '__setattr__',\n",
       " '__sizeof__',\n",
       " '__str__',\n",
       " '__subclasshook__',\n",
       " 'func_closure',\n",
       " 'func_code',\n",
       " 'func_defaults',\n",
       " 'func_dict',\n",
       " 'func_doc',\n",
       " 'func_globals',\n",
       " 'func_name',\n",
       " 'service']"
      ]
     },
     "execution_count": 53,
     "metadata": {},
     "output_type": "execute_result"
    }
   ],
   "source": [
    "dir(addNums)"
   ]
  },
  {
   "cell_type": "markdown",
   "metadata": {},
   "source": [
    "### Get specific info about the service such as (url, api_key and authorization_id)"
   ]
  },
  {
   "cell_type": "code",
   "execution_count": 54,
   "metadata": {},
   "outputs": [
    {
     "name": "stdout",
     "output_type": "stream",
     "text": [
      "Service URL: \n",
      "https://ussouthcentral.services.azureml.net/workspaces/27eac0871d3f45fe8702d73863cc5607/services/b39d7f7439414d08a85d719dcfd2fda4/execute?api-version=2.0\n",
      "\n",
      "API Key: \n",
      "XoZjlxy9q4zDDnA9v9VIXp0QhiOAJ8cDHH8lagxiLSM6VUltvnwnLNOzk1T2N/85T8gy9elPlQTWpg4VuB/nkg==\n",
      "\n",
      "Help URL: \n",
      "https://studio.azureml.net/apihelp/workspaces/27eac0871d3f45fe8702d73863cc5607/webservices/2a3db625ad8a45b6b5f83078bd5a39f5/endpoints/b39d7f7439414d08a85d719dcfd2fda4/score\n",
      "\n",
      "Service ID: \n",
      "2a3db625ad8a45b6b5f83078bd5a39f5\n",
      "\n",
      "\n"
     ]
    }
   ],
   "source": [
    "service_url = addNums.service.url \n",
    "api_key = addNums.service.api_key\n",
    "help_url = addNums.service.help_url\n",
    "service_id = addNums.service.service_id\n",
    "print(\"Service URL: \\n{0}\\n\\nAPI Key: \\n{1}\\n\\nHelp URL: \\n{2}\\n\\nService ID: \\n{3}\\n\\n\".format(service_url, api_key, help_url, service_id))"
   ]
  },
  {
   "cell_type": "markdown",
   "metadata": {},
   "source": [
    "### Create the REST Client for the service"
   ]
  },
  {
   "cell_type": "code",
   "execution_count": 59,
   "metadata": {},
   "outputs": [
    {
     "name": "stdout",
     "output_type": "stream",
     "text": [
      "Result: 333\n"
     ]
    }
   ],
   "source": [
    "import urllib2\n",
    "import json\n",
    "\n",
    "data = {\"Inputs\": {\"input1\": { \"ColumnNames\": [ \"a\", \"b\"],\n",
    "                                \"Values\": [[\"100\", \"233\"]] } }, # specified feature values\n",
    "        \"GlobalParameters\": {} }\n",
    "\n",
    "def runWebService(data, service_url, api_key):\n",
    "    body = json.dumps(data)\n",
    "    headers = {'Content-Type':'application/json', 'Authorization':('Bearer '+ api_key)}\n",
    "    req = urllib2.Request(service_url, body, headers) \n",
    "    try:\n",
    "        response = urllib2.urlopen(req)\n",
    "        result = json.loads(response.read())  # load json-formatted string response as dictionary\n",
    "        #print(result['Results']['output1']['value']['Values'][0][0]) # get the returned prediction\n",
    "        print(\"Result: {}\".format(result['Results']['output1']['value']['Values'][0][0]))\n",
    "    except urllib2.HTTPError, error:\n",
    "        print(\"The request failed with status code: \" + str(error.code))\n",
    "        print(error.info())\n",
    "        print(json.loads(error.read())) \n",
    "\n",
    "runWebService(data, service_url, api_key)"
   ]
  },
  {
   "cell_type": "code",
   "execution_count": null,
   "metadata": {},
   "outputs": [],
   "source": []
  }
 ],
 "metadata": {
  "kernelspec": {
   "display_name": "Python 2",
   "language": "python",
   "name": "python2"
  },
  "language_info": {
   "codemirror_mode": {
    "name": "ipython",
    "version": 2
   },
   "file_extension": ".py",
   "mimetype": "text/x-python",
   "name": "python",
   "nbconvert_exporter": "python",
   "pygments_lexer": "ipython2",
   "version": "2.7.14"
  }
 },
 "nbformat": 4,
 "nbformat_minor": 2
}
